{
  "nbformat": 4,
  "nbformat_minor": 0,
  "metadata": {
    "colab": {
      "name": "초보자를 위한 파이썬 200제.ipynb",
      "provenance": [],
      "collapsed_sections": [],
      "mount_file_id": "1uLvmLjNMV6nXwy0GKRJ3a4Jc-Uc-KYdG",
      "authorship_tag": "ABX9TyN2wQraW9oxjuWFBOESlFdz",
      "include_colab_link": true
    },
    "kernelspec": {
      "name": "python3",
      "display_name": "Python 3"
    },
    "language_info": {
      "name": "python"
    }
  },
  "cells": [
    {
      "cell_type": "markdown",
      "metadata": {
        "id": "view-in-github",
        "colab_type": "text"
      },
      "source": [
        "<a href=\"https://colab.research.google.com/github/brotherhodu/Study/blob/main/%EC%B4%88%EB%B3%B4%EC%9E%90%EB%A5%BC_%EC%9C%84%ED%95%9C_%ED%8C%8C%EC%9D%B4%EC%8D%AC_200%EC%A0%9C.ipynb\" target=\"_parent\"><img src=\"https://colab.research.google.com/assets/colab-badge.svg\" alt=\"Open In Colab\"/></a>"
      ]
    },
    {
      "cell_type": "markdown",
      "metadata": {
        "id": "bcccfOQ9BIgo"
      },
      "source": [
        "## Part1. Python 프로그래밍 첫발 내딛기\n"
      ]
    },
    {
      "cell_type": "code",
      "metadata": {
        "colab": {
          "base_uri": "https://localhost:8080/"
        },
        "id": "k7rl6ypSEEzV",
        "outputId": "64431aa3-0e8b-4998-e212-b03246f5ff54"
      },
      "source": [
        "#002. 텍스트 에디터로 프로그래밍 하기\n",
        "\n",
        "print(\"안녕하세요\")\n",
        "a=1\n",
        "b=2\n",
        "print(a+b)"
      ],
      "execution_count": null,
      "outputs": [
        {
          "output_type": "stream",
          "text": [
            "안녕하세요\n",
            "3\n"
          ],
          "name": "stdout"
        }
      ]
    },
    {
      "cell_type": "code",
      "metadata": {
        "colab": {
          "base_uri": "https://localhost:8080/"
        },
        "id": "rit2HnQRErAx",
        "outputId": "d3806143-d71b-4566-9be4-43993f6cb1e0"
      },
      "source": [
        "#003. 변수명 만들기\n",
        "_myname = 'dongwook'\n",
        "my_name = 'dwnam'\n",
        "import keyword\n",
        "keyword.kwlist"
      ],
      "execution_count": null,
      "outputs": [
        {
          "output_type": "execute_result",
          "data": {
            "text/plain": [
              "['False',\n",
              " 'None',\n",
              " 'True',\n",
              " 'and',\n",
              " 'as',\n",
              " 'assert',\n",
              " 'async',\n",
              " 'await',\n",
              " 'break',\n",
              " 'class',\n",
              " 'continue',\n",
              " 'def',\n",
              " 'del',\n",
              " 'elif',\n",
              " 'else',\n",
              " 'except',\n",
              " 'finally',\n",
              " 'for',\n",
              " 'from',\n",
              " 'global',\n",
              " 'if',\n",
              " 'import',\n",
              " 'in',\n",
              " 'is',\n",
              " 'lambda',\n",
              " 'nonlocal',\n",
              " 'not',\n",
              " 'or',\n",
              " 'pass',\n",
              " 'raise',\n",
              " 'return',\n",
              " 'try',\n",
              " 'while',\n",
              " 'with',\n",
              " 'yield']"
            ]
          },
          "metadata": {
            "tags": []
          },
          "execution_count": 6
        }
      ]
    },
    {
      "cell_type": "code",
      "metadata": {
        "id": "l2z6ga-WyZJd"
      },
      "source": [
        "#004. 변수에 값 대입하기\n",
        "\n",
        "number1 = 1\n",
        "pi = 3.14\n",
        "flag = True\n",
        "char = 'x'\n",
        "chars = 'I love Python'"
      ],
      "execution_count": null,
      "outputs": []
    },
    {
      "cell_type": "code",
      "metadata": {
        "colab": {
          "base_uri": "https://localhost:8080/"
        },
        "id": "MPKodXdPywIg",
        "outputId": "73aa4067-4a24-4a57-8fd4-808ca4cc2384"
      },
      "source": [
        "#005. 주석 처리하기(#)\n",
        "\n",
        "\"\"\"a=1\n",
        "b=5\n",
        "print(a+b)\"\"\"\n",
        "a=2\n",
        "b=6\n",
        "print(a+b)"
      ],
      "execution_count": null,
      "outputs": [
        {
          "output_type": "stream",
          "text": [
            "8\n"
          ],
          "name": "stdout"
        }
      ]
    },
    {
      "cell_type": "code",
      "metadata": {
        "colab": {
          "base_uri": "https://localhost:8080/"
        },
        "id": "qecimaj6zBLd",
        "outputId": "c65fd857-7390-49e1-a373-cb4ecc530e31"
      },
      "source": [
        "#006. 자료형 개념 배우기\n",
        "\n",
        "str_data = \"안녕하세요\"\n",
        "str_data2 = 'Hello world'\n",
        "print(str_data)\n",
        "str_data2\n",
        "\n",
        "complex_data = 1+5j # 복소수 선언: 파이썬에서 허수부는 j로 표현한다는 것!\n",
        "\n",
        "list_data = [1,2,3]\n",
        "tuple_data = (1,2,3)  # tuple은 요소값을 변경할 수 없다는 점에서 list와는 다르다. \n",
        "dict_data = {0:'False', 1:'True'}"
      ],
      "execution_count": null,
      "outputs": [
        {
          "output_type": "stream",
          "text": [
            "안녕하세요\n"
          ],
          "name": "stdout"
        }
      ]
    },
    {
      "cell_type": "code",
      "metadata": {
        "colab": {
          "base_uri": "https://localhost:8080/"
        },
        "id": "oxEUNdBpzPB2",
        "outputId": "ff275b37-9656-43ee-a129-6a9c8a6d6564"
      },
      "source": [
        "#007. 자료형 출력 개념 배우기(print)\n",
        "\n",
        "list_data = ['a', 'b', 'c']\n",
        "dict_data = {'a':97, 'b':98}\n",
        "print(list_data[2])\n",
        "print(dict_data['a'])\n",
        "\n",
        "print('#', end = \"\")  # print 후에 줄바꿈을 하지 않는 방법\n",
        "print('#')"
      ],
      "execution_count": null,
      "outputs": [
        {
          "output_type": "stream",
          "text": [
            "c\n",
            "97\n",
            "##\n"
          ],
          "name": "stdout"
        }
      ]
    },
    {
      "cell_type": "code",
      "metadata": {
        "colab": {
          "base_uri": "https://localhost:8080/"
        },
        "id": "A7L54tSy1F6d",
        "outputId": "18f8519b-4ca2-44fd-a0c0-8dfae479fe8a"
      },
      "source": [
        "# 008. 들여쓰기 개념 배우기\n",
        "\n",
        "# 파이썬은 다른 프로그래밍 언어와 달리 제어문, 함수, 클래스에서 실행 코드 부분을 {}으로 감싸주는 것이 없다. 대신 들여쓰기로 괄호를 대신한다. \n",
        "# 제어문이나 함수이름, 클래스 이름 뒤에 콜론(':')으로 제어문, 함수, 클래스 이름의 끝을 표시하며 : 다음에 실행코드를 작성한다. \n",
        "\n",
        "listdata = ['a', 'b', 'c']\n",
        "if 'a' in listdata:\n",
        "  print('a가 listdata에 있습니다.')  # : 뒤의 실행코드는 모두 들여쓰기 간격이 동일해야 한다. \n",
        "  print(listdata)\n",
        "else:\n",
        "  print('a가 listdata에 존재하지 않습니다.')\n",
        "\n"
      ],
      "execution_count": null,
      "outputs": [
        {
          "output_type": "stream",
          "text": [
            "a가 listdata에 있습니다.\n",
            "['a', 'b', 'c']\n"
          ],
          "name": "stdout"
        }
      ]
    },
    {
      "cell_type": "code",
      "metadata": {
        "colab": {
          "base_uri": "https://localhost:8080/"
        },
        "id": "WVOWPlFq2f9Y",
        "outputId": "5ef2e82e-358b-45df-a974-8d9dac1645b9"
      },
      "source": [
        "# 009. if문 개념 배우기 (if ~ else)\n",
        "\n",
        "x=1\n",
        "y=2\n",
        "if x>=y:\n",
        "  print('x가 y보다 크거나 같다.')\n",
        "else:\n",
        "  print('x가 y보다 작다.')"
      ],
      "execution_count": null,
      "outputs": [
        {
          "output_type": "stream",
          "text": [
            "x가 y보다 작다.\n"
          ],
          "name": "stdout"
        }
      ]
    },
    {
      "cell_type": "code",
      "metadata": {
        "colab": {
          "base_uri": "https://localhost:8080/"
        },
        "id": "yk5lYY1y3b0N",
        "outputId": "23078446-03f6-4eb5-f4ec-ecc52980cd95"
      },
      "source": [
        "# 010. if문 개념 배우기 (if~elif)\n",
        "\n",
        "x=3\n",
        "y=2\n",
        "if x>y:\n",
        "  print('x가 y보다 크다.')\n",
        "elif x<y:\n",
        "  print('x가 y보다 작다')\n",
        "else:\n",
        "  print('x와 y가 같다.')"
      ],
      "execution_count": null,
      "outputs": [
        {
          "output_type": "stream",
          "text": [
            "x가 y보다 크다.\n"
          ],
          "name": "stdout"
        }
      ]
    },
    {
      "cell_type": "code",
      "metadata": {
        "id": "ne4_AKl637Y_",
        "colab": {
          "base_uri": "https://localhost:8080/"
        },
        "outputId": "522c1e57-24b3-4936-a8df-e59e7c64091a"
      },
      "source": [
        "# 011. for 문 개념 배우기 (for)\n",
        "\n",
        "scope = [1,2,3,4,5]\n",
        "for x in scope:\n",
        "  print(x)"
      ],
      "execution_count": null,
      "outputs": [
        {
          "output_type": "stream",
          "text": [
            "1\n",
            "2\n",
            "3\n",
            "4\n",
            "5\n"
          ],
          "name": "stdout"
        }
      ]
    },
    {
      "cell_type": "code",
      "metadata": {
        "colab": {
          "base_uri": "https://localhost:8080/"
        },
        "id": "7W4um8c2_ReH",
        "outputId": "38b65203-e020-4f1e-c44d-ece97577242b"
      },
      "source": [
        "str='abcdef'\n",
        "for c in str:\n",
        "  print(c)"
      ],
      "execution_count": null,
      "outputs": [
        {
          "output_type": "stream",
          "text": [
            "a\n",
            "b\n",
            "c\n",
            "d\n",
            "e\n",
            "f\n"
          ],
          "name": "stdout"
        }
      ]
    },
    {
      "cell_type": "code",
      "metadata": {
        "colab": {
          "base_uri": "https://localhost:8080/"
        },
        "id": "roHwwBKb_XRi",
        "outputId": "c2816c2f-e45b-43f4-ebaa-6974ae391644"
      },
      "source": [
        "ascii_codes = {'a':97, 'b':98, 'c':99}\n",
        "for i in ascii_codes:\n",
        "  print(i)"
      ],
      "execution_count": null,
      "outputs": [
        {
          "output_type": "stream",
          "text": [
            "a\n",
            "b\n",
            "c\n"
          ],
          "name": "stdout"
        }
      ]
    },
    {
      "cell_type": "code",
      "metadata": {
        "colab": {
          "base_uri": "https://localhost:8080/"
        },
        "id": "X7uruV7stWrN",
        "outputId": "8fcd3c38-63df-4220-d716-02b650020180"
      },
      "source": [
        "# 012. for 문 개념 배우기 (for ~ continue ~ break)\n",
        "\n",
        "scope = [1,2,3,4,5]\n",
        "for x in scope:\n",
        "  print(x)\n",
        "  if x < 3:\n",
        "    continue\n",
        "  else:\n",
        "    break"
      ],
      "execution_count": null,
      "outputs": [
        {
          "output_type": "stream",
          "text": [
            "1\n",
            "2\n",
            "3\n"
          ],
          "name": "stdout"
        }
      ]
    },
    {
      "cell_type": "code",
      "metadata": {
        "colab": {
          "base_uri": "https://localhost:8080/"
        },
        "id": "TYuJ67pttrC-",
        "outputId": "dbcc1027-f96f-43be-d9d1-358d44abfc6f"
      },
      "source": [
        "for x in scope:\n",
        "  print(x)\n",
        "  if x>=3:\n",
        "    break"
      ],
      "execution_count": null,
      "outputs": [
        {
          "output_type": "stream",
          "text": [
            "1\n",
            "2\n",
            "3\n"
          ],
          "name": "stdout"
        }
      ]
    },
    {
      "cell_type": "code",
      "metadata": {
        "colab": {
          "base_uri": "https://localhost:8080/"
        },
        "id": "5NJU53nWt9gT",
        "outputId": "129324ad-7cc1-43ae-c96d-ef2e2a7a622e"
      },
      "source": [
        "# 013. for 문 배우기 (for ~ else)\n",
        "\n",
        "scope = [1,2,3]\n",
        "for x in scope:\n",
        "  print(x)\n",
        "  #break\n",
        "else: \n",
        "  print('Perfect')"
      ],
      "execution_count": null,
      "outputs": [
        {
          "output_type": "stream",
          "text": [
            "1\n",
            "2\n",
            "3\n",
            "Perfect\n"
          ],
          "name": "stdout"
        }
      ]
    },
    {
      "cell_type": "code",
      "metadata": {
        "colab": {
          "base_uri": "https://localhost:8080/"
        },
        "id": "_5mJ98rhvXEO",
        "outputId": "0a71a5b4-27c3-4f75-e9fa-3ab67c14e4be"
      },
      "source": [
        "# 014. while문 개념 배우기 (while ~ continue ~ break)\n",
        "\n",
        "x = 0\n",
        "while x < 10:\n",
        "  x = x+1\n",
        "  if x < 3:\n",
        "    continue\n",
        "  print(x)\n",
        "  if x > 7:\n",
        "    break"
      ],
      "execution_count": null,
      "outputs": [
        {
          "output_type": "stream",
          "text": [
            "3\n",
            "4\n",
            "5\n",
            "6\n",
            "7\n",
            "8\n"
          ],
          "name": "stdout"
        }
      ]
    },
    {
      "cell_type": "code",
      "metadata": {
        "colab": {
          "base_uri": "https://localhost:8080/"
        },
        "id": "eCpkqJQOwvYr",
        "outputId": "5031ad04-b6f8-4810-c048-211d2a63c9bc"
      },
      "source": [
        "x=1\n",
        "total=0\n",
        "while 1:\n",
        "  total = total +x\n",
        "  if total > 100000:\n",
        "    print(x)\n",
        "    print(total)\n",
        "    break\n",
        "  else: x = x+1"
      ],
      "execution_count": null,
      "outputs": [
        {
          "output_type": "stream",
          "text": [
            "447\n",
            "100128\n"
          ],
          "name": "stdout"
        }
      ]
    },
    {
      "cell_type": "code",
      "metadata": {
        "id": "lmdK2UhyxQKn"
      },
      "source": [
        "# 015. None 개념 배우기\n",
        "\n",
        "val = None\n",
        "condition = 1\n",
        "if condition == 1:\n",
        "  val = [1,2,3]\n",
        "else:\n",
        "  val = 'I love Python'"
      ],
      "execution_count": null,
      "outputs": []
    },
    {
      "cell_type": "markdown",
      "metadata": {
        "id": "NBLmoHQnBbam"
      },
      "source": [
        "## Part2. Python 프로그래밍 기초 다지기"
      ]
    },
    {
      "cell_type": "code",
      "metadata": {
        "colab": {
          "base_uri": "https://localhost:8080/"
        },
        "id": "JB-aeucVnkdQ",
        "outputId": "71e21245-2572-4418-b76a-92da8ce718f2"
      },
      "source": [
        "# 016. 정수형 자료 이해하기\n",
        "\n",
        "int_data = 10\n",
        "bin_data = 0b10\n",
        "oct_data = 0o10\n",
        "hex_data = 0x10\n",
        "long_data = 1234567890123456789\n",
        "print(int_data)\n",
        "print(bin_data)\n",
        "print(oct_data)\n",
        "print(hex_data)\n",
        "print(long_data)\n"
      ],
      "execution_count": null,
      "outputs": [
        {
          "output_type": "stream",
          "text": [
            "10\n",
            "2\n",
            "8\n",
            "16\n",
            "1234567890123456789\n"
          ],
          "name": "stdout"
        }
      ]
    },
    {
      "cell_type": "code",
      "metadata": {
        "colab": {
          "base_uri": "https://localhost:8080/"
        },
        "id": "_dd6_kP1ox_9",
        "outputId": "709080cb-3797-4dd7-e272-b75b9a8d8ef7"
      },
      "source": [
        "# 017. 실수형 자료 이해하기\n",
        "\n",
        "f1 = 1.0\n",
        "f2 = 3.14\n",
        "f3 = 1.56e3\n",
        "f4 = -0.7e-4\n",
        "print(f1)\n",
        "print(f2)\n",
        "print(f3)\n",
        "print(f4)"
      ],
      "execution_count": null,
      "outputs": [
        {
          "output_type": "stream",
          "text": [
            "1.0\n",
            "3.14\n",
            "1560.0\n",
            "-7e-05\n"
          ],
          "name": "stdout"
        }
      ]
    },
    {
      "cell_type": "code",
      "metadata": {
        "colab": {
          "base_uri": "https://localhost:8080/"
        },
        "id": "SyosOhM2p3zU",
        "outputId": "581eaaf1-408d-40c1-b0ff-baefecb197f3"
      },
      "source": [
        "# 018. 복소수형 자료 이해하기\n",
        "\n",
        "c1 = 1+7j\n",
        "print(c1.real); print(c1.imag)\n",
        "c2 = complex(2,3)\n",
        "print(c2)"
      ],
      "execution_count": null,
      "outputs": [
        {
          "output_type": "stream",
          "text": [
            "1.0\n",
            "7.0\n",
            "(2+3j)\n"
          ],
          "name": "stdout"
        }
      ]
    },
    {
      "cell_type": "code",
      "metadata": {
        "colab": {
          "base_uri": "https://localhost:8080/"
        },
        "id": "14ELjsCRqUL5",
        "outputId": "8be376b6-9f71-4e5d-beda-e124407ddc3d"
      },
      "source": [
        "# 019. 대입 연산자 이해하기 (=)\n",
        "\n",
        "a = 1\n",
        "b = 2\n",
        "ret = a+b\n",
        "print('a와b를 더한 값은', end = '')\n",
        "print(ret, end = '')\n",
        "print('입니다')"
      ],
      "execution_count": null,
      "outputs": [
        {
          "output_type": "stream",
          "text": [
            "a와b를 더한 값은3입니다\n"
          ],
          "name": "stdout"
        }
      ]
    },
    {
      "cell_type": "code",
      "metadata": {
        "id": "yEf7AskArAJL"
      },
      "source": [
        "# 020. 사칙 연산자 이해하기 (+,-,*,/,**)\n",
        "\n",
        "a = 2\n",
        "b = 4\n",
        "ret1 = a+b\n",
        "ret2 = a-b\n",
        "ret3 = a*b\n",
        "ret4 = a/b\n",
        "ret5 = a**b\n",
        "ret6 = a+a*b/a\n",
        "ret7 = (a+b)*(a-b)\n",
        "ret8 = a*b**a"
      ],
      "execution_count": null,
      "outputs": []
    },
    {
      "cell_type": "code",
      "metadata": {
        "colab": {
          "base_uri": "https://localhost:8080/"
        },
        "id": "FftwSW8B5h_9",
        "outputId": "1fae4d0a-3595-4624-8ab1-5dacd482d3af"
      },
      "source": [
        "# 021. 연산자 축약 이해하기\n",
        "\n",
        "a = 0\n",
        "a += 1\n",
        "a -= 5\n",
        "a *= 2\n",
        "a /= 4\n",
        "\n",
        "print(a)"
      ],
      "execution_count": null,
      "outputs": [
        {
          "output_type": "stream",
          "text": [
            "-2.0\n"
          ],
          "name": "stdout"
        }
      ]
    },
    {
      "cell_type": "code",
      "metadata": {
        "colab": {
          "base_uri": "https://localhost:8080/"
        },
        "id": "kRoPRTbj64vT",
        "outputId": "d52f6c8a-7b10-4940-d4f0-cd041f3c7c46"
      },
      "source": [
        "# 022. True와 False 이해하기\n",
        "\n",
        "a = True\n",
        "b = False\n",
        "print(a == 1)\n",
        "print(b != 0)"
      ],
      "execution_count": null,
      "outputs": [
        {
          "output_type": "stream",
          "text": [
            "True\n",
            "False\n"
          ],
          "name": "stdout"
        }
      ]
    },
    {
      "cell_type": "code",
      "metadata": {
        "colab": {
          "base_uri": "https://localhost:8080/"
        },
        "id": "HNWyqd_4EGQ8",
        "outputId": "dfa41663-b90d-4ad2-c6a4-9152fbd92e7e"
      },
      "source": [
        "# 023. 관계 연산자 이해하기 (==, !=, <, <=, >, >=)\n",
        "\n",
        "x = 1; y = 2\n",
        "str1 = 'abc'; str2 = 'python'\n",
        "print(x == y)\n",
        "print(x != y)\n",
        "print(str1 == str2)\n",
        "print(str2 == 'python')\n",
        "print(str1 < str2)"
      ],
      "execution_count": null,
      "outputs": [
        {
          "output_type": "stream",
          "text": [
            "False\n",
            "True\n",
            "False\n",
            "True\n",
            "True\n"
          ],
          "name": "stdout"
        }
      ]
    },
    {
      "cell_type": "code",
      "metadata": {
        "colab": {
          "base_uri": "https://localhost:8080/"
        },
        "id": "ko3VrdtwFspT",
        "outputId": "5953bffd-8b8a-42e4-e3f0-093df0907746"
      },
      "source": [
        "# 024. 논리 연산자 이해하기 (and, or, not)\n",
        "\n",
        "bool1 = True; bool2 = False; bool3 = True; bool4 = False\n",
        "print(bool1 and bool2)\n",
        "print(bool1 and bool3)\n",
        "print(bool2 or bool3)\n",
        "print(bool2 or bool4)\n",
        "print(not bool1)\n",
        "print(not bool2)"
      ],
      "execution_count": null,
      "outputs": [
        {
          "output_type": "stream",
          "text": [
            "False\n",
            "True\n",
            "True\n",
            "False\n",
            "False\n",
            "True\n"
          ],
          "name": "stdout"
        }
      ]
    },
    {
      "cell_type": "code",
      "metadata": {
        "colab": {
          "base_uri": "https://localhost:8080/"
        },
        "id": "pYLN0uFrIOeK",
        "outputId": "d406e32b-daf3-401d-9c1d-c808f537e7b5"
      },
      "source": [
        "# 025. 비트 연산자 이해하기 (&, |, ~, ^, >>, <<)\n",
        "\n",
        "bit1 = 0x61\n",
        "bit2 = 0x62\n",
        "print(hex(bit1 & bit2))\n",
        "print(hex(bit1 | bit2))\n",
        "print(hex(bit1 ^ bit2))\n",
        "print(hex(bit1 >> 1))\n",
        "print(hex(bit1 << 2))"
      ],
      "execution_count": null,
      "outputs": [
        {
          "output_type": "stream",
          "text": [
            "0x60\n",
            "0x63\n",
            "0x3\n",
            "0x30\n",
            "0x184\n"
          ],
          "name": "stdout"
        }
      ]
    },
    {
      "cell_type": "code",
      "metadata": {
        "id": "r61M3N0ZL1M3"
      },
      "source": [
        "# 026. 시퀀스 자료형 이해하기\n",
        "\n",
        "strdata = 'abcde'\n",
        "listdata = [1,[2,3], '안녕']\n",
        "tupledata = (100,200,300)"
      ],
      "execution_count": null,
      "outputs": []
    },
    {
      "cell_type": "code",
      "metadata": {
        "colab": {
          "base_uri": "https://localhost:8080/"
        },
        "id": "Jg614ws4SplT",
        "outputId": "d78fcc0f-ea61-4056-cb95-1ea99ac47bc8"
      },
      "source": [
        "# 027. 시퀀스 자료 인덱싱 이해하기\n",
        "\n",
        "strdata = 'Time is money!!'\n",
        "listdata = [1,2, [1,2,3]]\n",
        "print(strdata[5])\n",
        "print(strdata[-2])\n",
        "print(listdata[0])\n",
        "print(listdata[-1])\n",
        "print(listdata[2][-1])"
      ],
      "execution_count": null,
      "outputs": [
        {
          "output_type": "stream",
          "text": [
            "i\n",
            "!\n",
            "1\n",
            "[1, 2, 3]\n",
            "3\n"
          ],
          "name": "stdout"
        }
      ]
    },
    {
      "cell_type": "code",
      "metadata": {
        "colab": {
          "base_uri": "https://localhost:8080/"
        },
        "id": "BacmGgZoTtmr",
        "outputId": "f6dd877e-4a21-4ba3-cf73-21f4fb9c0b89"
      },
      "source": [
        "# 028. 시퀀스 자료 슬라이싱 이해하기\n",
        "\n",
        "strdata = 'Time is money!!'\n",
        "print(strdata[1:5])\n",
        "print(strdata[:7])\n",
        "print(strdata[9:])\n",
        "print(strdata[:-3])\n",
        "print(strdata[-3:])\n",
        "print(strdata[:])\n",
        "print(strdata[::2])"
      ],
      "execution_count": null,
      "outputs": [
        {
          "output_type": "stream",
          "text": [
            "ime \n",
            "Time is\n",
            "oney!!\n",
            "Time is mone\n",
            "y!!\n",
            "Time is money!!\n",
            "Tm smny!\n"
          ],
          "name": "stdout"
        }
      ]
    },
    {
      "cell_type": "code",
      "metadata": {
        "colab": {
          "base_uri": "https://localhost:8080/"
        },
        "id": "AGDQSH4ZV6EI",
        "outputId": "66ef8fe8-ba28-4520-dc9f-4e96763ed168"
      },
      "source": [
        "# 029. 시퀀스 자료 연결 이해하기(+)\n",
        "\n",
        "strdata1 = 'I love '; strdata2 = 'Python'; strdata3 = 'you'\n",
        "listdata1 = [1,2,3]; listdata2 = [4,5,6]\n",
        "print(strdata1 + strdata2)\n",
        "print(strdata1 + strdata3)\n",
        "print(listdata1 + listdata2) "
      ],
      "execution_count": null,
      "outputs": [
        {
          "output_type": "stream",
          "text": [
            "I love Python\n",
            "I love you\n",
            "[1, 2, 3, 4, 5, 6]\n"
          ],
          "name": "stdout"
        }
      ]
    },
    {
      "cell_type": "code",
      "metadata": {
        "colab": {
          "base_uri": "https://localhost:8080/"
        },
        "id": "HFk8_AsUXdfV",
        "outputId": "234fe644-bba8-4913-f015-022089f32123"
      },
      "source": [
        "# 030. 시퀀스 자료 반복 이해하기(*)\n",
        "\n",
        "artist = 'BTS!'\n",
        "fan = 'ARMY'\n",
        "dispdata = fan + '들이 외칩니다.' + artist*3\n",
        "print(dispdata)"
      ],
      "execution_count": null,
      "outputs": [
        {
          "output_type": "stream",
          "text": [
            "ARMY들이 외칩니다.BTS!BTS!BTS!\n"
          ],
          "name": "stdout"
        }
      ]
    },
    {
      "cell_type": "code",
      "metadata": {
        "colab": {
          "base_uri": "https://localhost:8080/"
        },
        "id": "sDPuU_SG5pNU",
        "outputId": "20b68a2c-8157-4301-dcd3-4bf45b2a2208"
      },
      "source": [
        "# 031. 시퀀스 자료 크기 이해하기(len)\n",
        "\n",
        "strdata1 = 'I love python'\n",
        "strdata2 = '나는 파이썬을 사랑합니다'\n",
        "listdata = ['a','b','c',strdata1, strdata2]\n",
        "print(len(strdata1))\n",
        "print(len(strdata2))\n",
        "print(len(listdata))\n",
        "print(len(listdata[3]))"
      ],
      "execution_count": null,
      "outputs": [
        {
          "output_type": "stream",
          "text": [
            "13\n",
            "13\n",
            "5\n",
            "13\n"
          ],
          "name": "stdout"
        }
      ]
    },
    {
      "cell_type": "code",
      "metadata": {
        "colab": {
          "base_uri": "https://localhost:8080/"
        },
        "id": "tNhCcfbT6sYv",
        "outputId": "e90c5691-ac54-4f86-8940-a648962a196b"
      },
      "source": [
        "# 032. 멤버체크 이해하기 (in)\n",
        "\n",
        "listdata = [1,2,3,4]\n",
        "ret1 = 5 in listdata\n",
        "ret2 = 4 in listdata\n",
        "print(ret1); print(ret2)\n",
        "strdata = 'abcd'\n",
        "ret3 = 'c' in strdata\n",
        "ret4 = 'l' in strdata\n",
        "print(ret3); print(ret4)"
      ],
      "execution_count": null,
      "outputs": [
        {
          "output_type": "stream",
          "text": [
            "False\n",
            "True\n",
            "True\n",
            "False\n"
          ],
          "name": "stdout"
        }
      ]
    },
    {
      "cell_type": "code",
      "metadata": {
        "id": "AQ4rIarT7YI1"
      },
      "source": [
        "# 033. 문자열 이해하기\n",
        "\n",
        "strdata1 = '나는 파이썬 프로그래머다'\n",
        "strdata2 = 'You are a programmer'\n",
        "strdata3 = \"\"\"I love \n",
        "python. You love\n",
        "pyton too!\n",
        "\"\"\"\n",
        "strdata4 = \"My son's name is John\"\n",
        "strdata5 = '문자열 \"abc\"의 길이는 3입니다.'"
      ],
      "execution_count": null,
      "outputs": []
    },
    {
      "cell_type": "code",
      "metadata": {
        "colab": {
          "base_uri": "https://localhost:8080/"
        },
        "id": "OdXlfxtD734z",
        "outputId": "bc51dc7c-5891-4891-9486-a7c00615a1fa"
      },
      "source": [
        "# 034. 문자열 포맷팅 이해하기\n",
        "\n",
        "txt1 ='자바'; txt2 = '파이썬'\n",
        "num1 = 5; num2 = 10\n",
        "print('나는 %s보다 %s에 더 익숙합니다.' %(txt1, txt2))\n",
        "print('%s은 %s보다 %d배 더 쉽습니다.' %(txt2, txt1, num1))\n",
        "print('%d + %d =%d'%(num1, num2, num1+num2))\n",
        "print('작년 세계 경제 성장률은 전년에 비해 %d%% 포인트 증가했다.'%num1)\n",
        "\n",
        "# 명령 프롬프트에서 진행률을 화면의 동일한 라인에 표시하는 방법\n",
        "from time import sleep\n",
        "for i in range(100):\n",
        "  msg = '\\r진행률 %d%%'%(i+1)\n",
        "  print(''*len(msg), end = '')\n",
        "  print(msg, end = '')\n",
        "  sleep(0.1)"
      ],
      "execution_count": null,
      "outputs": [
        {
          "output_type": "stream",
          "text": [
            "나는 자바보다 파이썬에 더 익숙합니다.\n",
            "파이썬은 자바보다 5배 더 쉽습니다.\n",
            "5 + 10 =15\n",
            "작년 세계 경제 성장률은 전년에 비해 5% 포인트 증가했다.\n",
            "진행률 100%"
          ],
          "name": "stdout"
        }
      ]
    },
    {
      "cell_type": "code",
      "metadata": {
        "colab": {
          "base_uri": "https://localhost:8080/"
        },
        "id": "o2twdeyOHAXg",
        "outputId": "557ee4a2-c7cb-469f-ea13-a5c4f84ef986"
      },
      "source": [
        "# 035. 이스케이프 문자 이해하기\n",
        "\n",
        "print('나는 파이썬을 사랑합니다.\\n 파이썬은 자바보다 훨씬 쉽습니다.')\n",
        "print('Name: John Smith\\tSex: Male\\tAge: 22')\n",
        "print('이 문장은 화면폭에 비해 너무 길어 보기가 힘듭니다.\\\n",
        "그래서 \\\\Enter키를 이용해 문장을 다음줄과 연속되도록 했습니다.')\n",
        "print('작은따옴표(\\')와 큰 따옴표(\")는 문자열을 정의할 때 사용합니다.')"
      ],
      "execution_count": null,
      "outputs": [
        {
          "output_type": "stream",
          "text": [
            "나는 파이썬을 사랑합니다.\n",
            " 파이썬은 자바보다 훨씬 쉽습니다.\n",
            "Name: John Smith\tSex: Male\tAge: 22\n",
            "이 문장은 화면폭에 비해 너무 길어 보기가 힘듭니다.그래서 \\Enter키를 이용해 문장을 다음줄과 연속되도록 했습니다.\n",
            "작은따옴표(')와 큰 따옴표(\")는 문자열을 정의할 때 사용합니다.\n"
          ],
          "name": "stdout"
        }
      ]
    },
    {
      "cell_type": "code",
      "metadata": {
        "id": "DQNa53yeJKgi",
        "colab": {
          "base_uri": "https://localhost:8080/"
        },
        "outputId": "f3f973e9-1596-4618-c08d-0ccabc6b802d"
      },
      "source": [
        "# 036. 리스트 이해하기 ([])\n",
        "\n",
        "list1 = [1,2,3,4,5]\n",
        "list2 = ['a', 'b', 'c']\n",
        "list3 = [1,'a','abc',[1,2,3,4,5],['a','b','c']]\n",
        "list1[0] = 6\n",
        "\n",
        "print(list1)\n",
        "def myfunc():\n",
        "  print('안녕하세요')\n",
        "list4 = [1,2, myfunc]\n",
        "list4[2]()"
      ],
      "execution_count": null,
      "outputs": [
        {
          "output_type": "stream",
          "text": [
            "[6, 2, 3, 4, 5]\n",
            "안녕하세요\n"
          ],
          "name": "stdout"
        }
      ]
    },
    {
      "cell_type": "code",
      "metadata": {
        "colab": {
          "base_uri": "https://localhost:8080/"
        },
        "id": "c6obXDD5Lrf8",
        "outputId": "11a50bbc-9620-4f85-b144-a1ef98ade24e"
      },
      "source": [
        "# 037. 튜플 이해하기 (())\n",
        "\n",
        "tuple1 = (1,2,3,4,5)\n",
        "tuple2 = ('a','b','c')\n",
        "tuple3 = (1, 'a', 'abc', [1,2,3,4,5], ['a','b','c'])\n",
        "# tuple1[0] = 6\n",
        "\n",
        "def myfunc():\n",
        "  print('안녕하세요')\n",
        "\n",
        "tuple4 = (1,2, myfunc)\n",
        "tuple4[2]()"
      ],
      "execution_count": null,
      "outputs": [
        {
          "output_type": "stream",
          "text": [
            "안녕하세요\n"
          ],
          "name": "stdout"
        }
      ]
    },
    {
      "cell_type": "code",
      "metadata": {
        "colab": {
          "base_uri": "https://localhost:8080/"
        },
        "id": "jIxZKSbweoom",
        "outputId": "668f13eb-9759-40c9-9339-f4b0b263abd6"
      },
      "source": [
        "# 038. 사전 이해하기 ({})\n",
        "dict1 = {'a':1, 'b':2, 'c':3}\n",
        "print(dict1['a'])\n",
        "dict1['d'] = 4\n",
        "print(dict1)\n",
        "dict1['b'] = 7\n",
        "print(dict1)\n",
        "print(len(dict1))"
      ],
      "execution_count": null,
      "outputs": [
        {
          "output_type": "stream",
          "text": [
            "1\n",
            "{'a': 1, 'b': 2, 'c': 3, 'd': 4}\n",
            "{'a': 1, 'b': 7, 'c': 3, 'd': 4}\n",
            "4\n"
          ],
          "name": "stdout"
        }
      ]
    },
    {
      "cell_type": "code",
      "metadata": {
        "colab": {
          "base_uri": "https://localhost:8080/"
        },
        "id": "-bu1Vm7slxNA",
        "outputId": "4434bb4c-2613-4c08-fcad-aa1c2e4ef870"
      },
      "source": [
        "# 039. 함수 이해하기(def)\n",
        "\n",
        "def add_number(n1,n2):\n",
        "  ret = n1+n2\n",
        "  return ret\n",
        "\n",
        "def add_txt(t1, t2):\n",
        "  print(t1+t2)\n",
        "\n",
        "ans = add_number(10,15)\n",
        "print(ans)\n",
        "text1 = '대한민국~'\n",
        "text2 = '만세!!'\n",
        "add_txt(text1, text2)"
      ],
      "execution_count": null,
      "outputs": [
        {
          "output_type": "stream",
          "text": [
            "25\n",
            "대한민국~만세!!\n"
          ],
          "name": "stdout"
        }
      ]
    },
    {
      "cell_type": "code",
      "metadata": {
        "colab": {
          "base_uri": "https://localhost:8080/"
        },
        "id": "iOKZtlwonZYw",
        "outputId": "8e2b4170-cafa-4b52-8828-992a209e15a1"
      },
      "source": [
        "# 040. 함수 인자 이해하기\n",
        "\n",
        "def add_txt(t1, t2 = '파이썬'):\n",
        "  print(t1 + ':' + t2)\n",
        "\n",
        "add_txt('베스트')\n",
        "add_txt(t2 = '대한민국', t1 = '1등')\n",
        "\n",
        "def func1(*args):\n",
        "  print(args)\n",
        "\n",
        "def func2(width, height, **kwargs):\n",
        "  print(kwargs)\n",
        "\n",
        "func1()\n",
        "func1(3,5,1,5)\n",
        "func2(10,20)\n",
        "func2(10,20, depth = 50, color = 'blue')"
      ],
      "execution_count": null,
      "outputs": [
        {
          "output_type": "stream",
          "text": [
            "베스트:파이썬\n",
            "1등:대한민국\n",
            "()\n",
            "(3, 5, 1, 5)\n",
            "{}\n",
            "{'depth': 50, 'color': 'blue'}\n"
          ],
          "name": "stdout"
        }
      ]
    },
    {
      "cell_type": "code",
      "metadata": {
        "colab": {
          "base_uri": "https://localhost:8080/"
        },
        "id": "b3pkENuToCIe",
        "outputId": "a3b83483-2452-453f-f66c-d693cd5f16ee"
      },
      "source": [
        "# 041. 지역변수와 전역변수 이해하기 (global)\n",
        "# 함수 내에서 선언하면 지역변수, 함수 밖에서 선언하면 전역변수\n",
        "\n",
        "param = 10\n",
        "strdata = '전역변수'\n",
        "\n",
        "def func1():\n",
        "  strdata = '지역변수'\n",
        "  print(strdata)\n",
        "\n",
        "def func2(param):\n",
        "  param = 1\n",
        "\n",
        "def func3():\n",
        "  global param\n",
        "  param = 50\n",
        "\n",
        "func1()\n",
        "print(strdata)\n",
        "print(param)\n",
        "func2(param)\n",
        "print(param)\n",
        "func3()\n",
        "print(param)"
      ],
      "execution_count": null,
      "outputs": [
        {
          "output_type": "stream",
          "text": [
            "지역변수\n",
            "전역변수\n",
            "10\n",
            "10\n",
            "50\n"
          ],
          "name": "stdout"
        }
      ]
    },
    {
      "cell_type": "code",
      "metadata": {
        "colab": {
          "base_uri": "https://localhost:8080/"
        },
        "id": "OnnHx4ArsJvr",
        "outputId": "db5f36bc-3eea-42a5-d8d9-5cf2d0c8686b"
      },
      "source": [
        "# 042. 함수 리턴값 이해하기 (return)\n",
        "\n",
        "def reverse(x,y,z):\n",
        "  return z,y,x\n",
        "\n",
        "ret = reverse(1,2,3)\n",
        "print(ret)\n",
        "\n",
        "r1, r2, r3 = reverse('a','b','c')\n",
        "print(r1); print(r2); print(r3)"
      ],
      "execution_count": null,
      "outputs": [
        {
          "output_type": "stream",
          "text": [
            "(3, 2, 1)\n",
            "c\n",
            "b\n",
            "a\n"
          ],
          "name": "stdout"
        }
      ]
    },
    {
      "cell_type": "code",
      "metadata": {
        "id": "HqTrNutnTrPs"
      },
      "source": [
        "# working directofy 설정\n",
        "\n",
        "import os\n",
        "os.chdir('/content/drive/MyDrive/공부/코딩공부/초보자를 위한 파이썬 200제')"
      ],
      "execution_count": null,
      "outputs": []
    },
    {
      "cell_type": "code",
      "metadata": {
        "colab": {
          "base_uri": "https://localhost:8080/"
        },
        "id": "CzxlYbUoTZHM",
        "outputId": "a8c9d19c-6c83-49e1-a5b7-2828ff3ee221"
      },
      "source": [
        "!pwd"
      ],
      "execution_count": null,
      "outputs": [
        {
          "output_type": "stream",
          "text": [
            "/content/drive/MyDrive/공부/코딩공부/초보자를 위한 파이썬 200제\n"
          ],
          "name": "stdout"
        }
      ]
    },
    {
      "cell_type": "code",
      "metadata": {
        "colab": {
          "base_uri": "https://localhost:8080/"
        },
        "id": "9XGuRgAYUG84",
        "outputId": "1424747e-a6ef-4966-c11c-d2d68300bc5e"
      },
      "source": [
        "# 043. 파이썬 모듈 이해하기\n",
        "\n",
        "import time\n",
        "\n",
        "print('5초간 프로그램을 정지합니다.')\n",
        "time.sleep(5)\n",
        "print('5초가 지나갔습니다.')"
      ],
      "execution_count": null,
      "outputs": [
        {
          "output_type": "stream",
          "text": [
            "5초간 프로그램을 정지합니다.\n",
            "5초가 지나갔습니다.\n"
          ],
          "name": "stdout"
        }
      ]
    },
    {
      "cell_type": "code",
      "metadata": {
        "id": "s47OI3vLUXx2"
      },
      "source": [
        "# 043-1. 파이썬 모듈 만들기\n",
        "\n",
        "def add_txt(t1, t2):\n",
        "  return t1 + ':' + t2\n",
        "\n",
        "def reverse(x,y,z):\n",
        "  return z,y,x\n",
        "\n",
        "# 위와 같이 모듈을 만들고 mylib.py 파일로 디렉토리에 저장하였음"
      ],
      "execution_count": null,
      "outputs": []
    },
    {
      "cell_type": "code",
      "metadata": {
        "colab": {
          "base_uri": "https://localhost:8080/"
        },
        "id": "Vwg_3fgwUq68",
        "outputId": "2cc73660-39ce-4439-a118-d7fc2d7eccd4"
      },
      "source": [
        "# 모듈 불러와서 실행하기\n",
        "\n",
        "import mylib  # 해당 mylib.py 파일을 워킹디렉토리에 넣으니까 import 됨\n",
        "\n",
        "ret1 = mylib.add_txt('대한민국', '1등')\n",
        "ret2 = mylib.reverse(1,2,3,)\n",
        "print(ret1)\n",
        "print(ret2)"
      ],
      "execution_count": null,
      "outputs": [
        {
          "output_type": "stream",
          "text": [
            "대한민국:1등\n",
            "(3, 2, 1)\n"
          ],
          "name": "stdout"
        }
      ]
    },
    {
      "cell_type": "code",
      "metadata": {
        "colab": {
          "base_uri": "https://localhost:8080/"
        },
        "id": "uLXC6ct5UtzZ",
        "outputId": "02f5ba9c-4956-40f3-de4d-cb1318a35263"
      },
      "source": [
        "# 044. 파이썬 패키지 이해하기\n",
        "# 파이썬 모듈을 계층적인 디렉토리 형태로 구성한 것을 파이썬 패키지라 한다.\n",
        "\n",
        "import mypackage.mylib  # 소스코드가 있는 워킹디렉토리에 mypackage 디렉토리 만들었음. (내용이 version=1.0 인 __init__.py 파일이 패키지 내에 있어야 함)\n",
        "\n",
        "ret1 = mypackage.mylib.add_txt('대한민국','1등')\n",
        "ret2 = mypackage.mylib.reverse(1,2,3)\n",
        "print(ret1)\n",
        "print(ret2)"
      ],
      "execution_count": null,
      "outputs": [
        {
          "output_type": "stream",
          "text": [
            "대한민국:1등\n",
            "(3, 2, 1)\n"
          ],
          "name": "stdout"
        }
      ]
    },
    {
      "cell_type": "code",
      "metadata": {
        "colab": {
          "base_uri": "https://localhost:8080/"
        },
        "id": "6dj2goI1VPAl",
        "outputId": "3a1f5afa-7a0b-4496-a581-c832218751d8"
      },
      "source": [
        "# 045. 파이썬 모듈 임포트 이해하기(import)\n",
        "\n",
        "import time  # 파이썬 내장 모듈인 time을 임포트\n",
        "import mylib  # 내가 작성한 mylib 모듈을 임포트\n",
        "import mypackage.mylib  # mypackage에 있는 mylib 모듈을 임포트\n",
        "\n",
        "time.sleep(1)\n",
        "mylib.add_txt('나는', '파이썬이다')\n",
        "mypackage.mylib.reverse(1,2,3)"
      ],
      "execution_count": null,
      "outputs": [
        {
          "output_type": "execute_result",
          "data": {
            "text/plain": [
              "(3, 2, 1)"
            ]
          },
          "metadata": {
            "tags": []
          },
          "execution_count": 40
        }
      ]
    },
    {
      "cell_type": "code",
      "metadata": {
        "colab": {
          "base_uri": "https://localhost:8080/"
        },
        "id": "DX1OR6Sfb2TK",
        "outputId": "75d4af0c-c818-4497-823c-6d12e8d5365a"
      },
      "source": [
        "# 046. 파이썬 모듈 임포트 이해하기2 (from ~ import)\n",
        "\n",
        "from time import sleep\n",
        "from mypackage import mylib\n",
        "from mypackage.mylib import reverse\n",
        "\n",
        "sleep(1)\n",
        "mylib.add_txt('나는', '파이썬이다')\n",
        "reverse(1,2,3)"
      ],
      "execution_count": null,
      "outputs": [
        {
          "output_type": "execute_result",
          "data": {
            "text/plain": [
              "(3, 2, 1)"
            ]
          },
          "metadata": {
            "tags": []
          },
          "execution_count": 41
        }
      ]
    },
    {
      "cell_type": "code",
      "metadata": {
        "id": "v-2JkpincNst"
      },
      "source": [
        "# 047. 파이썬 모듈 임퐅 이해하기3 (import~as)\n",
        "\n",
        "import mypackage as mp\n",
        "import mypackage.mylib as ml\n",
        "\n",
        "ret1 = mp.mylib.add_txt('대한민국', '1등')\n",
        "ret2 = ml.reverse(1,2,3)"
      ],
      "execution_count": null,
      "outputs": []
    },
    {
      "cell_type": "code",
      "metadata": {
        "id": "6WVX8CzEeeoO"
      },
      "source": [
        "# 048. 파일 열고 닫기 (open, close)"
      ],
      "execution_count": null,
      "outputs": []
    },
    {
      "cell_type": "code",
      "metadata": {
        "colab": {
          "base_uri": "https://localhost:8080/"
        },
        "id": "WpObeD1ugYvF",
        "outputId": "2980c26a-13d1-48e6-ab75-978d74258fa4"
      },
      "source": [
        "# 클래스 이해하기 (class)\n",
        "\n",
        "class MyClass:\n",
        "  var = '안녕하세요'\n",
        "  def sayHello(self):\n",
        "    print(self.var)\n",
        "\n",
        "obj = MyClass()  # MyClass 인스턴스 객체 생성\n",
        "print(obj.var)  # '안녕하세요'가 출력됨\n",
        "obj.sayHello()  # '안녕하세요'가 출력됨"
      ],
      "execution_count": null,
      "outputs": [
        {
          "output_type": "stream",
          "text": [
            "안녕하세요\n",
            "안녕하세요\n"
          ],
          "name": "stdout"
        }
      ]
    },
    {
      "cell_type": "code",
      "metadata": {
        "colab": {
          "base_uri": "https://localhost:8080/"
        },
        "id": "wVhaXhBWgyZ9",
        "outputId": "3a02af3d-0250-4031-fb47-ec72d7134899"
      },
      "source": [
        "# 050. 클래스 멤버와 인스턴스 멤버 이해하기\n",
        "\n",
        "class MyClass:\n",
        "  var = '안녕하세요!!'\n",
        "  def sayHello(self):\n",
        "    param1 = '안녕'\n",
        "    self.param2 = '하이'\n",
        "    print(param1)\n",
        "    print(self.var)\n",
        "\n",
        "obj = MyClass()\n",
        "print(obj.var)\n",
        "obj.sayHello()\n",
        "# obj.param1\n"
      ],
      "execution_count": null,
      "outputs": [
        {
          "output_type": "stream",
          "text": [
            "안녕하세요!!\n",
            "안녕\n",
            "안녕하세요!!\n"
          ],
          "name": "stdout"
        }
      ]
    },
    {
      "cell_type": "code",
      "metadata": {
        "id": "e6fqSNgElK-A",
        "colab": {
          "base_uri": "https://localhost:8080/"
        },
        "outputId": "efd7e89c-a3a3-4104-fd3b-0273f4cf1baf"
      },
      "source": [
        "# 051. 클래스 메소드 이해하기 \n",
        "\n",
        "class MyClass:\n",
        "  def sayHello(self):\n",
        "    print('안녕하세요')\n",
        "\n",
        "  def sayBye(self, name):\n",
        "    print('%s! 다음에 보자!' %name)\n",
        "\n",
        "obj = MyClass()\n",
        "obj.sayHello()\n",
        "obj.sayBye('철수')"
      ],
      "execution_count": null,
      "outputs": [
        {
          "output_type": "stream",
          "text": [
            "안녕하세요\n",
            "철수! 다음에 보자!\n"
          ],
          "name": "stdout"
        }
      ]
    },
    {
      "cell_type": "code",
      "metadata": {
        "colab": {
          "base_uri": "https://localhost:8080/"
        },
        "id": "KmoGO_m44Dn6",
        "outputId": "a3628a5d-1c02-42a1-be98-bfa5fb6c991c"
      },
      "source": [
        "# 052. 클래스 생성자 이해하기\n",
        "\n",
        "class MyClass:\n",
        "  def __init__(self):\n",
        "    self.var = '안녕하세요!'\n",
        "    print('MyClass 인스턴스 객체가 생성되었습니다')\n",
        "\n",
        "obj = MyClass()\n",
        "print(obj.var)"
      ],
      "execution_count": null,
      "outputs": [
        {
          "output_type": "stream",
          "text": [
            "MyClass 인스턴스 객체가 생성되었습니다\n",
            "안녕하세요!\n"
          ],
          "name": "stdout"
        }
      ]
    },
    {
      "cell_type": "code",
      "metadata": {
        "colab": {
          "base_uri": "https://localhost:8080/"
        },
        "id": "olKvQfe55Zvr",
        "outputId": "0411b80c-619d-4a3e-dc0a-07d1b2ee8b55"
      },
      "source": [
        "# 위의 인스턴스 객체에 인자를 대입하는 방법\n",
        "## MyClass의 생성자를 다음과 같이 수정하기\n",
        "\n",
        "class MyClass:\n",
        "  def __init__(self, txt):\n",
        "    self.var = txt\n",
        "    print('생성자 인자로 전달받은 값은<'+ self.var +'> 입니다')\n",
        "\n",
        "# MyClass 의 생성자가 인자를 한 개 가지므로 MyClass 인스턴스 객체는 다음과 같이 생성\n",
        "\n",
        "obj = MyClass('철수')"
      ],
      "execution_count": null,
      "outputs": [
        {
          "output_type": "stream",
          "text": [
            "생성자 인자로 전달받은 값은<철수> 입니다\n"
          ],
          "name": "stdout"
        }
      ]
    },
    {
      "cell_type": "code",
      "metadata": {
        "colab": {
          "base_uri": "https://localhost:8080/"
        },
        "id": "ijzF0Kvc6_Tj",
        "outputId": "191147b3-b045-4064-fed5-b85cdf35094e"
      },
      "source": [
        "# 053. 클래스 소멸자 이해하기\n",
        "\n",
        "class MyClass:\n",
        "  def __del__(self):\n",
        "    print('MyClass 인스턴스 객체가 메모리에서 제거됩니다')\n",
        "\n",
        "obj = MyClass()\n",
        "del obj"
      ],
      "execution_count": null,
      "outputs": [
        {
          "output_type": "stream",
          "text": [
            "MyClass 인스턴스 객체가 메모리에서 제거됩니다\n"
          ],
          "name": "stdout"
        }
      ]
    },
    {
      "cell_type": "code",
      "metadata": {
        "colab": {
          "base_uri": "https://localhost:8080/"
        },
        "id": "JmpuTwcQ7fSC",
        "outputId": "20d4310d-10c3-4b67-ca10-67c1f792a69b"
      },
      "source": [
        "# 054. 클래스 상속 이해하기\n",
        "\n",
        "class Add:\n",
        "  def add(self, n1, n2):\n",
        "    return n1 + n2\n",
        "\n",
        "class Calculator(Add):  # 부모클래스로부터 상속을 받아 자식클래스를 정의하는 방법은 다음과 같음 -> class 자식클래스(부모클래스):\n",
        "  def sub(self, n1, n2):\n",
        "    return n1 - n2\n",
        "\n",
        "obj = Calculator()\n",
        "print(obj.add(1,2))\n",
        "print(obj.sub(1,2))"
      ],
      "execution_count": null,
      "outputs": [
        {
          "output_type": "stream",
          "text": [
            "3\n",
            "-1\n"
          ],
          "name": "stdout"
        }
      ]
    },
    {
      "cell_type": "code",
      "metadata": {
        "colab": {
          "base_uri": "https://localhost:8080/"
        },
        "id": "NXjIvK6C8jA2",
        "outputId": "a2d785e7-245d-47c4-9208-9603f9c0b6b3"
      },
      "source": [
        "# 054-1. 다중상속\n",
        "## 자식클래스는 여러 개의 부모클래스로부터 상속받을 수 있다. 이를 다중상속이라고 한다. 다중 상속 클래스를 정의하는 방법은 다음과 같다.\n",
        "## class 자식클래스(부모클래스1, 부모클래스2, ..)\n",
        "\n",
        "class Add:\n",
        "  def add(self, n1, n2):\n",
        "    return n1 + n2\n",
        "\n",
        "class Multiply:\n",
        "  def multiply(self, n1, n2):\n",
        "    return n1*n2\n",
        "\n",
        "class Calculator(Add, Multiply):\n",
        "  def sub(self, n1, n2):\n",
        "    return n1 - n2\n",
        "\n",
        "obj = Calculator()\n",
        "print(obj.add(1,2))\n",
        "print(obj.multiply(3,2))"
      ],
      "execution_count": null,
      "outputs": [
        {
          "output_type": "stream",
          "text": [
            "3\n",
            "6\n"
          ],
          "name": "stdout"
        }
      ]
    },
    {
      "cell_type": "code",
      "metadata": {
        "colab": {
          "base_uri": "https://localhost:8080/"
        },
        "id": "ZQ8c9xtL-8rf",
        "outputId": "c2e804ed-a3eb-4552-d5c3-88be0dae068a"
      },
      "source": [
        "# 055. 예외처리 이해하기1 (try~except)\n",
        "## 프로그램이 실행되는 동안 오류가 발생하여 프로그램이 더 이상 진행될 수 없는 상태 -> 예외(Exception)상황\n",
        "## 프로그램에 예외가 발생하더라도 프로그램을 중단시키지 않고 예외에 대한 적절한 처리를 하여 프로그램을 계속 진행시킬 수 있도록 하는 구문이 try~except 이다.\n",
        "\n",
        "try:\n",
        "  print('안녕하세요')\n",
        "  print(param)\n",
        "except:\n",
        "  print('예외가 발생했습니다!')"
      ],
      "execution_count": null,
      "outputs": [
        {
          "output_type": "stream",
          "text": [
            "안녕하세요\n",
            "예외가 발생했습니다!\n"
          ],
          "name": "stdout"
        }
      ]
    },
    {
      "cell_type": "code",
      "metadata": {
        "id": "yObPK89F__ap",
        "colab": {
          "base_uri": "https://localhost:8080/"
        },
        "outputId": "408527f7-49e2-4475-dd0f-72bb1e2202d1"
      },
      "source": [
        "# 056. 예외처리 이해하기2 (try~except~else)\n",
        "\n",
        "try:\n",
        "  print('안녕하세요')\n",
        "  # print(param)\n",
        "except:\n",
        "  print('예외가 발생했습니다!')\n",
        "else:\n",
        "  print('예외가 발생하지 않았습니다.')"
      ],
      "execution_count": null,
      "outputs": [
        {
          "output_type": "stream",
          "text": [
            "안녕하세요\n",
            "예외가 발생하지 않았습니다.\n"
          ],
          "name": "stdout"
        }
      ]
    },
    {
      "cell_type": "code",
      "metadata": {
        "colab": {
          "base_uri": "https://localhost:8080/"
        },
        "id": "fJ_8486a-tP8",
        "outputId": "a64197af-12f3-4773-8c67-11b24048e613"
      },
      "source": [
        "# 057. 예외처리 이해하기3 (try~except~finally)\n",
        "\n",
        "try:\n",
        "  print('안녕하세요.')\n",
        "  print(param)\n",
        "except:\n",
        "  print('예외가 발생했습니다!')\n",
        "finally:\n",
        "  print('무조건 실행하는 코드')"
      ],
      "execution_count": null,
      "outputs": [
        {
          "output_type": "stream",
          "text": [
            "안녕하세요.\n",
            "예외가 발생했습니다!\n",
            "무조건 실행하는 코드\n"
          ],
          "name": "stdout"
        }
      ]
    },
    {
      "cell_type": "code",
      "metadata": {
        "colab": {
          "base_uri": "https://localhost:8080/"
        },
        "id": "gDrPV8Gu_a1N",
        "outputId": "b661e223-0769-4d6f-f06e-08bd5abe6ae3"
      },
      "source": [
        "# 058. 예외처리 이해하기4 (try~except Exception as e)\n",
        "## 파이썬은 발생 가능한 예외에 대해 exception 객체로 미리 정의해두고 있는데 이에 대한 내용은 다음 링크에서 확인할 수 있음\n",
        "## http://docs.python.org/3/library/exceptions.html#bltin-exceptions\n",
        "\n",
        "try:\n",
        "  print(param)\n",
        "except Exception as e:\n",
        "  print(e)"
      ],
      "execution_count": null,
      "outputs": [
        {
          "output_type": "stream",
          "text": [
            "name 'param' is not defined\n"
          ],
          "name": "stdout"
        }
      ]
    },
    {
      "cell_type": "code",
      "metadata": {
        "colab": {
          "base_uri": "https://localhost:8080/"
        },
        "id": "qJUOpP5c_r3N",
        "outputId": "00ff190e-efdf-4f28-8d2a-1308056e8316"
      },
      "source": [
        "# 059. 예외처리 이해하기5 (try~except 특정 예외)\n",
        "\n",
        "import time\n",
        "count = 1\n",
        "try:\n",
        "  while True:\n",
        "    print(count)\n",
        "    count +=1\n",
        "    time.sleep(0.5)\n",
        "except KeyboardInterrupt:\n",
        "  print('사용자에 의해 프로그램이 중단되었습니다')"
      ],
      "execution_count": null,
      "outputs": [
        {
          "output_type": "stream",
          "text": [
            "1\n",
            "2\n",
            "3\n",
            "4\n",
            "5\n",
            "6\n",
            "사용자에 의해 프로그램이 중단되었습니다\n"
          ],
          "name": "stdout"
        }
      ]
    },
    {
      "cell_type": "markdown",
      "metadata": {
        "id": "X6Gyg0DbAm59"
      },
      "source": [
        "## Python 프로그래밍 실력 다지기"
      ]
    },
    {
      "cell_type": "code",
      "metadata": {
        "colab": {
          "base_uri": "https://localhost:8080/"
        },
        "id": "FW6iJNvdBoup",
        "outputId": "2f1d6356-d989-46ae-ef0a-0feeade2191b"
      },
      "source": [
        "# 060. 사용자 입력받기(input)\n",
        "\n",
        "k = input('<값>을 입력하세요:')\n",
        "print('당신이 입력한 값은 <'+k+'>입니다.')"
      ],
      "execution_count": null,
      "outputs": [
        {
          "output_type": "stream",
          "text": [
            "<값>을 입력하세요:안녕\n",
            "당신이 입력한 값은 <안녕>입니다.\n"
          ],
          "name": "stdout"
        }
      ]
    },
    {
      "cell_type": "code",
      "metadata": {
        "colab": {
          "base_uri": "https://localhost:8080/"
        },
        "id": "DdfgW0bnB8Zh",
        "outputId": "7655cf10-d65c-40db-918f-d8f9f8557270"
      },
      "source": [
        "n = input('나의 이름은: ')\n",
        "print('나의 이름은 '+n+'이다.')"
      ],
      "execution_count": null,
      "outputs": [
        {
          "output_type": "stream",
          "text": [
            "나의 이름은: 남동욱\n",
            "나의 이름은 남동욱이다.\n"
          ],
          "name": "stdout"
        }
      ]
    },
    {
      "cell_type": "code",
      "metadata": {
        "id": "PBLiZbOrCiRz",
        "colab": {
          "base_uri": "https://localhost:8080/"
        },
        "outputId": "395771b9-1c7f-4a7f-83ed-4fe34d6814de"
      },
      "source": [
        "# 061. 자료형 확인하기(type)\n",
        "\n",
        "numdata = 57\n",
        "strdata = '파이썬'\n",
        "listdata = [1,2,3]\n",
        "dictdata = {'a':1, 'b':2}\n",
        "\n",
        "def func():\n",
        "  print('안녕하세요.')\n",
        "\n",
        "print(type(numdata))\n",
        "print(type(strdata))\n",
        "print(type(listdata))\n",
        "print(type(dictdata))\n",
        "print(type(func))"
      ],
      "execution_count": null,
      "outputs": [
        {
          "output_type": "stream",
          "text": [
            "<class 'int'>\n",
            "<class 'str'>\n",
            "<class 'list'>\n",
            "<class 'dict'>\n",
            "<class 'function'>\n"
          ],
          "name": "stdout"
        }
      ]
    },
    {
      "cell_type": "code",
      "metadata": {
        "colab": {
          "base_uri": "https://localhost:8080/"
        },
        "id": "3seYXzIK9BAd",
        "outputId": "d67b09d0-dde8-49e3-e66e-26834a2e0b7f"
      },
      "source": [
        "# 062. 나눗셈에서 나머지만 구하기(%)\n",
        "## 나누기 연산에서 나머지만 구하는 연산을 모듈로(modulo) 연산이라고 한다. 기호는 mod로 표시한다. (ex. 12 mod 3 = 0)\n",
        "## 파이썬에서 모듈로 연산 기호는 % 연산자이다. \n",
        "\n",
        "a = 11113\n",
        "b = 23\n",
        "ret = a%b\n",
        "print('<%d>를 <%d>로 나누면 <%d>가 나머지로 남습니다.' %(a, b, ret))"
      ],
      "execution_count": null,
      "outputs": [
        {
          "output_type": "stream",
          "text": [
            "<11113>를 <23>로 나누면 <4>가 나머지로 남습니다.\n"
          ],
          "name": "stdout"
        }
      ]
    },
    {
      "cell_type": "code",
      "metadata": {
        "colab": {
          "base_uri": "https://localhost:8080/"
        },
        "id": "nzWO8mHA92Il",
        "outputId": "cb2cbba1-a6ff-4680-c668-6219bbf9ed7a"
      },
      "source": [
        "# 063. 몫과 나머지 구하기(divmod)\n",
        "\n",
        "a = 11113\n",
        "b = 23\n",
        "ret1,ret2 = divmod(a,b)\n",
        "print('<%d/%d>는 몫이 <%d>, 나머지가 <%d>입니다.' %(a,b, ret1, ret2))"
      ],
      "execution_count": null,
      "outputs": [
        {
          "output_type": "stream",
          "text": [
            "<11113/23>는 몫이 <483>, 나머지가 <4>입니다.\n"
          ],
          "name": "stdout"
        }
      ]
    },
    {
      "cell_type": "code",
      "metadata": {
        "colab": {
          "base_uri": "https://localhost:8080/"
        },
        "id": "6fjqbGq_-uzt",
        "outputId": "f0164cf3-9738-4139-b54d-378bb7587d21"
      },
      "source": [
        "# 064. 10진수를 16진수로 변환하기(hex)\n",
        "\n",
        "h1 = hex(97)  # h1은 문자열 '0x61'\n",
        "h2 = hex(98)  # h2는 문자열 '0x62'\n",
        "ret1 = h1 + h2\n",
        "print(ret1)\n",
        "a = int(h1, 16)\n",
        "b = int(h2, 16)\n",
        "ret2 = a + b\n",
        "print(ret2)\n",
        "print(hex(ret2))"
      ],
      "execution_count": null,
      "outputs": [
        {
          "output_type": "stream",
          "text": [
            "0x610x62\n",
            "195\n",
            "0xc3\n"
          ],
          "name": "stdout"
        }
      ]
    },
    {
      "cell_type": "code",
      "metadata": {
        "colab": {
          "base_uri": "https://localhost:8080/"
        },
        "id": "Yt0a0HP__YoL",
        "outputId": "b0f26254-67c7-4ff9-9aa3-8d17c41edd26"
      },
      "source": [
        "# 065. 10진수를 2진수로 변환하기 (bin)\n",
        "\n",
        "b1 = bin(97)  # b1은 문자열 '0b11000001'\n",
        "b2 = bin(98)  # b2는 문자열 '0b11000010'\n",
        "\n",
        "ret1 = b1 + b2\n",
        "print(ret1)\n",
        "a = int(b1, 2)\n",
        "b = int(b2, 2)\n",
        "ret2 = a + b\n",
        "print(bin(ret2))"
      ],
      "execution_count": null,
      "outputs": [
        {
          "output_type": "stream",
          "text": [
            "0b11000010b1100010\n",
            "0b11000011\n"
          ],
          "name": "stdout"
        }
      ]
    },
    {
      "cell_type": "code",
      "metadata": {
        "colab": {
          "base_uri": "https://localhost:8080/"
        },
        "id": "CBJar6niB04i",
        "outputId": "106151bd-6419-4bf0-e383-bb8cb477d159"
      },
      "source": [
        "# 066. 2진수, 16진수를 10진수로 변환하기 (int)\n",
        "\n",
        "bnum = 0b11110000; bstr = '0b11110000'\n",
        "onum = 0o360; ostr = '0o360'\n",
        "hnum = 0xf0; hstr = '0xf0'\n",
        "b1 = int(bnum); b2 = int(bstr, 2)  # b2 = int(bstr, 0)\n",
        "o1 = int(onum); o2 = int(ostr, 8)  # o2 = int(ostr, 0)\n",
        "h1 = int(hnum); h2 = int(hstr, 16) # h2 = int(hstr, 0)\n",
        "print(b1); print(b2)\n",
        "print(o1); print(o2)\n",
        "print(h1); print(h2)"
      ],
      "execution_count": null,
      "outputs": [
        {
          "output_type": "stream",
          "text": [
            "240\n",
            "240\n",
            "240\n",
            "240\n",
            "240\n",
            "240\n"
          ],
          "name": "stdout"
        }
      ]
    },
    {
      "cell_type": "code",
      "metadata": {
        "colab": {
          "base_uri": "https://localhost:8080/"
        },
        "id": "6MKPeUHdCyDT",
        "outputId": "41d5c414-649c-4be8-f61f-143e7a9a2a19"
      },
      "source": [
        "# 067.절대값 구하기(abs)\n",
        "\n",
        "abs1 = abs(-3)\n",
        "abs2 = abs(-5.72)\n",
        "abs3 = abs(3+4j)\n",
        "print(abs1)\n",
        "print(abs2)\n",
        "print(abs3)"
      ],
      "execution_count": null,
      "outputs": [
        {
          "output_type": "stream",
          "text": [
            "3\n",
            "5.72\n",
            "5.0\n"
          ],
          "name": "stdout"
        }
      ]
    },
    {
      "cell_type": "code",
      "metadata": {
        "colab": {
          "base_uri": "https://localhost:8080/"
        },
        "id": "J5Qco5SMEoRT",
        "outputId": "049658e0-173b-461c-d14e-7d0ad19f0480"
      },
      "source": [
        "# 068. 반올림수 구하기(round)\n",
        "\n",
        "ret1 = round(1118)\n",
        "ret2 = round(16.554)\n",
        "ret3 = round(1118, -1)\n",
        "ret4 = round(16.554, 2)\n",
        "print(ret1)\n",
        "print(ret2)\n",
        "print(ret3)\n",
        "print(ret4)"
      ],
      "execution_count": null,
      "outputs": [
        {
          "output_type": "stream",
          "text": [
            "1118\n",
            "17\n",
            "1120\n",
            "16.55\n"
          ],
          "name": "stdout"
        }
      ]
    },
    {
      "cell_type": "code",
      "metadata": {
        "colab": {
          "base_uri": "https://localhost:8080/"
        },
        "id": "StaAxZ2PE7dX",
        "outputId": "cb380154-3136-4043-91a6-864c2de1864c"
      },
      "source": [
        "# 069. 실수형 자료를 정수형 자료로 변환하기(int)\n",
        "\n",
        "idata1 = int(-5.4)\n",
        "idata2 = int(1.78e1)\n",
        "idata3 = int(171.56)\n",
        "print(idata1)\n",
        "print(idata2)\n",
        "print(idata3)"
      ],
      "execution_count": null,
      "outputs": [
        {
          "output_type": "stream",
          "text": [
            "-5\n",
            "17\n",
            "171\n"
          ],
          "name": "stdout"
        }
      ]
    },
    {
      "cell_type": "code",
      "metadata": {
        "colab": {
          "base_uri": "https://localhost:8080/"
        },
        "id": "Lqw4eTsFFZig",
        "outputId": "4888c9b9-3903-4354-b024-40bb20aa7962"
      },
      "source": [
        "# 070. 정수형 자료를 실수형 자료로 변환하기(float)\n",
        "\n",
        "fdata = float(10)\n",
        "print(fdata)"
      ],
      "execution_count": null,
      "outputs": [
        {
          "output_type": "stream",
          "text": [
            "10.0\n"
          ],
          "name": "stdout"
        }
      ]
    },
    {
      "cell_type": "code",
      "metadata": {
        "id": "fdSrVH2pF9_0",
        "colab": {
          "base_uri": "https://localhost:8080/"
        },
        "outputId": "84564327-9142-4ca0-f3e9-0f3a9efe6cd0"
      },
      "source": [
        "# 071. 정수 리스트에서 소수만 걸러내기(filter)\n",
        "\n",
        "def getPrime(x):\n",
        "  if x%2 == 0:\n",
        "    return\n",
        "\n",
        "  for i in range(3, int(x/2), 2):\n",
        "    if x%i == 0:\n",
        "      break\n",
        "  else:\n",
        "    return x\n",
        "\n",
        "listdata = [117, 119, 1113, 11113, 11119]\n",
        "ret = filter(getPrime, listdata)  # filter의 첫번째 인자는 특정조건의 값을 추출하는 함수, 두번째 인자는 리스트와 같은 반복 가능한 자료가 입력\n",
        "print(list(ret))"
      ],
      "execution_count": 4,
      "outputs": [
        {
          "output_type": "stream",
          "text": [
            "[11113, 11119]\n"
          ],
          "name": "stdout"
        }
      ]
    },
    {
      "cell_type": "code",
      "metadata": {
        "colab": {
          "base_uri": "https://localhost:8080/"
        },
        "id": "ZS8YEJlBc2ne",
        "outputId": "8659c87d-f9a4-4692-8e28-ec02ffdd0b84"
      },
      "source": [
        "# Note: 정수 n 이하의 모든 소수 구하기\n",
        "\n",
        "def getPrime(n):\n",
        "  ret = [2]\n",
        "  if n<=2:\n",
        "    return ret\n",
        "\n",
        "  for i in range(3, n+1, 2):\n",
        "    for k in range(3, int(i/2), 2):\n",
        "      a = i%k\n",
        "      if a == 0:\n",
        "        break\n",
        "\n",
        "    else:\n",
        "      ret.append(i)\n",
        "\n",
        "  return ret\n",
        "\n",
        "ret = getPrime(10)\n",
        "print(ret)"
      ],
      "execution_count": 5,
      "outputs": [
        {
          "output_type": "stream",
          "text": [
            "[2, 3, 5, 7]\n"
          ],
          "name": "stdout"
        }
      ]
    },
    {
      "cell_type": "code",
      "metadata": {
        "colab": {
          "base_uri": "https://localhost:8080/"
        },
        "id": "g-rkkIhsidrR",
        "outputId": "492f680b-0fc3-4c3e-b594-e0aca9341cce"
      },
      "source": [
        "# 072. 최대값, 최소값 구하기 (max, min)\n",
        "\n",
        "listdata = [9.96, 1.27, 5.07, 6.45, 8.38, 9.29, 4.93, 7.73, 3.71, 0.93]\n",
        "maxval = max(listdata)\n",
        "minval = min(listdata)\n",
        "print(maxval)\n",
        "print(minval)\n",
        "\n",
        "txt = 'Alotofthingsoccureachday'\n",
        "maxval = max(txt)\n",
        "minval = min(txt)\n",
        "print(maxval)\n",
        "print(minval)\n",
        "\n",
        "maxval = max(2+3, 2*3, 2**3, 3**2)\n",
        "minval = min('abz', 'a12')\n",
        "print(maxval)\n",
        "print(minval)"
      ],
      "execution_count": 9,
      "outputs": [
        {
          "output_type": "stream",
          "text": [
            "9.96\n",
            "0.93\n",
            "y\n",
            "A\n",
            "9\n",
            "a12\n"
          ],
          "name": "stdout"
        }
      ]
    },
    {
      "cell_type": "code",
      "metadata": {
        "colab": {
          "base_uri": "https://localhost:8080/"
        },
        "id": "0QJkzLt8i1VS",
        "outputId": "812c17af-03b4-48af-8888-c20cfb4b5ac8"
      },
      "source": [
        "# 073. 1바이트에서 하위 4비트 추출하기\n",
        "\n",
        "a = 107  # 16진수로 0x6b\n",
        "b = a & 0x0f\n",
        "print(b)  # 11이 출력됨. 11인 16진수로 b"
      ],
      "execution_count": 11,
      "outputs": [
        {
          "output_type": "stream",
          "text": [
            "11\n"
          ],
          "name": "stdout"
        }
      ]
    },
    {
      "cell_type": "code",
      "metadata": {
        "colab": {
          "base_uri": "https://localhost:8080/"
        },
        "id": "qsKEnn6TjlrA",
        "outputId": "6c6b368e-650c-4e2c-96f8-b2e6c349180a"
      },
      "source": [
        "# 074. 1바이트에서 상위 4비트 추출하기\n",
        "\n",
        "a = 107\n",
        "b = (a>>4) & 0x0f\n",
        "print(b)  # 6이 출력됨"
      ],
      "execution_count": 12,
      "outputs": [
        {
          "output_type": "stream",
          "text": [
            "6\n"
          ],
          "name": "stdout"
        }
      ]
    },
    {
      "cell_type": "code",
      "metadata": {
        "colab": {
          "base_uri": "https://localhost:8080/"
        },
        "id": "mrh56qgNkvla",
        "outputId": "369d75a9-9030-4a18-d653-5a423b387f8e"
      },
      "source": [
        "# 075. 문자열에서 특정 위치의 문자 얻기\n",
        "\n",
        "txt1 = 'A tale that was not right'\n",
        "txt2 = '이 또한 지나가리라'\n",
        "print(txt1[5])\n",
        "print(txt2[-2])"
      ],
      "execution_count": 13,
      "outputs": [
        {
          "output_type": "stream",
          "text": [
            "e\n",
            "리\n"
          ],
          "name": "stdout"
        }
      ]
    },
    {
      "cell_type": "code",
      "metadata": {
        "colab": {
          "base_uri": "https://localhost:8080/"
        },
        "id": "SHzVd-Zzo7H-",
        "outputId": "4a79d7d2-71ac-4c67-c59f-6edb69a8448c"
      },
      "source": [
        "# 076. 문자열에서 지정한 구간의 문자열 얻기\n",
        "\n",
        "txt1 = 'A tale that was not right'\n",
        "txt2 = '이 또한 지나가리라.'\n",
        "print(txt1[3:7])\n",
        "print(txt1[:6])\n",
        "print(txt2[-4:])"
      ],
      "execution_count": 15,
      "outputs": [
        {
          "output_type": "stream",
          "text": [
            "ale \n",
            "A tale\n",
            "가리라.\n"
          ],
          "name": "stdout"
        }
      ]
    },
    {
      "cell_type": "code",
      "metadata": {
        "colab": {
          "base_uri": "https://localhost:8080/"
        },
        "id": "HsY8F8sFpQ4F",
        "outputId": "b4a4522a-cfc9-4819-dce3-c800f8c7fe77"
      },
      "source": [
        "# 076 응용\n",
        "\n",
        "txt = 'python'\n",
        "for i in range(len(txt)):\n",
        "  print(txt[:i+1])"
      ],
      "execution_count": 16,
      "outputs": [
        {
          "output_type": "stream",
          "text": [
            "p\n",
            "py\n",
            "pyt\n",
            "pyth\n",
            "pytho\n",
            "python\n"
          ],
          "name": "stdout"
        }
      ]
    },
    {
      "cell_type": "code",
      "metadata": {
        "colab": {
          "base_uri": "https://localhost:8080/"
        },
        "id": "sw5W4DsFpoU6",
        "outputId": "62c7e082-373b-4873-c397-623bdba026ca"
      },
      "source": [
        "# 077. 문자열에서 홀수 번째 문자만 추출하기\n",
        "\n",
        "txt = 'aAbBcCdDeEfFgGhHiIjJkK'\n",
        "ret = txt[::2]\n",
        "print(ret)"
      ],
      "execution_count": 19,
      "outputs": [
        {
          "output_type": "stream",
          "text": [
            "abcdefghijk\n"
          ],
          "name": "stdout"
        }
      ]
    },
    {
      "cell_type": "code",
      "metadata": {
        "colab": {
          "base_uri": "https://localhost:8080/"
        },
        "id": "9hVmADIyqBOO",
        "outputId": "798dbb96-dc4d-4893-d4f5-0b6edc7688b3"
      },
      "source": [
        "# 078. 문자열을 거꾸로 만들기\n",
        "\n",
        "txt = 'abcdefghijk'\n",
        "ret = txt[::-1]\n",
        "print(ret)"
      ],
      "execution_count": 20,
      "outputs": [
        {
          "output_type": "stream",
          "text": [
            "kjihgfedcba\n"
          ],
          "name": "stdout"
        }
      ]
    },
    {
      "cell_type": "code",
      "metadata": {
        "colab": {
          "base_uri": "https://localhost:8080/"
        },
        "id": "jJS-tYpIqKVB",
        "outputId": "74705d68-5b1f-434c-d326-d6cad07f3632"
      },
      "source": [
        "# 079. 두 개의 문자열 합치기(+)\n",
        "\n",
        "filename = input('저장할 파일을 입력하세요:')\n",
        "filename = filename + '.jpg'\n",
        "display_msg = '당신이 저장한 파일은 <' + filename + '> 입니다.'\n",
        "print(display_msg)"
      ],
      "execution_count": 22,
      "outputs": [
        {
          "output_type": "stream",
          "text": [
            "저장할 파일을 입력하세요:dongwook\n",
            "당신이 저장한 파일은 <dongwook.jpg> 입니다.\n"
          ],
          "name": "stdout"
        }
      ]
    },
    {
      "cell_type": "code",
      "metadata": {
        "colab": {
          "base_uri": "https://localhost:8080/"
        },
        "id": "pPE6q7YHrPqB",
        "outputId": "3ee597fa-c3f8-405e-cf34-5eeb3bea0113"
      },
      "source": [
        "# 080. 문자열을 반복해서 새로운 문자열로 만들기(*)\n",
        "\n",
        "msg1 = '여러분'\n",
        "msg2 = '파이팅!'\n",
        "display_msg = msg1 + ',' + msg2*3 + '~!'\n",
        "print(display_msg)"
      ],
      "execution_count": 23,
      "outputs": [
        {
          "output_type": "stream",
          "text": [
            "여러분,파이팅!파이팅!파이팅!~!\n"
          ],
          "name": "stdout"
        }
      ]
    },
    {
      "cell_type": "code",
      "metadata": {
        "id": "bbkzlMXasyeb"
      },
      "source": [
        ""
      ],
      "execution_count": null,
      "outputs": []
    }
  ]
}