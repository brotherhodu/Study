{
  "nbformat": 4,
  "nbformat_minor": 0,
  "metadata": {
    "colab": {
      "name": "초보자를 위한 파이썬 200제.ipynb",
      "provenance": [],
      "collapsed_sections": [],
      "mount_file_id": "1uLvmLjNMV6nXwy0GKRJ3a4Jc-Uc-KYdG",
      "authorship_tag": "ABX9TyPwdXxTsBNDD8lqRgCz7J3V",
      "include_colab_link": true
    },
    "kernelspec": {
      "name": "python3",
      "display_name": "Python 3"
    },
    "language_info": {
      "name": "python"
    }
  },
  "cells": [
    {
      "cell_type": "markdown",
      "metadata": {
        "id": "view-in-github",
        "colab_type": "text"
      },
      "source": [
        "<a href=\"https://colab.research.google.com/github/brotherhodu/Study/blob/main/python_200/%EC%B4%88%EB%B3%B4%EC%9E%90%EB%A5%BC_%EC%9C%84%ED%95%9C_%ED%8C%8C%EC%9D%B4%EC%8D%AC_200%EC%A0%9C.ipynb\" target=\"_parent\"><img src=\"https://colab.research.google.com/assets/colab-badge.svg\" alt=\"Open In Colab\"/></a>"
      ]
    },
    {
      "cell_type": "markdown",
      "metadata": {
        "id": "bcccfOQ9BIgo"
      },
      "source": [
        "# Part1. Python 프로그래밍 첫발 내딛기\n"
      ]
    },
    {
      "cell_type": "code",
      "metadata": {
        "colab": {
          "base_uri": "https://localhost:8080/"
        },
        "id": "k7rl6ypSEEzV",
        "outputId": "64431aa3-0e8b-4998-e212-b03246f5ff54"
      },
      "source": [
        "#002. 텍스트 에디터로 프로그래밍 하기\n",
        "\n",
        "print(\"안녕하세요\")\n",
        "a=1\n",
        "b=2\n",
        "print(a+b)"
      ],
      "execution_count": null,
      "outputs": [
        {
          "output_type": "stream",
          "text": [
            "안녕하세요\n",
            "3\n"
          ],
          "name": "stdout"
        }
      ]
    },
    {
      "cell_type": "code",
      "metadata": {
        "colab": {
          "base_uri": "https://localhost:8080/"
        },
        "id": "rit2HnQRErAx",
        "outputId": "d3806143-d71b-4566-9be4-43993f6cb1e0"
      },
      "source": [
        "#003. 변수명 만들기\n",
        "_myname = 'dongwook'\n",
        "my_name = 'dwnam'\n",
        "import keyword\n",
        "keyword.kwlist"
      ],
      "execution_count": null,
      "outputs": [
        {
          "output_type": "execute_result",
          "data": {
            "text/plain": [
              "['False',\n",
              " 'None',\n",
              " 'True',\n",
              " 'and',\n",
              " 'as',\n",
              " 'assert',\n",
              " 'async',\n",
              " 'await',\n",
              " 'break',\n",
              " 'class',\n",
              " 'continue',\n",
              " 'def',\n",
              " 'del',\n",
              " 'elif',\n",
              " 'else',\n",
              " 'except',\n",
              " 'finally',\n",
              " 'for',\n",
              " 'from',\n",
              " 'global',\n",
              " 'if',\n",
              " 'import',\n",
              " 'in',\n",
              " 'is',\n",
              " 'lambda',\n",
              " 'nonlocal',\n",
              " 'not',\n",
              " 'or',\n",
              " 'pass',\n",
              " 'raise',\n",
              " 'return',\n",
              " 'try',\n",
              " 'while',\n",
              " 'with',\n",
              " 'yield']"
            ]
          },
          "metadata": {
            "tags": []
          },
          "execution_count": 6
        }
      ]
    },
    {
      "cell_type": "code",
      "metadata": {
        "id": "l2z6ga-WyZJd"
      },
      "source": [
        "#004. 변수에 값 대입하기\n",
        "\n",
        "number1 = 1\n",
        "pi = 3.14\n",
        "flag = True\n",
        "char = 'x'\n",
        "chars = 'I love Python'"
      ],
      "execution_count": null,
      "outputs": []
    },
    {
      "cell_type": "code",
      "metadata": {
        "colab": {
          "base_uri": "https://localhost:8080/"
        },
        "id": "MPKodXdPywIg",
        "outputId": "73aa4067-4a24-4a57-8fd4-808ca4cc2384"
      },
      "source": [
        "#005. 주석 처리하기(#)\n",
        "\n",
        "\"\"\"a=1\n",
        "b=5\n",
        "print(a+b)\"\"\"\n",
        "a=2\n",
        "b=6\n",
        "print(a+b)"
      ],
      "execution_count": null,
      "outputs": [
        {
          "output_type": "stream",
          "text": [
            "8\n"
          ],
          "name": "stdout"
        }
      ]
    },
    {
      "cell_type": "code",
      "metadata": {
        "colab": {
          "base_uri": "https://localhost:8080/"
        },
        "id": "qecimaj6zBLd",
        "outputId": "c65fd857-7390-49e1-a373-cb4ecc530e31"
      },
      "source": [
        "#006. 자료형 개념 배우기\n",
        "\n",
        "str_data = \"안녕하세요\"\n",
        "str_data2 = 'Hello world'\n",
        "print(str_data)\n",
        "str_data2\n",
        "\n",
        "complex_data = 1+5j # 복소수 선언: 파이썬에서 허수부는 j로 표현한다는 것!\n",
        "\n",
        "list_data = [1,2,3]\n",
        "tuple_data = (1,2,3)  # tuple은 요소값을 변경할 수 없다는 점에서 list와는 다르다. \n",
        "dict_data = {0:'False', 1:'True'}"
      ],
      "execution_count": null,
      "outputs": [
        {
          "output_type": "stream",
          "text": [
            "안녕하세요\n"
          ],
          "name": "stdout"
        }
      ]
    },
    {
      "cell_type": "code",
      "metadata": {
        "colab": {
          "base_uri": "https://localhost:8080/"
        },
        "id": "oxEUNdBpzPB2",
        "outputId": "ff275b37-9656-43ee-a129-6a9c8a6d6564"
      },
      "source": [
        "#007. 자료형 출력 개념 배우기(print)\n",
        "\n",
        "list_data = ['a', 'b', 'c']\n",
        "dict_data = {'a':97, 'b':98}\n",
        "print(list_data[2])\n",
        "print(dict_data['a'])\n",
        "\n",
        "print('#', end = \"\")  # print 후에 줄바꿈을 하지 않는 방법\n",
        "print('#')"
      ],
      "execution_count": null,
      "outputs": [
        {
          "output_type": "stream",
          "text": [
            "c\n",
            "97\n",
            "##\n"
          ],
          "name": "stdout"
        }
      ]
    },
    {
      "cell_type": "code",
      "metadata": {
        "colab": {
          "base_uri": "https://localhost:8080/"
        },
        "id": "A7L54tSy1F6d",
        "outputId": "18f8519b-4ca2-44fd-a0c0-8dfae479fe8a"
      },
      "source": [
        "# 008. 들여쓰기 개념 배우기\n",
        "\n",
        "# 파이썬은 다른 프로그래밍 언어와 달리 제어문, 함수, 클래스에서 실행 코드 부분을 {}으로 감싸주는 것이 없다. 대신 들여쓰기로 괄호를 대신한다. \n",
        "# 제어문이나 함수이름, 클래스 이름 뒤에 콜론(':')으로 제어문, 함수, 클래스 이름의 끝을 표시하며 : 다음에 실행코드를 작성한다. \n",
        "\n",
        "listdata = ['a', 'b', 'c']\n",
        "if 'a' in listdata:\n",
        "  print('a가 listdata에 있습니다.')  # : 뒤의 실행코드는 모두 들여쓰기 간격이 동일해야 한다. \n",
        "  print(listdata)\n",
        "else:\n",
        "  print('a가 listdata에 존재하지 않습니다.')\n",
        "\n"
      ],
      "execution_count": null,
      "outputs": [
        {
          "output_type": "stream",
          "text": [
            "a가 listdata에 있습니다.\n",
            "['a', 'b', 'c']\n"
          ],
          "name": "stdout"
        }
      ]
    },
    {
      "cell_type": "code",
      "metadata": {
        "colab": {
          "base_uri": "https://localhost:8080/"
        },
        "id": "WVOWPlFq2f9Y",
        "outputId": "5ef2e82e-358b-45df-a974-8d9dac1645b9"
      },
      "source": [
        "# 009. if문 개념 배우기 (if ~ else)\n",
        "\n",
        "x=1\n",
        "y=2\n",
        "if x>=y:\n",
        "  print('x가 y보다 크거나 같다.')\n",
        "else:\n",
        "  print('x가 y보다 작다.')"
      ],
      "execution_count": null,
      "outputs": [
        {
          "output_type": "stream",
          "text": [
            "x가 y보다 작다.\n"
          ],
          "name": "stdout"
        }
      ]
    },
    {
      "cell_type": "code",
      "metadata": {
        "colab": {
          "base_uri": "https://localhost:8080/"
        },
        "id": "yk5lYY1y3b0N",
        "outputId": "23078446-03f6-4eb5-f4ec-ecc52980cd95"
      },
      "source": [
        "# 010. if문 개념 배우기 (if~elif)\n",
        "\n",
        "x=3\n",
        "y=2\n",
        "if x>y:\n",
        "  print('x가 y보다 크다.')\n",
        "elif x<y:\n",
        "  print('x가 y보다 작다')\n",
        "else:\n",
        "  print('x와 y가 같다.')"
      ],
      "execution_count": null,
      "outputs": [
        {
          "output_type": "stream",
          "text": [
            "x가 y보다 크다.\n"
          ],
          "name": "stdout"
        }
      ]
    },
    {
      "cell_type": "code",
      "metadata": {
        "id": "ne4_AKl637Y_",
        "colab": {
          "base_uri": "https://localhost:8080/"
        },
        "outputId": "522c1e57-24b3-4936-a8df-e59e7c64091a"
      },
      "source": [
        "# 011. for 문 개념 배우기 (for)\n",
        "\n",
        "scope = [1,2,3,4,5]\n",
        "for x in scope:\n",
        "  print(x)"
      ],
      "execution_count": null,
      "outputs": [
        {
          "output_type": "stream",
          "text": [
            "1\n",
            "2\n",
            "3\n",
            "4\n",
            "5\n"
          ],
          "name": "stdout"
        }
      ]
    },
    {
      "cell_type": "code",
      "metadata": {
        "colab": {
          "base_uri": "https://localhost:8080/"
        },
        "id": "7W4um8c2_ReH",
        "outputId": "38b65203-e020-4f1e-c44d-ece97577242b"
      },
      "source": [
        "str='abcdef'\n",
        "for c in str:\n",
        "  print(c)"
      ],
      "execution_count": null,
      "outputs": [
        {
          "output_type": "stream",
          "text": [
            "a\n",
            "b\n",
            "c\n",
            "d\n",
            "e\n",
            "f\n"
          ],
          "name": "stdout"
        }
      ]
    },
    {
      "cell_type": "code",
      "metadata": {
        "colab": {
          "base_uri": "https://localhost:8080/"
        },
        "id": "roHwwBKb_XRi",
        "outputId": "c2816c2f-e45b-43f4-ebaa-6974ae391644"
      },
      "source": [
        "ascii_codes = {'a':97, 'b':98, 'c':99}\n",
        "for i in ascii_codes:\n",
        "  print(i)"
      ],
      "execution_count": null,
      "outputs": [
        {
          "output_type": "stream",
          "text": [
            "a\n",
            "b\n",
            "c\n"
          ],
          "name": "stdout"
        }
      ]
    },
    {
      "cell_type": "code",
      "metadata": {
        "colab": {
          "base_uri": "https://localhost:8080/"
        },
        "id": "X7uruV7stWrN",
        "outputId": "8fcd3c38-63df-4220-d716-02b650020180"
      },
      "source": [
        "# 012. for 문 개념 배우기 (for ~ continue ~ break)\n",
        "\n",
        "scope = [1,2,3,4,5]\n",
        "for x in scope:\n",
        "  print(x)\n",
        "  if x < 3:\n",
        "    continue\n",
        "  else:\n",
        "    break"
      ],
      "execution_count": null,
      "outputs": [
        {
          "output_type": "stream",
          "text": [
            "1\n",
            "2\n",
            "3\n"
          ],
          "name": "stdout"
        }
      ]
    },
    {
      "cell_type": "code",
      "metadata": {
        "colab": {
          "base_uri": "https://localhost:8080/"
        },
        "id": "TYuJ67pttrC-",
        "outputId": "dbcc1027-f96f-43be-d9d1-358d44abfc6f"
      },
      "source": [
        "for x in scope:\n",
        "  print(x)\n",
        "  if x>=3:\n",
        "    break"
      ],
      "execution_count": null,
      "outputs": [
        {
          "output_type": "stream",
          "text": [
            "1\n",
            "2\n",
            "3\n"
          ],
          "name": "stdout"
        }
      ]
    },
    {
      "cell_type": "code",
      "metadata": {
        "colab": {
          "base_uri": "https://localhost:8080/"
        },
        "id": "5NJU53nWt9gT",
        "outputId": "129324ad-7cc1-43ae-c96d-ef2e2a7a622e"
      },
      "source": [
        "# 013. for 문 배우기 (for ~ else)\n",
        "\n",
        "scope = [1,2,3]\n",
        "for x in scope:\n",
        "  print(x)\n",
        "  #break\n",
        "else: \n",
        "  print('Perfect')"
      ],
      "execution_count": null,
      "outputs": [
        {
          "output_type": "stream",
          "text": [
            "1\n",
            "2\n",
            "3\n",
            "Perfect\n"
          ],
          "name": "stdout"
        }
      ]
    },
    {
      "cell_type": "code",
      "metadata": {
        "colab": {
          "base_uri": "https://localhost:8080/"
        },
        "id": "_5mJ98rhvXEO",
        "outputId": "0a71a5b4-27c3-4f75-e9fa-3ab67c14e4be"
      },
      "source": [
        "# 014. while문 개념 배우기 (while ~ continue ~ break)\n",
        "\n",
        "x = 0\n",
        "while x < 10:\n",
        "  x = x+1\n",
        "  if x < 3:\n",
        "    continue\n",
        "  print(x)\n",
        "  if x > 7:\n",
        "    break"
      ],
      "execution_count": null,
      "outputs": [
        {
          "output_type": "stream",
          "text": [
            "3\n",
            "4\n",
            "5\n",
            "6\n",
            "7\n",
            "8\n"
          ],
          "name": "stdout"
        }
      ]
    },
    {
      "cell_type": "code",
      "metadata": {
        "colab": {
          "base_uri": "https://localhost:8080/"
        },
        "id": "eCpkqJQOwvYr",
        "outputId": "5031ad04-b6f8-4810-c048-211d2a63c9bc"
      },
      "source": [
        "x=1\n",
        "total=0\n",
        "while 1:\n",
        "  total = total +x\n",
        "  if total > 100000:\n",
        "    print(x)\n",
        "    print(total)\n",
        "    break\n",
        "  else: x = x+1"
      ],
      "execution_count": null,
      "outputs": [
        {
          "output_type": "stream",
          "text": [
            "447\n",
            "100128\n"
          ],
          "name": "stdout"
        }
      ]
    },
    {
      "cell_type": "code",
      "metadata": {
        "id": "lmdK2UhyxQKn"
      },
      "source": [
        "# 015. None 개념 배우기\n",
        "\n",
        "val = None\n",
        "condition = 1\n",
        "if condition == 1:\n",
        "  val = [1,2,3]\n",
        "else:\n",
        "  val = 'I love Python'"
      ],
      "execution_count": null,
      "outputs": []
    },
    {
      "cell_type": "markdown",
      "metadata": {
        "id": "NBLmoHQnBbam"
      },
      "source": [
        "# Part2. Python 프로그래밍 기초 다지기"
      ]
    },
    {
      "cell_type": "code",
      "metadata": {
        "colab": {
          "base_uri": "https://localhost:8080/"
        },
        "id": "JB-aeucVnkdQ",
        "outputId": "71e21245-2572-4418-b76a-92da8ce718f2"
      },
      "source": [
        "# 016. 정수형 자료 이해하기\n",
        "\n",
        "int_data = 10\n",
        "bin_data = 0b10\n",
        "oct_data = 0o10\n",
        "hex_data = 0x10\n",
        "long_data = 1234567890123456789\n",
        "print(int_data)\n",
        "print(bin_data)\n",
        "print(oct_data)\n",
        "print(hex_data)\n",
        "print(long_data)\n"
      ],
      "execution_count": null,
      "outputs": [
        {
          "output_type": "stream",
          "text": [
            "10\n",
            "2\n",
            "8\n",
            "16\n",
            "1234567890123456789\n"
          ],
          "name": "stdout"
        }
      ]
    },
    {
      "cell_type": "code",
      "metadata": {
        "colab": {
          "base_uri": "https://localhost:8080/"
        },
        "id": "_dd6_kP1ox_9",
        "outputId": "709080cb-3797-4dd7-e272-b75b9a8d8ef7"
      },
      "source": [
        "# 017. 실수형 자료 이해하기\n",
        "\n",
        "f1 = 1.0\n",
        "f2 = 3.14\n",
        "f3 = 1.56e3\n",
        "f4 = -0.7e-4\n",
        "print(f1)\n",
        "print(f2)\n",
        "print(f3)\n",
        "print(f4)"
      ],
      "execution_count": null,
      "outputs": [
        {
          "output_type": "stream",
          "text": [
            "1.0\n",
            "3.14\n",
            "1560.0\n",
            "-7e-05\n"
          ],
          "name": "stdout"
        }
      ]
    },
    {
      "cell_type": "code",
      "metadata": {
        "colab": {
          "base_uri": "https://localhost:8080/"
        },
        "id": "SyosOhM2p3zU",
        "outputId": "581eaaf1-408d-40c1-b0ff-baefecb197f3"
      },
      "source": [
        "# 018. 복소수형 자료 이해하기\n",
        "\n",
        "c1 = 1+7j\n",
        "print(c1.real); print(c1.imag)\n",
        "c2 = complex(2,3)\n",
        "print(c2)"
      ],
      "execution_count": null,
      "outputs": [
        {
          "output_type": "stream",
          "text": [
            "1.0\n",
            "7.0\n",
            "(2+3j)\n"
          ],
          "name": "stdout"
        }
      ]
    },
    {
      "cell_type": "code",
      "metadata": {
        "colab": {
          "base_uri": "https://localhost:8080/"
        },
        "id": "14ELjsCRqUL5",
        "outputId": "8be376b6-9f71-4e5d-beda-e124407ddc3d"
      },
      "source": [
        "# 019. 대입 연산자 이해하기 (=)\n",
        "\n",
        "a = 1\n",
        "b = 2\n",
        "ret = a+b\n",
        "print('a와b를 더한 값은', end = '')\n",
        "print(ret, end = '')\n",
        "print('입니다')"
      ],
      "execution_count": null,
      "outputs": [
        {
          "output_type": "stream",
          "text": [
            "a와b를 더한 값은3입니다\n"
          ],
          "name": "stdout"
        }
      ]
    },
    {
      "cell_type": "code",
      "metadata": {
        "id": "yEf7AskArAJL"
      },
      "source": [
        "# 020. 사칙 연산자 이해하기 (+,-,*,/,**)\n",
        "\n",
        "a = 2\n",
        "b = 4\n",
        "ret1 = a+b\n",
        "ret2 = a-b\n",
        "ret3 = a*b\n",
        "ret4 = a/b\n",
        "ret5 = a**b\n",
        "ret6 = a+a*b/a\n",
        "ret7 = (a+b)*(a-b)\n",
        "ret8 = a*b**a"
      ],
      "execution_count": null,
      "outputs": []
    },
    {
      "cell_type": "code",
      "metadata": {
        "colab": {
          "base_uri": "https://localhost:8080/"
        },
        "id": "FftwSW8B5h_9",
        "outputId": "1fae4d0a-3595-4624-8ab1-5dacd482d3af"
      },
      "source": [
        "# 021. 연산자 축약 이해하기\n",
        "\n",
        "a = 0\n",
        "a += 1\n",
        "a -= 5\n",
        "a *= 2\n",
        "a /= 4\n",
        "\n",
        "print(a)"
      ],
      "execution_count": null,
      "outputs": [
        {
          "output_type": "stream",
          "text": [
            "-2.0\n"
          ],
          "name": "stdout"
        }
      ]
    },
    {
      "cell_type": "code",
      "metadata": {
        "colab": {
          "base_uri": "https://localhost:8080/"
        },
        "id": "kRoPRTbj64vT",
        "outputId": "d52f6c8a-7b10-4940-d4f0-cd041f3c7c46"
      },
      "source": [
        "# 022. True와 False 이해하기\n",
        "\n",
        "a = True\n",
        "b = False\n",
        "print(a == 1)\n",
        "print(b != 0)"
      ],
      "execution_count": null,
      "outputs": [
        {
          "output_type": "stream",
          "text": [
            "True\n",
            "False\n"
          ],
          "name": "stdout"
        }
      ]
    },
    {
      "cell_type": "code",
      "metadata": {
        "colab": {
          "base_uri": "https://localhost:8080/"
        },
        "id": "HNWyqd_4EGQ8",
        "outputId": "dfa41663-b90d-4ad2-c6a4-9152fbd92e7e"
      },
      "source": [
        "# 023. 관계 연산자 이해하기 (==, !=, <, <=, >, >=)\n",
        "\n",
        "x = 1; y = 2\n",
        "str1 = 'abc'; str2 = 'python'\n",
        "print(x == y)\n",
        "print(x != y)\n",
        "print(str1 == str2)\n",
        "print(str2 == 'python')\n",
        "print(str1 < str2)"
      ],
      "execution_count": null,
      "outputs": [
        {
          "output_type": "stream",
          "text": [
            "False\n",
            "True\n",
            "False\n",
            "True\n",
            "True\n"
          ],
          "name": "stdout"
        }
      ]
    },
    {
      "cell_type": "code",
      "metadata": {
        "colab": {
          "base_uri": "https://localhost:8080/"
        },
        "id": "ko3VrdtwFspT",
        "outputId": "5953bffd-8b8a-42e4-e3f0-093df0907746"
      },
      "source": [
        "# 024. 논리 연산자 이해하기 (and, or, not)\n",
        "\n",
        "bool1 = True; bool2 = False; bool3 = True; bool4 = False\n",
        "print(bool1 and bool2)\n",
        "print(bool1 and bool3)\n",
        "print(bool2 or bool3)\n",
        "print(bool2 or bool4)\n",
        "print(not bool1)\n",
        "print(not bool2)"
      ],
      "execution_count": null,
      "outputs": [
        {
          "output_type": "stream",
          "text": [
            "False\n",
            "True\n",
            "True\n",
            "False\n",
            "False\n",
            "True\n"
          ],
          "name": "stdout"
        }
      ]
    },
    {
      "cell_type": "code",
      "metadata": {
        "colab": {
          "base_uri": "https://localhost:8080/"
        },
        "id": "pYLN0uFrIOeK",
        "outputId": "d406e32b-daf3-401d-9c1d-c808f537e7b5"
      },
      "source": [
        "# 025. 비트 연산자 이해하기 (&, |, ~, ^, >>, <<)\n",
        "\n",
        "bit1 = 0x61\n",
        "bit2 = 0x62\n",
        "print(hex(bit1 & bit2))\n",
        "print(hex(bit1 | bit2))\n",
        "print(hex(bit1 ^ bit2))\n",
        "print(hex(bit1 >> 1))\n",
        "print(hex(bit1 << 2))"
      ],
      "execution_count": null,
      "outputs": [
        {
          "output_type": "stream",
          "text": [
            "0x60\n",
            "0x63\n",
            "0x3\n",
            "0x30\n",
            "0x184\n"
          ],
          "name": "stdout"
        }
      ]
    },
    {
      "cell_type": "code",
      "metadata": {
        "id": "r61M3N0ZL1M3"
      },
      "source": [
        "# 026. 시퀀스 자료형 이해하기\n",
        "\n",
        "strdata = 'abcde'\n",
        "listdata = [1,[2,3], '안녕']\n",
        "tupledata = (100,200,300)"
      ],
      "execution_count": null,
      "outputs": []
    },
    {
      "cell_type": "code",
      "metadata": {
        "colab": {
          "base_uri": "https://localhost:8080/"
        },
        "id": "Jg614ws4SplT",
        "outputId": "d78fcc0f-ea61-4056-cb95-1ea99ac47bc8"
      },
      "source": [
        "# 027. 시퀀스 자료 인덱싱 이해하기\n",
        "\n",
        "strdata = 'Time is money!!'\n",
        "listdata = [1,2, [1,2,3]]\n",
        "print(strdata[5])\n",
        "print(strdata[-2])\n",
        "print(listdata[0])\n",
        "print(listdata[-1])\n",
        "print(listdata[2][-1])"
      ],
      "execution_count": null,
      "outputs": [
        {
          "output_type": "stream",
          "text": [
            "i\n",
            "!\n",
            "1\n",
            "[1, 2, 3]\n",
            "3\n"
          ],
          "name": "stdout"
        }
      ]
    },
    {
      "cell_type": "code",
      "metadata": {
        "colab": {
          "base_uri": "https://localhost:8080/"
        },
        "id": "BacmGgZoTtmr",
        "outputId": "f6dd877e-4a21-4ba3-cf73-21f4fb9c0b89"
      },
      "source": [
        "# 028. 시퀀스 자료 슬라이싱 이해하기\n",
        "\n",
        "strdata = 'Time is money!!'\n",
        "print(strdata[1:5])\n",
        "print(strdata[:7])\n",
        "print(strdata[9:])\n",
        "print(strdata[:-3])\n",
        "print(strdata[-3:])\n",
        "print(strdata[:])\n",
        "print(strdata[::2])"
      ],
      "execution_count": null,
      "outputs": [
        {
          "output_type": "stream",
          "text": [
            "ime \n",
            "Time is\n",
            "oney!!\n",
            "Time is mone\n",
            "y!!\n",
            "Time is money!!\n",
            "Tm smny!\n"
          ],
          "name": "stdout"
        }
      ]
    },
    {
      "cell_type": "code",
      "metadata": {
        "colab": {
          "base_uri": "https://localhost:8080/"
        },
        "id": "AGDQSH4ZV6EI",
        "outputId": "66ef8fe8-ba28-4520-dc9f-4e96763ed168"
      },
      "source": [
        "# 029. 시퀀스 자료 연결 이해하기(+)\n",
        "\n",
        "strdata1 = 'I love '; strdata2 = 'Python'; strdata3 = 'you'\n",
        "listdata1 = [1,2,3]; listdata2 = [4,5,6]\n",
        "print(strdata1 + strdata2)\n",
        "print(strdata1 + strdata3)\n",
        "print(listdata1 + listdata2) "
      ],
      "execution_count": null,
      "outputs": [
        {
          "output_type": "stream",
          "text": [
            "I love Python\n",
            "I love you\n",
            "[1, 2, 3, 4, 5, 6]\n"
          ],
          "name": "stdout"
        }
      ]
    },
    {
      "cell_type": "code",
      "metadata": {
        "colab": {
          "base_uri": "https://localhost:8080/"
        },
        "id": "HFk8_AsUXdfV",
        "outputId": "234fe644-bba8-4913-f015-022089f32123"
      },
      "source": [
        "# 030. 시퀀스 자료 반복 이해하기(*)\n",
        "\n",
        "artist = 'BTS!'\n",
        "fan = 'ARMY'\n",
        "dispdata = fan + '들이 외칩니다.' + artist*3\n",
        "print(dispdata)"
      ],
      "execution_count": null,
      "outputs": [
        {
          "output_type": "stream",
          "text": [
            "ARMY들이 외칩니다.BTS!BTS!BTS!\n"
          ],
          "name": "stdout"
        }
      ]
    },
    {
      "cell_type": "code",
      "metadata": {
        "colab": {
          "base_uri": "https://localhost:8080/"
        },
        "id": "sDPuU_SG5pNU",
        "outputId": "20b68a2c-8157-4301-dcd3-4bf45b2a2208"
      },
      "source": [
        "# 031. 시퀀스 자료 크기 이해하기(len)\n",
        "\n",
        "strdata1 = 'I love python'\n",
        "strdata2 = '나는 파이썬을 사랑합니다'\n",
        "listdata = ['a','b','c',strdata1, strdata2]\n",
        "print(len(strdata1))\n",
        "print(len(strdata2))\n",
        "print(len(listdata))\n",
        "print(len(listdata[3]))"
      ],
      "execution_count": null,
      "outputs": [
        {
          "output_type": "stream",
          "text": [
            "13\n",
            "13\n",
            "5\n",
            "13\n"
          ],
          "name": "stdout"
        }
      ]
    },
    {
      "cell_type": "code",
      "metadata": {
        "colab": {
          "base_uri": "https://localhost:8080/"
        },
        "id": "tNhCcfbT6sYv",
        "outputId": "e90c5691-ac54-4f86-8940-a648962a196b"
      },
      "source": [
        "# 032. 멤버체크 이해하기 (in)\n",
        "\n",
        "listdata = [1,2,3,4]\n",
        "ret1 = 5 in listdata\n",
        "ret2 = 4 in listdata\n",
        "print(ret1); print(ret2)\n",
        "strdata = 'abcd'\n",
        "ret3 = 'c' in strdata\n",
        "ret4 = 'l' in strdata\n",
        "print(ret3); print(ret4)"
      ],
      "execution_count": null,
      "outputs": [
        {
          "output_type": "stream",
          "text": [
            "False\n",
            "True\n",
            "True\n",
            "False\n"
          ],
          "name": "stdout"
        }
      ]
    },
    {
      "cell_type": "code",
      "metadata": {
        "id": "AQ4rIarT7YI1"
      },
      "source": [
        "# 033. 문자열 이해하기\n",
        "\n",
        "strdata1 = '나는 파이썬 프로그래머다'\n",
        "strdata2 = 'You are a programmer'\n",
        "strdata3 = \"\"\"I love \n",
        "python. You love\n",
        "pyton too!\n",
        "\"\"\"\n",
        "strdata4 = \"My son's name is John\"\n",
        "strdata5 = '문자열 \"abc\"의 길이는 3입니다.'"
      ],
      "execution_count": null,
      "outputs": []
    },
    {
      "cell_type": "code",
      "metadata": {
        "colab": {
          "base_uri": "https://localhost:8080/"
        },
        "id": "OdXlfxtD734z",
        "outputId": "bc51dc7c-5891-4891-9486-a7c00615a1fa"
      },
      "source": [
        "# 034. 문자열 포맷팅 이해하기\n",
        "\n",
        "txt1 ='자바'; txt2 = '파이썬'\n",
        "num1 = 5; num2 = 10\n",
        "print('나는 %s보다 %s에 더 익숙합니다.' %(txt1, txt2))\n",
        "print('%s은 %s보다 %d배 더 쉽습니다.' %(txt2, txt1, num1))\n",
        "print('%d + %d =%d'%(num1, num2, num1+num2))\n",
        "print('작년 세계 경제 성장률은 전년에 비해 %d%% 포인트 증가했다.'%num1)\n",
        "\n",
        "# 명령 프롬프트에서 진행률을 화면의 동일한 라인에 표시하는 방법\n",
        "from time import sleep\n",
        "for i in range(100):\n",
        "  msg = '\\r진행률 %d%%'%(i+1)\n",
        "  print(''*len(msg), end = '')\n",
        "  print(msg, end = '')\n",
        "  sleep(0.1)"
      ],
      "execution_count": null,
      "outputs": [
        {
          "output_type": "stream",
          "text": [
            "나는 자바보다 파이썬에 더 익숙합니다.\n",
            "파이썬은 자바보다 5배 더 쉽습니다.\n",
            "5 + 10 =15\n",
            "작년 세계 경제 성장률은 전년에 비해 5% 포인트 증가했다.\n",
            "진행률 100%"
          ],
          "name": "stdout"
        }
      ]
    },
    {
      "cell_type": "code",
      "metadata": {
        "colab": {
          "base_uri": "https://localhost:8080/"
        },
        "id": "o2twdeyOHAXg",
        "outputId": "557ee4a2-c7cb-469f-ea13-a5c4f84ef986"
      },
      "source": [
        "# 035. 이스케이프 문자 이해하기\n",
        "\n",
        "print('나는 파이썬을 사랑합니다.\\n 파이썬은 자바보다 훨씬 쉽습니다.')\n",
        "print('Name: John Smith\\tSex: Male\\tAge: 22')\n",
        "print('이 문장은 화면폭에 비해 너무 길어 보기가 힘듭니다.\\\n",
        "그래서 \\\\Enter키를 이용해 문장을 다음줄과 연속되도록 했습니다.')\n",
        "print('작은따옴표(\\')와 큰 따옴표(\")는 문자열을 정의할 때 사용합니다.')"
      ],
      "execution_count": null,
      "outputs": [
        {
          "output_type": "stream",
          "text": [
            "나는 파이썬을 사랑합니다.\n",
            " 파이썬은 자바보다 훨씬 쉽습니다.\n",
            "Name: John Smith\tSex: Male\tAge: 22\n",
            "이 문장은 화면폭에 비해 너무 길어 보기가 힘듭니다.그래서 \\Enter키를 이용해 문장을 다음줄과 연속되도록 했습니다.\n",
            "작은따옴표(')와 큰 따옴표(\")는 문자열을 정의할 때 사용합니다.\n"
          ],
          "name": "stdout"
        }
      ]
    },
    {
      "cell_type": "code",
      "metadata": {
        "id": "DQNa53yeJKgi",
        "colab": {
          "base_uri": "https://localhost:8080/"
        },
        "outputId": "f3f973e9-1596-4618-c08d-0ccabc6b802d"
      },
      "source": [
        "# 036. 리스트 이해하기 ([])\n",
        "\n",
        "list1 = [1,2,3,4,5]\n",
        "list2 = ['a', 'b', 'c']\n",
        "list3 = [1,'a','abc',[1,2,3,4,5],['a','b','c']]\n",
        "list1[0] = 6\n",
        "\n",
        "print(list1)\n",
        "def myfunc():\n",
        "  print('안녕하세요')\n",
        "list4 = [1,2, myfunc]\n",
        "list4[2]()"
      ],
      "execution_count": null,
      "outputs": [
        {
          "output_type": "stream",
          "text": [
            "[6, 2, 3, 4, 5]\n",
            "안녕하세요\n"
          ],
          "name": "stdout"
        }
      ]
    },
    {
      "cell_type": "code",
      "metadata": {
        "colab": {
          "base_uri": "https://localhost:8080/"
        },
        "id": "c6obXDD5Lrf8",
        "outputId": "11a50bbc-9620-4f85-b144-a1ef98ade24e"
      },
      "source": [
        "# 037. 튜플 이해하기 (())\n",
        "\n",
        "tuple1 = (1,2,3,4,5)\n",
        "tuple2 = ('a','b','c')\n",
        "tuple3 = (1, 'a', 'abc', [1,2,3,4,5], ['a','b','c'])\n",
        "# tuple1[0] = 6\n",
        "\n",
        "def myfunc():\n",
        "  print('안녕하세요')\n",
        "\n",
        "tuple4 = (1,2, myfunc)\n",
        "tuple4[2]()"
      ],
      "execution_count": null,
      "outputs": [
        {
          "output_type": "stream",
          "text": [
            "안녕하세요\n"
          ],
          "name": "stdout"
        }
      ]
    },
    {
      "cell_type": "code",
      "metadata": {
        "colab": {
          "base_uri": "https://localhost:8080/"
        },
        "id": "jIxZKSbweoom",
        "outputId": "668f13eb-9759-40c9-9339-f4b0b263abd6"
      },
      "source": [
        "# 038. 사전 이해하기 ({})\n",
        "dict1 = {'a':1, 'b':2, 'c':3}\n",
        "print(dict1['a'])\n",
        "dict1['d'] = 4\n",
        "print(dict1)\n",
        "dict1['b'] = 7\n",
        "print(dict1)\n",
        "print(len(dict1))"
      ],
      "execution_count": null,
      "outputs": [
        {
          "output_type": "stream",
          "text": [
            "1\n",
            "{'a': 1, 'b': 2, 'c': 3, 'd': 4}\n",
            "{'a': 1, 'b': 7, 'c': 3, 'd': 4}\n",
            "4\n"
          ],
          "name": "stdout"
        }
      ]
    },
    {
      "cell_type": "code",
      "metadata": {
        "colab": {
          "base_uri": "https://localhost:8080/"
        },
        "id": "-bu1Vm7slxNA",
        "outputId": "4434bb4c-2613-4c08-fcad-aa1c2e4ef870"
      },
      "source": [
        "# 039. 함수 이해하기(def)\n",
        "\n",
        "def add_number(n1,n2):\n",
        "  ret = n1+n2\n",
        "  return ret\n",
        "\n",
        "def add_txt(t1, t2):\n",
        "  print(t1+t2)\n",
        "\n",
        "ans = add_number(10,15)\n",
        "print(ans)\n",
        "text1 = '대한민국~'\n",
        "text2 = '만세!!'\n",
        "add_txt(text1, text2)"
      ],
      "execution_count": null,
      "outputs": [
        {
          "output_type": "stream",
          "text": [
            "25\n",
            "대한민국~만세!!\n"
          ],
          "name": "stdout"
        }
      ]
    },
    {
      "cell_type": "code",
      "metadata": {
        "colab": {
          "base_uri": "https://localhost:8080/"
        },
        "id": "iOKZtlwonZYw",
        "outputId": "8e2b4170-cafa-4b52-8828-992a209e15a1"
      },
      "source": [
        "# 040. 함수 인자 이해하기\n",
        "\n",
        "def add_txt(t1, t2 = '파이썬'):\n",
        "  print(t1 + ':' + t2)\n",
        "\n",
        "add_txt('베스트')\n",
        "add_txt(t2 = '대한민국', t1 = '1등')\n",
        "\n",
        "def func1(*args):\n",
        "  print(args)\n",
        "\n",
        "def func2(width, height, **kwargs):\n",
        "  print(kwargs)\n",
        "\n",
        "func1()\n",
        "func1(3,5,1,5)\n",
        "func2(10,20)\n",
        "func2(10,20, depth = 50, color = 'blue')"
      ],
      "execution_count": null,
      "outputs": [
        {
          "output_type": "stream",
          "text": [
            "베스트:파이썬\n",
            "1등:대한민국\n",
            "()\n",
            "(3, 5, 1, 5)\n",
            "{}\n",
            "{'depth': 50, 'color': 'blue'}\n"
          ],
          "name": "stdout"
        }
      ]
    },
    {
      "cell_type": "code",
      "metadata": {
        "colab": {
          "base_uri": "https://localhost:8080/"
        },
        "id": "b3pkENuToCIe",
        "outputId": "a3b83483-2452-453f-f66c-d693cd5f16ee"
      },
      "source": [
        "# 041. 지역변수와 전역변수 이해하기 (global)\n",
        "# 함수 내에서 선언하면 지역변수, 함수 밖에서 선언하면 전역변수\n",
        "\n",
        "param = 10\n",
        "strdata = '전역변수'\n",
        "\n",
        "def func1():\n",
        "  strdata = '지역변수'\n",
        "  print(strdata)\n",
        "\n",
        "def func2(param):\n",
        "  param = 1\n",
        "\n",
        "def func3():\n",
        "  global param\n",
        "  param = 50\n",
        "\n",
        "func1()\n",
        "print(strdata)\n",
        "print(param)\n",
        "func2(param)\n",
        "print(param)\n",
        "func3()\n",
        "print(param)"
      ],
      "execution_count": null,
      "outputs": [
        {
          "output_type": "stream",
          "text": [
            "지역변수\n",
            "전역변수\n",
            "10\n",
            "10\n",
            "50\n"
          ],
          "name": "stdout"
        }
      ]
    },
    {
      "cell_type": "code",
      "metadata": {
        "colab": {
          "base_uri": "https://localhost:8080/"
        },
        "id": "OnnHx4ArsJvr",
        "outputId": "db5f36bc-3eea-42a5-d8d9-5cf2d0c8686b"
      },
      "source": [
        "# 042. 함수 리턴값 이해하기 (return)\n",
        "\n",
        "def reverse(x,y,z):\n",
        "  return z,y,x\n",
        "\n",
        "ret = reverse(1,2,3)\n",
        "print(ret)\n",
        "\n",
        "r1, r2, r3 = reverse('a','b','c')\n",
        "print(r1); print(r2); print(r3)"
      ],
      "execution_count": null,
      "outputs": [
        {
          "output_type": "stream",
          "text": [
            "(3, 2, 1)\n",
            "c\n",
            "b\n",
            "a\n"
          ],
          "name": "stdout"
        }
      ]
    },
    {
      "cell_type": "markdown",
      "metadata": {
        "id": "MOnNyT7kJU9A"
      },
      "source": [
        "### working directory 설정"
      ]
    },
    {
      "cell_type": "code",
      "metadata": {
        "id": "HqTrNutnTrPs"
      },
      "source": [
        "# working directofy 설정\n",
        "\n",
        "import os\n",
        "os.chdir('/content/drive/MyDrive/공부/코딩공부/초보자를 위한 파이썬 200제')"
      ],
      "execution_count": null,
      "outputs": []
    },
    {
      "cell_type": "code",
      "metadata": {
        "colab": {
          "base_uri": "https://localhost:8080/"
        },
        "id": "CzxlYbUoTZHM",
        "outputId": "614c17ce-a7d2-47f3-97c6-73d9f3b9dc29"
      },
      "source": [
        "!pwd"
      ],
      "execution_count": null,
      "outputs": [
        {
          "output_type": "stream",
          "text": [
            "/content/drive/MyDrive/공부/코딩공부/초보자를 위한 파이썬 200제\n"
          ],
          "name": "stdout"
        }
      ]
    },
    {
      "cell_type": "code",
      "metadata": {
        "colab": {
          "base_uri": "https://localhost:8080/"
        },
        "id": "9XGuRgAYUG84",
        "outputId": "1424747e-a6ef-4966-c11c-d2d68300bc5e"
      },
      "source": [
        "# 043. 파이썬 모듈 이해하기\n",
        "\n",
        "import time\n",
        "\n",
        "print('5초간 프로그램을 정지합니다.')\n",
        "time.sleep(5)\n",
        "print('5초가 지나갔습니다.')"
      ],
      "execution_count": null,
      "outputs": [
        {
          "output_type": "stream",
          "text": [
            "5초간 프로그램을 정지합니다.\n",
            "5초가 지나갔습니다.\n"
          ],
          "name": "stdout"
        }
      ]
    },
    {
      "cell_type": "code",
      "metadata": {
        "id": "s47OI3vLUXx2"
      },
      "source": [
        "# 043-1. 파이썬 모듈 만들기\n",
        "\n",
        "def add_txt(t1, t2):\n",
        "  return t1 + ':' + t2\n",
        "\n",
        "def reverse(x,y,z):\n",
        "  return z,y,x\n",
        "\n",
        "# 위와 같이 모듈을 만들고 mylib.py 파일로 디렉토리에 저장하였음"
      ],
      "execution_count": null,
      "outputs": []
    },
    {
      "cell_type": "code",
      "metadata": {
        "colab": {
          "base_uri": "https://localhost:8080/"
        },
        "id": "Vwg_3fgwUq68",
        "outputId": "2cc73660-39ce-4439-a118-d7fc2d7eccd4"
      },
      "source": [
        "# 모듈 불러와서 실행하기\n",
        "\n",
        "import mylib  # 해당 mylib.py 파일을 워킹디렉토리에 넣으니까 import 됨\n",
        "\n",
        "ret1 = mylib.add_txt('대한민국', '1등')\n",
        "ret2 = mylib.reverse(1,2,3,)\n",
        "print(ret1)\n",
        "print(ret2)"
      ],
      "execution_count": null,
      "outputs": [
        {
          "output_type": "stream",
          "text": [
            "대한민국:1등\n",
            "(3, 2, 1)\n"
          ],
          "name": "stdout"
        }
      ]
    },
    {
      "cell_type": "code",
      "metadata": {
        "colab": {
          "base_uri": "https://localhost:8080/"
        },
        "id": "uLXC6ct5UtzZ",
        "outputId": "02f5ba9c-4956-40f3-de4d-cb1318a35263"
      },
      "source": [
        "# 044. 파이썬 패키지 이해하기\n",
        "# 파이썬 모듈을 계층적인 디렉토리 형태로 구성한 것을 파이썬 패키지라 한다.\n",
        "\n",
        "import mypackage.mylib  # 소스코드가 있는 워킹디렉토리에 mypackage 디렉토리 만들었음. (내용이 version=1.0 인 __init__.py 파일이 패키지 내에 있어야 함)\n",
        "\n",
        "ret1 = mypackage.mylib.add_txt('대한민국','1등')\n",
        "ret2 = mypackage.mylib.reverse(1,2,3)\n",
        "print(ret1)\n",
        "print(ret2)"
      ],
      "execution_count": null,
      "outputs": [
        {
          "output_type": "stream",
          "text": [
            "대한민국:1등\n",
            "(3, 2, 1)\n"
          ],
          "name": "stdout"
        }
      ]
    },
    {
      "cell_type": "code",
      "metadata": {
        "colab": {
          "base_uri": "https://localhost:8080/"
        },
        "id": "6dj2goI1VPAl",
        "outputId": "3a1f5afa-7a0b-4496-a581-c832218751d8"
      },
      "source": [
        "# 045. 파이썬 모듈 임포트 이해하기(import)\n",
        "\n",
        "import time  # 파이썬 내장 모듈인 time을 임포트\n",
        "import mylib  # 내가 작성한 mylib 모듈을 임포트\n",
        "import mypackage.mylib  # mypackage에 있는 mylib 모듈을 임포트\n",
        "\n",
        "time.sleep(1)\n",
        "mylib.add_txt('나는', '파이썬이다')\n",
        "mypackage.mylib.reverse(1,2,3)"
      ],
      "execution_count": null,
      "outputs": [
        {
          "output_type": "execute_result",
          "data": {
            "text/plain": [
              "(3, 2, 1)"
            ]
          },
          "metadata": {
            "tags": []
          },
          "execution_count": 40
        }
      ]
    },
    {
      "cell_type": "code",
      "metadata": {
        "colab": {
          "base_uri": "https://localhost:8080/"
        },
        "id": "DX1OR6Sfb2TK",
        "outputId": "75d4af0c-c818-4497-823c-6d12e8d5365a"
      },
      "source": [
        "# 046. 파이썬 모듈 임포트 이해하기2 (from ~ import)\n",
        "\n",
        "from time import sleep\n",
        "from mypackage import mylib\n",
        "from mypackage.mylib import reverse\n",
        "\n",
        "sleep(1)\n",
        "mylib.add_txt('나는', '파이썬이다')\n",
        "reverse(1,2,3)"
      ],
      "execution_count": null,
      "outputs": [
        {
          "output_type": "execute_result",
          "data": {
            "text/plain": [
              "(3, 2, 1)"
            ]
          },
          "metadata": {
            "tags": []
          },
          "execution_count": 41
        }
      ]
    },
    {
      "cell_type": "code",
      "metadata": {
        "id": "v-2JkpincNst"
      },
      "source": [
        "# 047. 파이썬 모듈 임퐅 이해하기3 (import~as)\n",
        "\n",
        "import mypackage as mp\n",
        "import mypackage.mylib as ml\n",
        "\n",
        "ret1 = mp.mylib.add_txt('대한민국', '1등')\n",
        "ret2 = ml.reverse(1,2,3)"
      ],
      "execution_count": null,
      "outputs": []
    },
    {
      "cell_type": "code",
      "metadata": {
        "id": "6WVX8CzEeeoO"
      },
      "source": [
        "# 048. 파일 열고 닫기 (open, close)"
      ],
      "execution_count": null,
      "outputs": []
    },
    {
      "cell_type": "code",
      "metadata": {
        "colab": {
          "base_uri": "https://localhost:8080/"
        },
        "id": "WpObeD1ugYvF",
        "outputId": "2980c26a-13d1-48e6-ab75-978d74258fa4"
      },
      "source": [
        "# 클래스 이해하기 (class)\n",
        "\n",
        "class MyClass:\n",
        "  var = '안녕하세요'\n",
        "  def sayHello(self):\n",
        "    print(self.var)\n",
        "\n",
        "obj = MyClass()  # MyClass 인스턴스 객체 생성\n",
        "print(obj.var)  # '안녕하세요'가 출력됨\n",
        "obj.sayHello()  # '안녕하세요'가 출력됨"
      ],
      "execution_count": null,
      "outputs": [
        {
          "output_type": "stream",
          "text": [
            "안녕하세요\n",
            "안녕하세요\n"
          ],
          "name": "stdout"
        }
      ]
    },
    {
      "cell_type": "code",
      "metadata": {
        "colab": {
          "base_uri": "https://localhost:8080/"
        },
        "id": "wVhaXhBWgyZ9",
        "outputId": "3a02af3d-0250-4031-fb47-ec72d7134899"
      },
      "source": [
        "# 050. 클래스 멤버와 인스턴스 멤버 이해하기\n",
        "\n",
        "class MyClass:\n",
        "  var = '안녕하세요!!'\n",
        "  def sayHello(self):\n",
        "    param1 = '안녕'\n",
        "    self.param2 = '하이'\n",
        "    print(param1)\n",
        "    print(self.var)\n",
        "\n",
        "obj = MyClass()\n",
        "print(obj.var)\n",
        "obj.sayHello()\n",
        "# obj.param1\n"
      ],
      "execution_count": null,
      "outputs": [
        {
          "output_type": "stream",
          "text": [
            "안녕하세요!!\n",
            "안녕\n",
            "안녕하세요!!\n"
          ],
          "name": "stdout"
        }
      ]
    },
    {
      "cell_type": "code",
      "metadata": {
        "id": "e6fqSNgElK-A",
        "colab": {
          "base_uri": "https://localhost:8080/"
        },
        "outputId": "efd7e89c-a3a3-4104-fd3b-0273f4cf1baf"
      },
      "source": [
        "# 051. 클래스 메소드 이해하기 \n",
        "\n",
        "class MyClass:\n",
        "  def sayHello(self):\n",
        "    print('안녕하세요')\n",
        "\n",
        "  def sayBye(self, name):\n",
        "    print('%s! 다음에 보자!' %name)\n",
        "\n",
        "obj = MyClass()\n",
        "obj.sayHello()\n",
        "obj.sayBye('철수')"
      ],
      "execution_count": null,
      "outputs": [
        {
          "output_type": "stream",
          "text": [
            "안녕하세요\n",
            "철수! 다음에 보자!\n"
          ],
          "name": "stdout"
        }
      ]
    },
    {
      "cell_type": "code",
      "metadata": {
        "colab": {
          "base_uri": "https://localhost:8080/"
        },
        "id": "KmoGO_m44Dn6",
        "outputId": "a3628a5d-1c02-42a1-be98-bfa5fb6c991c"
      },
      "source": [
        "# 052. 클래스 생성자 이해하기\n",
        "\n",
        "class MyClass:\n",
        "  def __init__(self):\n",
        "    self.var = '안녕하세요!'\n",
        "    print('MyClass 인스턴스 객체가 생성되었습니다')\n",
        "\n",
        "obj = MyClass()\n",
        "print(obj.var)"
      ],
      "execution_count": null,
      "outputs": [
        {
          "output_type": "stream",
          "text": [
            "MyClass 인스턴스 객체가 생성되었습니다\n",
            "안녕하세요!\n"
          ],
          "name": "stdout"
        }
      ]
    },
    {
      "cell_type": "code",
      "metadata": {
        "colab": {
          "base_uri": "https://localhost:8080/"
        },
        "id": "olKvQfe55Zvr",
        "outputId": "0411b80c-619d-4a3e-dc0a-07d1b2ee8b55"
      },
      "source": [
        "# 위의 인스턴스 객체에 인자를 대입하는 방법\n",
        "## MyClass의 생성자를 다음과 같이 수정하기\n",
        "\n",
        "class MyClass:\n",
        "  def __init__(self, txt):\n",
        "    self.var = txt\n",
        "    print('생성자 인자로 전달받은 값은<'+ self.var +'> 입니다')\n",
        "\n",
        "# MyClass 의 생성자가 인자를 한 개 가지므로 MyClass 인스턴스 객체는 다음과 같이 생성\n",
        "\n",
        "obj = MyClass('철수')"
      ],
      "execution_count": null,
      "outputs": [
        {
          "output_type": "stream",
          "text": [
            "생성자 인자로 전달받은 값은<철수> 입니다\n"
          ],
          "name": "stdout"
        }
      ]
    },
    {
      "cell_type": "code",
      "metadata": {
        "colab": {
          "base_uri": "https://localhost:8080/"
        },
        "id": "ijzF0Kvc6_Tj",
        "outputId": "191147b3-b045-4064-fed5-b85cdf35094e"
      },
      "source": [
        "# 053. 클래스 소멸자 이해하기\n",
        "\n",
        "class MyClass:\n",
        "  def __del__(self):\n",
        "    print('MyClass 인스턴스 객체가 메모리에서 제거됩니다')\n",
        "\n",
        "obj = MyClass()\n",
        "del obj"
      ],
      "execution_count": null,
      "outputs": [
        {
          "output_type": "stream",
          "text": [
            "MyClass 인스턴스 객체가 메모리에서 제거됩니다\n"
          ],
          "name": "stdout"
        }
      ]
    },
    {
      "cell_type": "code",
      "metadata": {
        "colab": {
          "base_uri": "https://localhost:8080/"
        },
        "id": "JmpuTwcQ7fSC",
        "outputId": "20d4310d-10c3-4b67-ca10-67c1f792a69b"
      },
      "source": [
        "# 054. 클래스 상속 이해하기\n",
        "\n",
        "class Add:\n",
        "  def add(self, n1, n2):\n",
        "    return n1 + n2\n",
        "\n",
        "class Calculator(Add):  # 부모클래스로부터 상속을 받아 자식클래스를 정의하는 방법은 다음과 같음 -> class 자식클래스(부모클래스):\n",
        "  def sub(self, n1, n2):\n",
        "    return n1 - n2\n",
        "\n",
        "obj = Calculator()\n",
        "print(obj.add(1,2))\n",
        "print(obj.sub(1,2))"
      ],
      "execution_count": null,
      "outputs": [
        {
          "output_type": "stream",
          "text": [
            "3\n",
            "-1\n"
          ],
          "name": "stdout"
        }
      ]
    },
    {
      "cell_type": "code",
      "metadata": {
        "colab": {
          "base_uri": "https://localhost:8080/"
        },
        "id": "NXjIvK6C8jA2",
        "outputId": "a2d785e7-245d-47c4-9208-9603f9c0b6b3"
      },
      "source": [
        "# 054-1. 다중상속\n",
        "## 자식클래스는 여러 개의 부모클래스로부터 상속받을 수 있다. 이를 다중상속이라고 한다. 다중 상속 클래스를 정의하는 방법은 다음과 같다.\n",
        "## class 자식클래스(부모클래스1, 부모클래스2, ..)\n",
        "\n",
        "class Add:\n",
        "  def add(self, n1, n2):\n",
        "    return n1 + n2\n",
        "\n",
        "class Multiply:\n",
        "  def multiply(self, n1, n2):\n",
        "    return n1*n2\n",
        "\n",
        "class Calculator(Add, Multiply):\n",
        "  def sub(self, n1, n2):\n",
        "    return n1 - n2\n",
        "\n",
        "obj = Calculator()\n",
        "print(obj.add(1,2))\n",
        "print(obj.multiply(3,2))"
      ],
      "execution_count": null,
      "outputs": [
        {
          "output_type": "stream",
          "text": [
            "3\n",
            "6\n"
          ],
          "name": "stdout"
        }
      ]
    },
    {
      "cell_type": "code",
      "metadata": {
        "colab": {
          "base_uri": "https://localhost:8080/"
        },
        "id": "ZQ8c9xtL-8rf",
        "outputId": "c2e804ed-a3eb-4552-d5c3-88be0dae068a"
      },
      "source": [
        "# 055. 예외처리 이해하기1 (try~except)\n",
        "## 프로그램이 실행되는 동안 오류가 발생하여 프로그램이 더 이상 진행될 수 없는 상태 -> 예외(Exception)상황\n",
        "## 프로그램에 예외가 발생하더라도 프로그램을 중단시키지 않고 예외에 대한 적절한 처리를 하여 프로그램을 계속 진행시킬 수 있도록 하는 구문이 try~except 이다.\n",
        "\n",
        "try:\n",
        "  print('안녕하세요')\n",
        "  print(param)\n",
        "except:\n",
        "  print('예외가 발생했습니다!')"
      ],
      "execution_count": null,
      "outputs": [
        {
          "output_type": "stream",
          "text": [
            "안녕하세요\n",
            "예외가 발생했습니다!\n"
          ],
          "name": "stdout"
        }
      ]
    },
    {
      "cell_type": "code",
      "metadata": {
        "id": "yObPK89F__ap",
        "colab": {
          "base_uri": "https://localhost:8080/"
        },
        "outputId": "408527f7-49e2-4475-dd0f-72bb1e2202d1"
      },
      "source": [
        "# 056. 예외처리 이해하기2 (try~except~else)\n",
        "\n",
        "try:\n",
        "  print('안녕하세요')\n",
        "  # print(param)\n",
        "except:\n",
        "  print('예외가 발생했습니다!')\n",
        "else:\n",
        "  print('예외가 발생하지 않았습니다.')"
      ],
      "execution_count": null,
      "outputs": [
        {
          "output_type": "stream",
          "text": [
            "안녕하세요\n",
            "예외가 발생하지 않았습니다.\n"
          ],
          "name": "stdout"
        }
      ]
    },
    {
      "cell_type": "code",
      "metadata": {
        "colab": {
          "base_uri": "https://localhost:8080/"
        },
        "id": "fJ_8486a-tP8",
        "outputId": "a64197af-12f3-4773-8c67-11b24048e613"
      },
      "source": [
        "# 057. 예외처리 이해하기3 (try~except~finally)\n",
        "\n",
        "try:\n",
        "  print('안녕하세요.')\n",
        "  print(param)\n",
        "except:\n",
        "  print('예외가 발생했습니다!')\n",
        "finally:\n",
        "  print('무조건 실행하는 코드')"
      ],
      "execution_count": null,
      "outputs": [
        {
          "output_type": "stream",
          "text": [
            "안녕하세요.\n",
            "예외가 발생했습니다!\n",
            "무조건 실행하는 코드\n"
          ],
          "name": "stdout"
        }
      ]
    },
    {
      "cell_type": "code",
      "metadata": {
        "colab": {
          "base_uri": "https://localhost:8080/"
        },
        "id": "gDrPV8Gu_a1N",
        "outputId": "b661e223-0769-4d6f-f06e-08bd5abe6ae3"
      },
      "source": [
        "# 058. 예외처리 이해하기4 (try~except Exception as e)\n",
        "## 파이썬은 발생 가능한 예외에 대해 exception 객체로 미리 정의해두고 있는데 이에 대한 내용은 다음 링크에서 확인할 수 있음\n",
        "## http://docs.python.org/3/library/exceptions.html#bltin-exceptions\n",
        "\n",
        "try:\n",
        "  print(param)\n",
        "except Exception as e:\n",
        "  print(e)"
      ],
      "execution_count": null,
      "outputs": [
        {
          "output_type": "stream",
          "text": [
            "name 'param' is not defined\n"
          ],
          "name": "stdout"
        }
      ]
    },
    {
      "cell_type": "code",
      "metadata": {
        "colab": {
          "base_uri": "https://localhost:8080/"
        },
        "id": "qJUOpP5c_r3N",
        "outputId": "94c56076-efba-46fb-8698-ec7d4fb7d8d2"
      },
      "source": [
        "# 059. 예외처리 이해하기5 (try~except 특정 예외)\n",
        "\n",
        "import time\n",
        "count = 1\n",
        "try:\n",
        "  while True:\n",
        "    print(count)\n",
        "    count +=1\n",
        "    time.sleep(0.5)\n",
        "except KeyboardInterrupt:\n",
        "  print('사용자에 의해 프로그램이 중단되었습니다')"
      ],
      "execution_count": null,
      "outputs": [
        {
          "output_type": "stream",
          "text": [
            "1\n",
            "2\n",
            "3\n",
            "4\n",
            "5\n",
            "6\n",
            "사용자에 의해 프로그램이 중단되었습니다\n"
          ],
          "name": "stdout"
        }
      ]
    },
    {
      "cell_type": "markdown",
      "metadata": {
        "id": "X6Gyg0DbAm59"
      },
      "source": [
        "# Part3. Python 프로그래밍 실력 다지기"
      ]
    },
    {
      "cell_type": "code",
      "metadata": {
        "colab": {
          "base_uri": "https://localhost:8080/"
        },
        "id": "FW6iJNvdBoup",
        "outputId": "1c2797fe-bf4d-4aa2-9585-c6d47d71b483"
      },
      "source": [
        "# 060. 사용자 입력받기(input)\n",
        "\n",
        "k = input('<값>을 입력하세요:')\n",
        "print('당신이 입력한 값은 <'+k+'>입니다.')"
      ],
      "execution_count": null,
      "outputs": [
        {
          "output_type": "stream",
          "text": [
            "<값>을 입력하세요:쉽지않다!\n",
            "당신이 입력한 값은 <쉽지않다!>입니다.\n"
          ],
          "name": "stdout"
        }
      ]
    },
    {
      "cell_type": "code",
      "metadata": {
        "colab": {
          "base_uri": "https://localhost:8080/"
        },
        "id": "DdfgW0bnB8Zh",
        "outputId": "7655cf10-d65c-40db-918f-d8f9f8557270"
      },
      "source": [
        "n = input('나의 이름은: ')\n",
        "print('나의 이름은 '+n+'이다.')"
      ],
      "execution_count": null,
      "outputs": [
        {
          "output_type": "stream",
          "text": [
            "나의 이름은: 남동욱\n",
            "나의 이름은 남동욱이다.\n"
          ],
          "name": "stdout"
        }
      ]
    },
    {
      "cell_type": "code",
      "metadata": {
        "id": "PBLiZbOrCiRz",
        "colab": {
          "base_uri": "https://localhost:8080/"
        },
        "outputId": "395771b9-1c7f-4a7f-83ed-4fe34d6814de"
      },
      "source": [
        "# 061. 자료형 확인하기(type)\n",
        "\n",
        "numdata = 57\n",
        "strdata = '파이썬'\n",
        "listdata = [1,2,3]\n",
        "dictdata = {'a':1, 'b':2}\n",
        "\n",
        "def func():\n",
        "  print('안녕하세요.')\n",
        "\n",
        "print(type(numdata))\n",
        "print(type(strdata))\n",
        "print(type(listdata))\n",
        "print(type(dictdata))\n",
        "print(type(func))"
      ],
      "execution_count": null,
      "outputs": [
        {
          "output_type": "stream",
          "text": [
            "<class 'int'>\n",
            "<class 'str'>\n",
            "<class 'list'>\n",
            "<class 'dict'>\n",
            "<class 'function'>\n"
          ],
          "name": "stdout"
        }
      ]
    },
    {
      "cell_type": "code",
      "metadata": {
        "colab": {
          "base_uri": "https://localhost:8080/"
        },
        "id": "3seYXzIK9BAd",
        "outputId": "d67b09d0-dde8-49e3-e66e-26834a2e0b7f"
      },
      "source": [
        "# 062. 나눗셈에서 나머지만 구하기(%)\n",
        "## 나누기 연산에서 나머지만 구하는 연산을 모듈로(modulo) 연산이라고 한다. 기호는 mod로 표시한다. (ex. 12 mod 3 = 0)\n",
        "## 파이썬에서 모듈로 연산 기호는 % 연산자이다. \n",
        "\n",
        "a = 11113\n",
        "b = 23\n",
        "ret = a%b\n",
        "print('<%d>를 <%d>로 나누면 <%d>가 나머지로 남습니다.' %(a, b, ret))"
      ],
      "execution_count": null,
      "outputs": [
        {
          "output_type": "stream",
          "text": [
            "<11113>를 <23>로 나누면 <4>가 나머지로 남습니다.\n"
          ],
          "name": "stdout"
        }
      ]
    },
    {
      "cell_type": "code",
      "metadata": {
        "colab": {
          "base_uri": "https://localhost:8080/"
        },
        "id": "nzWO8mHA92Il",
        "outputId": "cb2cbba1-a6ff-4680-c668-6219bbf9ed7a"
      },
      "source": [
        "# 063. 몫과 나머지 구하기(divmod)\n",
        "\n",
        "a = 11113\n",
        "b = 23\n",
        "ret1,ret2 = divmod(a,b)\n",
        "print('<%d/%d>는 몫이 <%d>, 나머지가 <%d>입니다.' %(a,b, ret1, ret2))"
      ],
      "execution_count": null,
      "outputs": [
        {
          "output_type": "stream",
          "text": [
            "<11113/23>는 몫이 <483>, 나머지가 <4>입니다.\n"
          ],
          "name": "stdout"
        }
      ]
    },
    {
      "cell_type": "code",
      "metadata": {
        "colab": {
          "base_uri": "https://localhost:8080/"
        },
        "id": "6fjqbGq_-uzt",
        "outputId": "f0164cf3-9738-4139-b54d-378bb7587d21"
      },
      "source": [
        "# 064. 10진수를 16진수로 변환하기(hex)\n",
        "\n",
        "h1 = hex(97)  # h1은 문자열 '0x61'\n",
        "h2 = hex(98)  # h2는 문자열 '0x62'\n",
        "ret1 = h1 + h2\n",
        "print(ret1)\n",
        "a = int(h1, 16)\n",
        "b = int(h2, 16)\n",
        "ret2 = a + b\n",
        "print(ret2)\n",
        "print(hex(ret2))"
      ],
      "execution_count": null,
      "outputs": [
        {
          "output_type": "stream",
          "text": [
            "0x610x62\n",
            "195\n",
            "0xc3\n"
          ],
          "name": "stdout"
        }
      ]
    },
    {
      "cell_type": "code",
      "metadata": {
        "colab": {
          "base_uri": "https://localhost:8080/"
        },
        "id": "Yt0a0HP__YoL",
        "outputId": "b0f26254-67c7-4ff9-9aa3-8d17c41edd26"
      },
      "source": [
        "# 065. 10진수를 2진수로 변환하기 (bin)\n",
        "\n",
        "b1 = bin(97)  # b1은 문자열 '0b11000001'\n",
        "b2 = bin(98)  # b2는 문자열 '0b11000010'\n",
        "\n",
        "ret1 = b1 + b2\n",
        "print(ret1)\n",
        "a = int(b1, 2)\n",
        "b = int(b2, 2)\n",
        "ret2 = a + b\n",
        "print(bin(ret2))"
      ],
      "execution_count": null,
      "outputs": [
        {
          "output_type": "stream",
          "text": [
            "0b11000010b1100010\n",
            "0b11000011\n"
          ],
          "name": "stdout"
        }
      ]
    },
    {
      "cell_type": "code",
      "metadata": {
        "colab": {
          "base_uri": "https://localhost:8080/"
        },
        "id": "CBJar6niB04i",
        "outputId": "106151bd-6419-4bf0-e383-bb8cb477d159"
      },
      "source": [
        "# 066. 2진수, 16진수를 10진수로 변환하기 (int)\n",
        "\n",
        "bnum = 0b11110000; bstr = '0b11110000'\n",
        "onum = 0o360; ostr = '0o360'\n",
        "hnum = 0xf0; hstr = '0xf0'\n",
        "b1 = int(bnum); b2 = int(bstr, 2)  # b2 = int(bstr, 0)\n",
        "o1 = int(onum); o2 = int(ostr, 8)  # o2 = int(ostr, 0)\n",
        "h1 = int(hnum); h2 = int(hstr, 16) # h2 = int(hstr, 0)\n",
        "print(b1); print(b2)\n",
        "print(o1); print(o2)\n",
        "print(h1); print(h2)"
      ],
      "execution_count": null,
      "outputs": [
        {
          "output_type": "stream",
          "text": [
            "240\n",
            "240\n",
            "240\n",
            "240\n",
            "240\n",
            "240\n"
          ],
          "name": "stdout"
        }
      ]
    },
    {
      "cell_type": "code",
      "metadata": {
        "colab": {
          "base_uri": "https://localhost:8080/"
        },
        "id": "6MKPeUHdCyDT",
        "outputId": "41d5c414-649c-4be8-f61f-143e7a9a2a19"
      },
      "source": [
        "# 067.절대값 구하기(abs)\n",
        "\n",
        "abs1 = abs(-3)\n",
        "abs2 = abs(-5.72)\n",
        "abs3 = abs(3+4j)\n",
        "print(abs1)\n",
        "print(abs2)\n",
        "print(abs3)"
      ],
      "execution_count": null,
      "outputs": [
        {
          "output_type": "stream",
          "text": [
            "3\n",
            "5.72\n",
            "5.0\n"
          ],
          "name": "stdout"
        }
      ]
    },
    {
      "cell_type": "code",
      "metadata": {
        "colab": {
          "base_uri": "https://localhost:8080/"
        },
        "id": "J5Qco5SMEoRT",
        "outputId": "049658e0-173b-461c-d14e-7d0ad19f0480"
      },
      "source": [
        "# 068. 반올림수 구하기(round)\n",
        "\n",
        "ret1 = round(1118)\n",
        "ret2 = round(16.554)\n",
        "ret3 = round(1118, -1)\n",
        "ret4 = round(16.554, 2)\n",
        "print(ret1)\n",
        "print(ret2)\n",
        "print(ret3)\n",
        "print(ret4)"
      ],
      "execution_count": null,
      "outputs": [
        {
          "output_type": "stream",
          "text": [
            "1118\n",
            "17\n",
            "1120\n",
            "16.55\n"
          ],
          "name": "stdout"
        }
      ]
    },
    {
      "cell_type": "code",
      "metadata": {
        "colab": {
          "base_uri": "https://localhost:8080/"
        },
        "id": "StaAxZ2PE7dX",
        "outputId": "cb380154-3136-4043-91a6-864c2de1864c"
      },
      "source": [
        "# 069. 실수형 자료를 정수형 자료로 변환하기(int)\n",
        "\n",
        "idata1 = int(-5.4)\n",
        "idata2 = int(1.78e1)\n",
        "idata3 = int(171.56)\n",
        "print(idata1)\n",
        "print(idata2)\n",
        "print(idata3)"
      ],
      "execution_count": null,
      "outputs": [
        {
          "output_type": "stream",
          "text": [
            "-5\n",
            "17\n",
            "171\n"
          ],
          "name": "stdout"
        }
      ]
    },
    {
      "cell_type": "code",
      "metadata": {
        "colab": {
          "base_uri": "https://localhost:8080/"
        },
        "id": "Lqw4eTsFFZig",
        "outputId": "4888c9b9-3903-4354-b024-40bb20aa7962"
      },
      "source": [
        "# 070. 정수형 자료를 실수형 자료로 변환하기(float)\n",
        "\n",
        "fdata = float(10)\n",
        "print(fdata)"
      ],
      "execution_count": null,
      "outputs": [
        {
          "output_type": "stream",
          "text": [
            "10.0\n"
          ],
          "name": "stdout"
        }
      ]
    },
    {
      "cell_type": "code",
      "metadata": {
        "id": "fdSrVH2pF9_0",
        "colab": {
          "base_uri": "https://localhost:8080/"
        },
        "outputId": "84564327-9142-4ca0-f3e9-0f3a9efe6cd0"
      },
      "source": [
        "# 071. 정수 리스트에서 소수만 걸러내기(filter)\n",
        "\n",
        "def getPrime(x):\n",
        "  if x%2 == 0:\n",
        "    return\n",
        "\n",
        "  for i in range(3, int(x/2), 2):\n",
        "    if x%i == 0:\n",
        "      break\n",
        "  else:\n",
        "    return x\n",
        "\n",
        "listdata = [117, 119, 1113, 11113, 11119]\n",
        "ret = filter(getPrime, listdata)  # filter의 첫번째 인자는 특정조건의 값을 추출하는 함수, 두번째 인자는 리스트와 같은 반복 가능한 자료가 입력\n",
        "print(list(ret))"
      ],
      "execution_count": null,
      "outputs": [
        {
          "output_type": "stream",
          "text": [
            "[11113, 11119]\n"
          ],
          "name": "stdout"
        }
      ]
    },
    {
      "cell_type": "code",
      "metadata": {
        "colab": {
          "base_uri": "https://localhost:8080/"
        },
        "id": "ZS8YEJlBc2ne",
        "outputId": "8659c87d-f9a4-4692-8e28-ec02ffdd0b84"
      },
      "source": [
        "# Note: 정수 n 이하의 모든 소수 구하기\n",
        "\n",
        "def getPrime(n):\n",
        "  ret = [2]\n",
        "  if n<=2:\n",
        "    return ret\n",
        "\n",
        "  for i in range(3, n+1, 2):\n",
        "    for k in range(3, int(i/2), 2):\n",
        "      a = i%k\n",
        "      if a == 0:\n",
        "        break\n",
        "\n",
        "    else:\n",
        "      ret.append(i)\n",
        "\n",
        "  return ret\n",
        "\n",
        "ret = getPrime(10)\n",
        "print(ret)"
      ],
      "execution_count": null,
      "outputs": [
        {
          "output_type": "stream",
          "text": [
            "[2, 3, 5, 7]\n"
          ],
          "name": "stdout"
        }
      ]
    },
    {
      "cell_type": "code",
      "metadata": {
        "colab": {
          "base_uri": "https://localhost:8080/"
        },
        "id": "g-rkkIhsidrR",
        "outputId": "492f680b-0fc3-4c3e-b594-e0aca9341cce"
      },
      "source": [
        "# 072. 최대값, 최소값 구하기 (max, min)\n",
        "\n",
        "listdata = [9.96, 1.27, 5.07, 6.45, 8.38, 9.29, 4.93, 7.73, 3.71, 0.93]\n",
        "maxval = max(listdata)\n",
        "minval = min(listdata)\n",
        "print(maxval)\n",
        "print(minval)\n",
        "\n",
        "txt = 'Alotofthingsoccureachday'\n",
        "maxval = max(txt)\n",
        "minval = min(txt)\n",
        "print(maxval)\n",
        "print(minval)\n",
        "\n",
        "maxval = max(2+3, 2*3, 2**3, 3**2)\n",
        "minval = min('abz', 'a12')\n",
        "print(maxval)\n",
        "print(minval)"
      ],
      "execution_count": null,
      "outputs": [
        {
          "output_type": "stream",
          "text": [
            "9.96\n",
            "0.93\n",
            "y\n",
            "A\n",
            "9\n",
            "a12\n"
          ],
          "name": "stdout"
        }
      ]
    },
    {
      "cell_type": "code",
      "metadata": {
        "colab": {
          "base_uri": "https://localhost:8080/"
        },
        "id": "0QJkzLt8i1VS",
        "outputId": "812c17af-03b4-48af-8888-c20cfb4b5ac8"
      },
      "source": [
        "# 073. 1바이트에서 하위 4비트 추출하기\n",
        "\n",
        "a = 107  # 16진수로 0x6b\n",
        "b = a & 0x0f\n",
        "print(b)  # 11이 출력됨. 11인 16진수로 b"
      ],
      "execution_count": null,
      "outputs": [
        {
          "output_type": "stream",
          "text": [
            "11\n"
          ],
          "name": "stdout"
        }
      ]
    },
    {
      "cell_type": "code",
      "metadata": {
        "colab": {
          "base_uri": "https://localhost:8080/"
        },
        "id": "qsKEnn6TjlrA",
        "outputId": "6c6b368e-650c-4e2c-96f8-b2e6c349180a"
      },
      "source": [
        "# 074. 1바이트에서 상위 4비트 추출하기\n",
        "\n",
        "a = 107\n",
        "b = (a>>4) & 0x0f\n",
        "print(b)  # 6이 출력됨"
      ],
      "execution_count": null,
      "outputs": [
        {
          "output_type": "stream",
          "text": [
            "6\n"
          ],
          "name": "stdout"
        }
      ]
    },
    {
      "cell_type": "code",
      "metadata": {
        "colab": {
          "base_uri": "https://localhost:8080/"
        },
        "id": "mrh56qgNkvla",
        "outputId": "369d75a9-9030-4a18-d653-5a423b387f8e"
      },
      "source": [
        "# 075. 문자열에서 특정 위치의 문자 얻기\n",
        "\n",
        "txt1 = 'A tale that was not right'\n",
        "txt2 = '이 또한 지나가리라'\n",
        "print(txt1[5])\n",
        "print(txt2[-2])"
      ],
      "execution_count": null,
      "outputs": [
        {
          "output_type": "stream",
          "text": [
            "e\n",
            "리\n"
          ],
          "name": "stdout"
        }
      ]
    },
    {
      "cell_type": "code",
      "metadata": {
        "colab": {
          "base_uri": "https://localhost:8080/"
        },
        "id": "SHzVd-Zzo7H-",
        "outputId": "4a79d7d2-71ac-4c67-c59f-6edb69a8448c"
      },
      "source": [
        "# 076. 문자열에서 지정한 구간의 문자열 얻기\n",
        "\n",
        "txt1 = 'A tale that was not right'\n",
        "txt2 = '이 또한 지나가리라.'\n",
        "print(txt1[3:7])\n",
        "print(txt1[:6])\n",
        "print(txt2[-4:])"
      ],
      "execution_count": null,
      "outputs": [
        {
          "output_type": "stream",
          "text": [
            "ale \n",
            "A tale\n",
            "가리라.\n"
          ],
          "name": "stdout"
        }
      ]
    },
    {
      "cell_type": "code",
      "metadata": {
        "colab": {
          "base_uri": "https://localhost:8080/"
        },
        "id": "HsY8F8sFpQ4F",
        "outputId": "b4a4522a-cfc9-4819-dce3-c800f8c7fe77"
      },
      "source": [
        "# 076 응용\n",
        "\n",
        "txt = 'python'\n",
        "for i in range(len(txt)):\n",
        "  print(txt[:i+1])"
      ],
      "execution_count": null,
      "outputs": [
        {
          "output_type": "stream",
          "text": [
            "p\n",
            "py\n",
            "pyt\n",
            "pyth\n",
            "pytho\n",
            "python\n"
          ],
          "name": "stdout"
        }
      ]
    },
    {
      "cell_type": "code",
      "metadata": {
        "colab": {
          "base_uri": "https://localhost:8080/"
        },
        "id": "sw5W4DsFpoU6",
        "outputId": "62c7e082-373b-4873-c397-623bdba026ca"
      },
      "source": [
        "# 077. 문자열에서 홀수 번째 문자만 추출하기\n",
        "\n",
        "txt = 'aAbBcCdDeEfFgGhHiIjJkK'\n",
        "ret = txt[::2]\n",
        "print(ret)"
      ],
      "execution_count": null,
      "outputs": [
        {
          "output_type": "stream",
          "text": [
            "abcdefghijk\n"
          ],
          "name": "stdout"
        }
      ]
    },
    {
      "cell_type": "code",
      "metadata": {
        "colab": {
          "base_uri": "https://localhost:8080/"
        },
        "id": "9hVmADIyqBOO",
        "outputId": "798dbb96-dc4d-4893-d4f5-0b6edc7688b3"
      },
      "source": [
        "# 078. 문자열을 거꾸로 만들기\n",
        "\n",
        "txt = 'abcdefghijk'\n",
        "ret = txt[::-1]\n",
        "print(ret)"
      ],
      "execution_count": null,
      "outputs": [
        {
          "output_type": "stream",
          "text": [
            "kjihgfedcba\n"
          ],
          "name": "stdout"
        }
      ]
    },
    {
      "cell_type": "code",
      "metadata": {
        "colab": {
          "base_uri": "https://localhost:8080/"
        },
        "id": "jJS-tYpIqKVB",
        "outputId": "74705d68-5b1f-434c-d326-d6cad07f3632"
      },
      "source": [
        "# 079. 두 개의 문자열 합치기(+)\n",
        "\n",
        "filename = input('저장할 파일을 입력하세요:')\n",
        "filename = filename + '.jpg'\n",
        "display_msg = '당신이 저장한 파일은 <' + filename + '> 입니다.'\n",
        "print(display_msg)"
      ],
      "execution_count": null,
      "outputs": [
        {
          "output_type": "stream",
          "text": [
            "저장할 파일을 입력하세요:dongwook\n",
            "당신이 저장한 파일은 <dongwook.jpg> 입니다.\n"
          ],
          "name": "stdout"
        }
      ]
    },
    {
      "cell_type": "code",
      "metadata": {
        "colab": {
          "base_uri": "https://localhost:8080/"
        },
        "id": "pPE6q7YHrPqB",
        "outputId": "3ee597fa-c3f8-405e-cf34-5eeb3bea0113"
      },
      "source": [
        "# 080. 문자열을 반복해서 새로운 문자열로 만들기(*)\n",
        "\n",
        "msg1 = '여러분'\n",
        "msg2 = '파이팅!'\n",
        "display_msg = msg1 + ',' + msg2*3 + '~!'\n",
        "print(display_msg)"
      ],
      "execution_count": null,
      "outputs": [
        {
          "output_type": "stream",
          "text": [
            "여러분,파이팅!파이팅!파이팅!~!\n"
          ],
          "name": "stdout"
        }
      ]
    },
    {
      "cell_type": "code",
      "metadata": {
        "id": "bbkzlMXasyeb",
        "colab": {
          "base_uri": "https://localhost:8080/"
        },
        "outputId": "76262d84-37ba-49bd-ee12-63721f61bcac"
      },
      "source": [
        "# 081. 문자열에서 특정 문자가 있는지 확인하기(in)\n",
        "\n",
        "msg = input('임의의 문장을 입력하세요:')\n",
        "if 'a' in msg:\n",
        "  print('당신이 입력한 문장에는 a가 있습니다.')\n",
        "else:\n",
        "  print('당신이 입력한 문장에는 a가 없습니다.')"
      ],
      "execution_count": null,
      "outputs": [
        {
          "output_type": "stream",
          "text": [
            "임의의 문장을 입력하세요:그래요, 당신이 맞습니다\n",
            "당신이 입력한 문장에는 a가 없습니다.\n"
          ],
          "name": "stdout"
        }
      ]
    },
    {
      "cell_type": "code",
      "metadata": {
        "colab": {
          "base_uri": "https://localhost:8080/"
        },
        "id": "vIossrkKP-Oq",
        "outputId": "83fe4863-6ed9-4034-9011-739958411f92"
      },
      "source": [
        "# 082. 문자열에서 특정 문자열이 있는지 확인하기(in)\n",
        "\n",
        "msg = input('임의의 문장을 입력하세요:')\n",
        "if 'is' in msg:\n",
        "  print('당신이 입력한 문장에는 is 가 있습니다.')\n",
        "else:\n",
        "  print('당신이 입력한 문장에는 is 가 없습니다.')"
      ],
      "execution_count": null,
      "outputs": [
        {
          "output_type": "stream",
          "text": [
            "임의의 문장을 입력하세요:is it true?\n",
            "당신이 입력한 문장에는 is 가 있습니다.\n"
          ],
          "name": "stdout"
        }
      ]
    },
    {
      "cell_type": "code",
      "metadata": {
        "colab": {
          "base_uri": "https://localhost:8080/"
        },
        "id": "J6230n2HQcus",
        "outputId": "45f865fb-8874-440e-8a12-1ea0e5d80c6f"
      },
      "source": [
        "# 083. 문자열 길이 구하기 (len)\n",
        "\n",
        "msg = input('임의의 문장을 입력하세요:')\n",
        "msglen = len(msg)\n",
        "print('당신이 입력한 문장의 길이는 <%d>입니다.' %msglen)"
      ],
      "execution_count": null,
      "outputs": [
        {
          "output_type": "stream",
          "text": [
            "임의의 문장을 입력하세요:야이놈들아~~\n",
            "당신이 입력한 문장의 길이는 <7>입니다.\n"
          ],
          "name": "stdout"
        }
      ]
    },
    {
      "cell_type": "code",
      "metadata": {
        "colab": {
          "base_uri": "https://localhost:8080/"
        },
        "id": "ocebLLwIQtiK",
        "outputId": "99845747-d3ff-4155-c58d-1094bda5dcde"
      },
      "source": [
        "# 응용\n",
        "\n",
        "## 위의 문장에서 문자열의 길이는 6이지만 컴퓨터 내부에서 처리되는 바이트 크기는 다르다. \n",
        "## 아래와 같이 수정\n",
        "\n",
        "msg = input('임의의 문장을 입력하세요:')\n",
        "msglen = len(msg.encode())\n",
        "print('당신이 입력한 문장의 길이는 <%d>입니다.' %msglen)\n",
        "\n",
        "\n",
        "## 파이썬 3는 모든 문자열을 유니코드로 처리하기 때문에 특별한 표시를 하지 않는 한 예제의 msg는 유니코드로 인식하고 처리함. \n",
        "## encode()는 유니코드 형식으로 된 문자열을 바이트 객체 형식으로 변환해 준다.\n",
        "## 사용자가 입력한 문자열을 encode()를 이용해 바이트 객체로 변환하고 이 크기를 msglen에 대입한 것\n"
      ],
      "execution_count": null,
      "outputs": [
        {
          "output_type": "stream",
          "text": [
            "임의의 문장을 입력하세요:야이놈들아~~\n",
            "당신이 입력한 문장의 길이는 <17>입니다.\n"
          ],
          "name": "stdout"
        }
      ]
    },
    {
      "cell_type": "code",
      "metadata": {
        "colab": {
          "base_uri": "https://localhost:8080/"
        },
        "id": "S3-7QM8PRo5W",
        "outputId": "d5c785fb-a77b-4ed2-9ac8-d673459c025e"
      },
      "source": [
        "# 084. 문자열이 알파벳인지 검사하기 (isalpha)\n",
        "\n",
        "txt1 = 'A'\n",
        "txt2 = '안녕'\n",
        "txt3 = 'Warcraft Three'\n",
        "txt4 = '3PO'\n",
        "ret1 = txt1.isalpha()\n",
        "ret2 = txt2.isalpha()\n",
        "ret3 = txt3.isalpha()\n",
        "ret4 = txt4.isalpha()\n",
        "print(ret1)\n",
        "print(ret2)\n",
        "print(ret3)\n",
        "print(ret4)"
      ],
      "execution_count": null,
      "outputs": [
        {
          "output_type": "stream",
          "text": [
            "True\n",
            "True\n",
            "False\n",
            "False\n"
          ],
          "name": "stdout"
        }
      ]
    },
    {
      "cell_type": "code",
      "metadata": {
        "colab": {
          "base_uri": "https://localhost:8080/"
        },
        "id": "tx8qHaMrUwNP",
        "outputId": "38a42412-4dd0-4675-d6a5-f39636ad0399"
      },
      "source": [
        "# 085. 문자열이 숫자인지 검사하기 (isdigit)\n",
        "\n",
        "txt1 = '010-1234-5678'\n",
        "txt2 = 'R2D2'\n",
        "txt3 = '1212'\n",
        "ret1 = txt1.isdigit()\n",
        "ret2 = txt2.isdigit()\n",
        "ret3 = txt3.isdigit()\n",
        "print(ret1)\n",
        "print(ret2)\n",
        "print(ret3)"
      ],
      "execution_count": null,
      "outputs": [
        {
          "output_type": "stream",
          "text": [
            "False\n",
            "False\n",
            "True\n"
          ],
          "name": "stdout"
        }
      ]
    },
    {
      "cell_type": "code",
      "metadata": {
        "colab": {
          "base_uri": "https://localhost:8080/"
        },
        "id": "brFBwuykYoWp",
        "outputId": "2c333443-f773-4be8-cab7-e25fbf9b6d6c"
      },
      "source": [
        "# 086. 문자열이 알파벳 또는 숫자인지 검사하기 (isalnum)\n",
        "\n",
        "txt1 = '안녕하세요'\n",
        "txt2 = '1. Title - 제목을 넣으세요'\n",
        "txt3 = '3피오R2D2'\n",
        "ret1 = txt1.isalnum()\n",
        "ret2 = txt2.isalnum()\n",
        "ret3 = txt3.isalnum()\n",
        "print(ret1)\n",
        "print(ret2)\n",
        "print(ret3)"
      ],
      "execution_count": null,
      "outputs": [
        {
          "output_type": "stream",
          "text": [
            "True\n",
            "False\n",
            "True\n"
          ],
          "name": "stdout"
        }
      ]
    },
    {
      "cell_type": "code",
      "metadata": {
        "colab": {
          "base_uri": "https://localhost:8080/"
        },
        "id": "uIVlA7nUanlg",
        "outputId": "c1d57c98-77b8-4dc5-ff07-bfbfc59ca194"
      },
      "source": [
        "# 087. 문자열에서 대소문자 변환하기 (upper, lower)\n",
        "\n",
        "txt = 'A lot of Things occur each day.'\n",
        "ret1 = txt.upper()\n",
        "ret2 = txt.lower()\n",
        "print(ret1)\n",
        "print(ret2)"
      ],
      "execution_count": null,
      "outputs": [
        {
          "output_type": "stream",
          "text": [
            "A LOT OF THINGS OCCUR EACH DAY.\n",
            "a lot of things occur each day.\n"
          ],
          "name": "stdout"
        }
      ]
    },
    {
      "cell_type": "code",
      "metadata": {
        "colab": {
          "base_uri": "https://localhost:8080/"
        },
        "id": "ILZ8lelof52u",
        "outputId": "60ac130e-fde6-450d-ef9a-fb4823b0743c"
      },
      "source": [
        "# 088. 문자열에서 좌우 공백 제거하기 (lstrip, rstrip, strip)\n",
        "\n",
        "txt = ' 양쪽에 공백이 있는 문자열입니다. '\n",
        "ret1 = txt.lstrip()\n",
        "ret2 = txt.rstrip()\n",
        "ret3 = txt.strip()\n",
        "print('<'+txt+'>')\n",
        "print('<'+ret1+'>')\n",
        "print('<'+ret2+'>')\n",
        "print('<'+ret3+'>')"
      ],
      "execution_count": null,
      "outputs": [
        {
          "output_type": "stream",
          "text": [
            "< 양쪽에 공백이 있는 문자열입니다. >\n",
            "<양쪽에 공백이 있는 문자열입니다. >\n",
            "< 양쪽에 공백이 있는 문자열입니다.>\n",
            "<양쪽에 공백이 있는 문자열입니다.>\n"
          ],
          "name": "stdout"
        }
      ]
    },
    {
      "cell_type": "code",
      "metadata": {
        "id": "abagfzlDpiXj",
        "colab": {
          "base_uri": "https://localhost:8080/"
        },
        "outputId": "29245292-ff29-4ec6-dee7-647e510a36b5"
      },
      "source": [
        "# 089. 문자열을 수치형 자료로 변환하기 (int, float)\n",
        "\n",
        "numstr = input('숫자를 입력하세요:')\n",
        "try: \n",
        "  num = int(numstr)\n",
        "  print('당신이 입력한 숫자는 정수 <%d>입니다.' %num)\n",
        "except:\n",
        "  try:\n",
        "    num = float(numstr)\n",
        "    print('당신이 입력한 숫자는 실수 <%f>입니다.' %num)\n",
        "  except:\n",
        "    print('+++숫자를 입력하세요~+++')"
      ],
      "execution_count": null,
      "outputs": [
        {
          "output_type": "stream",
          "text": [
            "숫자를 입력하세요:3.15\n",
            "당신이 입력한 숫자는 실수 <3.150000>입니다.\n"
          ],
          "name": "stdout"
        }
      ]
    },
    {
      "cell_type": "code",
      "metadata": {
        "colab": {
          "base_uri": "https://localhost:8080/"
        },
        "id": "SLvuQ-s3BHaQ",
        "outputId": "35dfed0d-8741-4af0-bd6f-b1808e914fbd"
      },
      "source": [
        "# 090. 수치형 자료를 문자열로 변환하기 (str)\n",
        "\n",
        "num1 = 1234\n",
        "num2 = 3.14\n",
        "\n",
        "numstr1 = str(num1)\n",
        "numstr2 = str(num2)\n",
        "print('num1을 문자열로 변환한 값은 \"%s\"입니다.' %numstr1)\n",
        "print('num2를 문자열로 변환한 값은 \"%s\"입니다.' %numstr2)"
      ],
      "execution_count": null,
      "outputs": [
        {
          "output_type": "stream",
          "text": [
            "num1을 문자열로 변환한 값은 \"1234\"입니다.\n",
            "num2를 문자열로 변환한 값은 \"3.14\"입니다.\n"
          ],
          "name": "stdout"
        }
      ]
    },
    {
      "cell_type": "code",
      "metadata": {
        "id": "9-QQu7iWDWNi",
        "colab": {
          "base_uri": "https://localhost:8080/"
        },
        "outputId": "d3e26458-a136-4878-9bb2-2ca9bf3beeb7"
      },
      "source": [
        "# 091. 문자열에 있는 문자(열) 개수 구하기 (count)\n",
        "\n",
        "txt = 'A lot of things occur each day, every day.'\n",
        "word_count1 = txt.count('o')\n",
        "word_count2 = txt.count('day')\n",
        "word_count3 = txt.count(' ')\n",
        "print(word_count1)\n",
        "print(word_count2)\n",
        "print(word_count3)"
      ],
      "execution_count": null,
      "outputs": [
        {
          "output_type": "stream",
          "text": [
            "3\n",
            "2\n",
            "8\n"
          ],
          "name": "stdout"
        }
      ]
    },
    {
      "cell_type": "code",
      "metadata": {
        "colab": {
          "base_uri": "https://localhost:8080/"
        },
        "id": "6DM2LdtHPkWm",
        "outputId": "c45e6bc3-ea03-4886-e612-a35c6e3e7795"
      },
      "source": [
        "# 092. 문자열에서 특정 문자(열) 위치 찾기(find)\n",
        "\n",
        "txt = 'A lot of things occur each day, every day.'\n",
        "offset1 = txt.find('e')\n",
        "offset2 = txt.find('day')\n",
        "offset3 = txt.find('day', 30)\n",
        "print(offset1)\n",
        "print(offset2)\n",
        "print(offset3)"
      ],
      "execution_count": null,
      "outputs": [
        {
          "output_type": "stream",
          "text": [
            "22\n",
            "27\n",
            "38\n"
          ],
          "name": "stdout"
        }
      ]
    },
    {
      "cell_type": "code",
      "metadata": {
        "colab": {
          "base_uri": "https://localhost:8080/"
        },
        "id": "n58vrmOwQHnH",
        "outputId": "206db5b8-d997-485d-bc73-c7617f9509c3"
      },
      "source": [
        "# 093. 문자열을 특정 문자(열)로 분리하기(split)\n",
        "\n",
        "url = 'http://www.naver.com/news/today=20160831'\n",
        "log = 'name:홍길동 age:17 sex:남자 nation:조선'\n",
        "\n",
        "ret1 = url.split('/')\n",
        "print(ret1)\n",
        "\n",
        "ret2=log.split()\n",
        "for data in ret2:\n",
        "  d1,d2 = data.split(':')\n",
        "  print('%s->%s'%(d1,d2))"
      ],
      "execution_count": null,
      "outputs": [
        {
          "output_type": "stream",
          "text": [
            "['http:', '', 'www.naver.com', 'news', 'today=20160831']\n",
            "name->홍길동\n",
            "age->17\n",
            "sex->남자\n",
            "nation->조선\n"
          ],
          "name": "stdout"
        }
      ]
    },
    {
      "cell_type": "code",
      "metadata": {
        "colab": {
          "base_uri": "https://localhost:8080/"
        },
        "id": "UDtnXAB2Q9Rz",
        "outputId": "100b2f2c-ab6c-43a6-9b6b-a391d3fb530e"
      },
      "source": [
        "# 094. 문자열을 특정 문자(열)로 결합하기(join)\n",
        "\n",
        "loglist = ['2016/08/26 10:12:11','200','OK','이 또한 지나가리라']\n",
        "bond = ';'\n",
        "log = bond.join(loglist)\n",
        "print(log)\n",
        "\n",
        "# join()의 인자는 문자열이 아니라 문자열을 요소로 가지는 리스트라는 것을 기억하자!"
      ],
      "execution_count": null,
      "outputs": [
        {
          "output_type": "stream",
          "text": [
            "2016/08/26 10:12:11;200;OK;이 또한 지나가리라\n"
          ],
          "name": "stdout"
        }
      ]
    },
    {
      "cell_type": "code",
      "metadata": {
        "colab": {
          "base_uri": "https://localhost:8080/"
        },
        "id": "0KdnEH60SlmH",
        "outputId": "1d79b541-cc97-4eae-c1c0-e14f8eb578b1"
      },
      "source": [
        "# 095. 문자열에서 특정 문자(열)를 다른 문자(열)로 바꾸기(replace)\n",
        "\n",
        "txt = 'My password is 1234'\n",
        "ret1 = txt.replace('1','0')\n",
        "ret2 = txt.replace('1', 'python')\n",
        "print(ret1)\n",
        "print(ret2)\n",
        "\n",
        "txt = '매일 많은 일들이 일어납니다.'\n",
        "ret3 = txt.replace('매일', '항상')\n",
        "ret4 = ret3.replace('일', '사건')\n",
        "print(ret3)\n",
        "print(ret4)"
      ],
      "execution_count": null,
      "outputs": [
        {
          "output_type": "stream",
          "text": [
            "My password is 0234\n",
            "My password is python234\n",
            "항상 많은 일들이 일어납니다.\n",
            "항상 많은 사건들이 사건어납니다.\n"
          ],
          "name": "stdout"
        }
      ]
    },
    {
      "cell_type": "code",
      "metadata": {
        "id": "q3JUVC2NTaF_",
        "colab": {
          "base_uri": "https://localhost:8080/"
        },
        "outputId": "ad26c0e0-011e-4cf1-965d-d04b1b7c240f"
      },
      "source": [
        "# 096. 문자열을 바이트 객체로 바꾸기 (encode)\n",
        "\n",
        "u_txt = 'I love python'\n",
        "b_txt = u_txt.encode()\n",
        "print(u_txt)\n",
        "print(b_txt)\n",
        "\n",
        "ret1 = 'I' == u_txt[0]\n",
        "ret2 = 'I' == b_txt[0]\n",
        "print(ret1)\n",
        "print(ret2)"
      ],
      "execution_count": null,
      "outputs": [
        {
          "output_type": "stream",
          "text": [
            "I love python\n",
            "b'I love python'\n",
            "True\n",
            "False\n"
          ],
          "name": "stdout"
        }
      ]
    },
    {
      "cell_type": "code",
      "metadata": {
        "id": "WEPv3U6NW7vw",
        "colab": {
          "base_uri": "https://localhost:8080/"
        },
        "outputId": "50e403ef-4754-40f0-e6c4-1eb7a0af2a56"
      },
      "source": [
        "# 097. 바이트 객체를 문자열로 바꾸기 (decode)\n",
        "\n",
        "b_txt = b'A lot of things occur each day'\n",
        "u_txt = b_txt.decode()\n",
        "print(u_txt)"
      ],
      "execution_count": null,
      "outputs": [
        {
          "output_type": "stream",
          "text": [
            "A lot of things occur each day\n"
          ],
          "name": "stdout"
        }
      ]
    },
    {
      "cell_type": "code",
      "metadata": {
        "colab": {
          "base_uri": "https://localhost:8080/"
        },
        "id": "OTI7OIL63_kH",
        "outputId": "afd7b3a3-5a1c-426c-f435-cc027e32f9f9"
      },
      "source": [
        "# 098. 문자열을 정렬하기 (sorted, join)\n",
        "\n",
        "strdata = input('정렬할 문자열을 입력하세요:')\n",
        "ret1 = sorted(strdata)\n",
        "ret2 = sorted(strdata, reverse = True)\n",
        "print(ret1)\n",
        "print(ret2)\n",
        "ret1 = ''.join(ret1)\n",
        "ret2 = ''.join(ret2)\n",
        "print('오름차순으로 정렬된 문자열은<'+ret1+'>입니다.')\n",
        "print('내림차순으로 정렬된 문자열은<'+ret2+'>입니다.')"
      ],
      "execution_count": null,
      "outputs": [
        {
          "output_type": "stream",
          "text": [
            "정렬할 문자열을 입력하세요:hello world\n",
            "[' ', 'd', 'e', 'h', 'l', 'l', 'l', 'o', 'o', 'r', 'w']\n",
            "['w', 'r', 'o', 'o', 'l', 'l', 'l', 'h', 'e', 'd', ' ']\n",
            "오름차순으로 정렬된 문자열은< dehllloorw>입니다.\n",
            "내림차순으로 정렬된 문자열은<wroolllhed >입니다.\n"
          ],
          "name": "stdout"
        }
      ]
    },
    {
      "cell_type": "markdown",
      "metadata": {
        "id": "lsK3KWlgUf1C"
      },
      "source": [
        "## 리스트 []"
      ]
    },
    {
      "cell_type": "code",
      "metadata": {
        "id": "PtXG4OHu4uUX"
      },
      "source": [
        "# 099. 순차적인 정수 리스트 만들기 (range)\n",
        "\n",
        "range1 = range(10)\n",
        "range2 = range(10, 20)\n",
        "print(list(range1))\n",
        "print(list(range2))\n",
        "\n",
        "## range 객체는 list가 아니다!!\n",
        "## print(range1) 해보면 range(0,10) 으로 리턴이 됨"
      ],
      "execution_count": null,
      "outputs": []
    },
    {
      "cell_type": "code",
      "metadata": {
        "colab": {
          "base_uri": "https://localhost:8080/"
        },
        "id": "CJNGcy6I5WKr",
        "outputId": "f3068b0d-d4c4-4c40-ae3c-0cc1db1b891c"
      },
      "source": [
        "## 반복가능한 자료형을 리스트로 변환해주는 파이썬 내장함수가 list()\n",
        "\n",
        "## 반복 가능한 자료형은 리스트로 변환하지 않고 for문에서 범위로 사용될 수 있다.\n",
        "# 예) 0부터 10까지 정수를 모두 더하기\n",
        "ret = 0\n",
        "for i in range(10):\n",
        "  ret += (i+1)\n",
        "print(ret)"
      ],
      "execution_count": null,
      "outputs": [
        {
          "output_type": "stream",
          "text": [
            "55\n"
          ],
          "name": "stdout"
        }
      ]
    },
    {
      "cell_type": "code",
      "metadata": {
        "colab": {
          "base_uri": "https://localhost:8080/"
        },
        "id": "sn7sd-9F6ydN",
        "outputId": "db75d287-0833-4a3c-ef94-a455ed4c68e2"
      },
      "source": [
        "# 리스트에서 특정 위치의 요소 얻기\n",
        "\n",
        "listdata = [1,2,'a','b','c',[4,5,6]]\n",
        "val1 = listdata[1]\n",
        "val2 = listdata[3]\n",
        "val3 = listdata[5][1]\n",
        "print(val1)\n",
        "print(val2)\n",
        "print(val3)"
      ],
      "execution_count": null,
      "outputs": [
        {
          "output_type": "stream",
          "text": [
            "2\n",
            "b\n",
            "5\n"
          ],
          "name": "stdout"
        }
      ]
    },
    {
      "cell_type": "code",
      "metadata": {
        "colab": {
          "base_uri": "https://localhost:8080/"
        },
        "id": "Ug3sYfwf7l4b",
        "outputId": "89067cba-9791-43a7-824a-069007315eec"
      },
      "source": [
        "# 101. 리스트에서 특정 요소의 위치 구하기(index)\n",
        "\n",
        "solarsys = ['태양', '수성', '금성', '지구', '화성', '목성', '토성', '천왕성', '해왕성', '지구']\n",
        "planet = '지구'\n",
        "pos = solarsys.index(planet)\n",
        "print('%s은(는) 태양계에서 %d번째에 위치하고 있습니다.' %(planet, pos))\n",
        "pos = solarsys.index(planet, 5)\n",
        "print('%s은(는) 태양계에서 %d번째에 위치하고 있습니다.' %(planet, pos))"
      ],
      "execution_count": null,
      "outputs": [
        {
          "output_type": "stream",
          "text": [
            "지구은(는) 태양계에서 3번째에 위치하고 있습니다.\n",
            "지구은(는) 태양계에서 9번째에 위치하고 있습니다.\n"
          ],
          "name": "stdout"
        }
      ]
    },
    {
      "cell_type": "code",
      "metadata": {
        "colab": {
          "base_uri": "https://localhost:8080/"
        },
        "id": "kBlsn_HrA3m_",
        "outputId": "53f98383-29c4-481b-f3e1-1ed6802408d4"
      },
      "source": [
        "# 102. 리스트에서 특정 위치의 요소를 변경하기\n",
        "\n",
        "solarsys = ['태양', '수성', '금성', '지구', '화성', '목성', '토성', '천왕성', '해왕성']\n",
        "planet = '화성'\n",
        "pos = solarsys.index(planet)\n",
        "solarsys[pos] = 'Mars'\n",
        "print(solarsys)"
      ],
      "execution_count": null,
      "outputs": [
        {
          "output_type": "stream",
          "text": [
            "['태양', '수성', '금성', '지구', 'Mars', '목성', '토성', '천왕성', '해왕성']\n"
          ],
          "name": "stdout"
        }
      ]
    },
    {
      "cell_type": "code",
      "metadata": {
        "colab": {
          "base_uri": "https://localhost:8080/"
        },
        "id": "wzPVrhrqBlwX",
        "outputId": "9dac0d33-53c2-427e-c2e5-7bcf3ff97727"
      },
      "source": [
        "# 103. 리스트에서 특정구간에 있는 요소 추출하기\n",
        "\n",
        "solarsys = ['태양', '수성', '금성', '지구', '화성', '목성', '토성', '천왕성', '해왕성']\n",
        "rock_planets = solarsys[1:4]\n",
        "gas_planets = solarsys[4:]\n",
        "print('태양계의 암석형 행성:', end = '');print(rock_planets)\n",
        "print('태양계의 가스형 행성:', end = '');print(gas_planets)"
      ],
      "execution_count": null,
      "outputs": [
        {
          "output_type": "stream",
          "text": [
            "태양계의 암석형 행성:['수성', '금성', '지구']\n",
            "태양계의 가스형 행성:['화성', '목성', '토성', '천왕성', '해왕성']\n"
          ],
          "name": "stdout"
        }
      ]
    },
    {
      "cell_type": "code",
      "metadata": {
        "colab": {
          "base_uri": "https://localhost:8080/"
        },
        "id": "Tu6CJsegCL-N",
        "outputId": "b1ec01e9-9e47-4617-cd60-e5c56ec03c52"
      },
      "source": [
        "# 104. 리스트에서 짝수 번째 요소만 추출하기\n",
        "\n",
        "listdata = list(range(1,21))\n",
        "evenlist = listdata[1::2]\n",
        "print(evenlist)\n",
        "\n",
        "oddlist = listdata[::2]\n",
        "print(oddlist)"
      ],
      "execution_count": null,
      "outputs": [
        {
          "output_type": "stream",
          "text": [
            "[2, 4, 6, 8, 10, 12, 14, 16, 18, 20]\n",
            "[1, 3, 5, 7, 9, 11, 13, 15, 17, 19]\n"
          ],
          "name": "stdout"
        }
      ]
    },
    {
      "cell_type": "code",
      "metadata": {
        "colab": {
          "base_uri": "https://localhost:8080/"
        },
        "id": "0Szlr2WvCj8o",
        "outputId": "5d2bd277-30ce-41d8-83df-a535b5899be8"
      },
      "source": [
        "# 105. 리스트 요소 순서를 역순으로 만들기 1 (reverse)\n",
        "\n",
        "listdata = list(range(5))\n",
        "listdata.reverse()\n",
        "print(listdata)"
      ],
      "execution_count": null,
      "outputs": [
        {
          "output_type": "stream",
          "text": [
            "[4, 3, 2, 1, 0]\n"
          ],
          "name": "stdout"
        }
      ]
    },
    {
      "cell_type": "code",
      "metadata": {
        "colab": {
          "base_uri": "https://localhost:8080/"
        },
        "id": "2J-nt0HqDEpO",
        "outputId": "ab3db769-cbab-42f1-eeee-2cdc9013d7a1"
      },
      "source": [
        "# 106. 리스트 요소 순서를 역순으로 만들기 2 (reversed)\n",
        "\n",
        "listdata = list(range(5))\n",
        "ret1 = reversed(listdata)\n",
        "print('원본 리스트', end = '');print(listdata);\n",
        "print('역순 리스트', end = '');print(list(ret1))\n",
        "\n",
        "ret2 = listdata[::-1]\n",
        "print('슬라이싱 이용', end = '');print(ret2)\n",
        "\n",
        "# 역순으로 슬라이싱을 이용한 list 배열이 reversed()와 동일한 결과"
      ],
      "execution_count": null,
      "outputs": [
        {
          "output_type": "stream",
          "text": [
            "원본 리스트[0, 1, 2, 3, 4]\n",
            "역순 리스트[4, 3, 2, 1, 0]\n",
            "슬라이싱 이용[4, 3, 2, 1, 0]\n"
          ],
          "name": "stdout"
        }
      ]
    },
    {
      "cell_type": "code",
      "metadata": {
        "colab": {
          "base_uri": "https://localhost:8080/"
        },
        "id": "eFITr0nuDeO3",
        "outputId": "2d4eb944-4b40-434a-cd15-f696d7ba2a4c"
      },
      "source": [
        "# 107. 리스트 합치기(+)\n",
        "\n",
        "listdata1 = ['a', 'b', 'c', 'd', 'e']\n",
        "listdata2 = ['f', 'g', 'h', 'i', 'j']\n",
        "listdata3 = listdata1 + listdata2\n",
        "listdata4 = listdata2 + listdata1\n",
        "print(listdata3)\n",
        "print(listdata4)"
      ],
      "execution_count": null,
      "outputs": [
        {
          "output_type": "stream",
          "text": [
            "['a', 'b', 'c', 'd', 'e', 'f', 'g', 'h', 'i', 'j']\n",
            "['f', 'g', 'h', 'i', 'j', 'a', 'b', 'c', 'd', 'e']\n"
          ],
          "name": "stdout"
        }
      ]
    },
    {
      "cell_type": "code",
      "metadata": {
        "colab": {
          "base_uri": "https://localhost:8080/"
        },
        "id": "kXHmSBffEM0r",
        "outputId": "888e6649-30ca-45d3-a4bd-2d9175fd7ede"
      },
      "source": [
        "# 108. 리스트 반복하기(*)\n",
        "\n",
        "listdata = list(range(3))\n",
        "ret = listdata*3\n",
        "print(ret) "
      ],
      "execution_count": null,
      "outputs": [
        {
          "output_type": "stream",
          "text": [
            "[0, 1, 2, 0, 1, 2, 0, 1, 2]\n"
          ],
          "name": "stdout"
        }
      ]
    },
    {
      "cell_type": "code",
      "metadata": {
        "colab": {
          "base_uri": "https://localhost:8080/"
        },
        "id": "0VbCSaolEe9N",
        "outputId": "66d29ca4-ca64-44f9-95a1-cac6b2a97ab4"
      },
      "source": [
        "# 109. 리스트에 요소 추가하기 (append)\n",
        "\n",
        "listdata = []\n",
        "for i in range(3):\n",
        "  txt = input('리스트에 추가할 값을 입력하세요[%d/3]:' %(i+1))\n",
        "  listdata.append(txt)\n",
        "  print(listdata)"
      ],
      "execution_count": null,
      "outputs": [
        {
          "output_type": "stream",
          "text": [
            "리스트에 추가할 값을 입력하세요[1/3]:23\n",
            "['23']\n",
            "리스트에 추가할 값을 입력하세요[2/3]:2\n",
            "['23', '2']\n",
            "리스트에 추가할 값을 입력하세요[3/3]:\n",
            "['23', '2', '']\n"
          ],
          "name": "stdout"
        }
      ]
    },
    {
      "cell_type": "code",
      "metadata": {
        "colab": {
          "base_uri": "https://localhost:8080/"
        },
        "id": "FKN-fukvE8V0",
        "outputId": "209543ce-6939-4a8a-b829-13b1edc0f2a0"
      },
      "source": [
        "# 110. 리스트의 특정 위치에 요소 삽입하기(insert)\n",
        "\n",
        "solarsys = ['태양', '수성', '금성', '지구', '화성', '목성', '토성', '천왕성', '해왕성']\n",
        "pos = solarsys.index('목성')\n",
        "solarsys.insert(pos, '소행성')\n",
        "print(solarsys)\n"
      ],
      "execution_count": null,
      "outputs": [
        {
          "output_type": "stream",
          "text": [
            "['태양', '수성', '금성', '지구', '화성', '소행성', '목성', '토성', '천왕성', '해왕성']\n"
          ],
          "name": "stdout"
        }
      ]
    },
    {
      "cell_type": "code",
      "metadata": {
        "colab": {
          "base_uri": "https://localhost:8080/"
        },
        "id": "1wNNw7DcFtMQ",
        "outputId": "700fb254-dd4a-4e80-e2b2-035ee8595182"
      },
      "source": [
        "# 111. 리스트의 특정 위치의 요소 제거하기 (del)\n",
        "\n",
        "solarsys = ['태양', '수성', '금성', '지구', '화성', '목성', '토성', '천왕성', '해왕성']\n",
        "del solarsys[0]\n",
        "print(solarsys)\n",
        "del solarsys[-2]\n",
        "print(solarsys)"
      ],
      "execution_count": null,
      "outputs": [
        {
          "output_type": "stream",
          "text": [
            "['수성', '금성', '지구', '화성', '목성', '토성', '천왕성', '해왕성']\n",
            "['수성', '금성', '지구', '화성', '목성', '토성', '해왕성']\n"
          ],
          "name": "stdout"
        }
      ]
    },
    {
      "cell_type": "code",
      "metadata": {
        "colab": {
          "base_uri": "https://localhost:8080/"
        },
        "id": "IsWVX0VtGFjh",
        "outputId": "296ef00a-e3bd-47cd-a9ce-c937499df6cf"
      },
      "source": [
        "# 112. 리스트에서 특정 요소 제거하기 (remove)\n",
        "\n",
        "solarsys = ['태양', '수성', '금성', '지구', '화성', '목성', '토성', '천왕성', '해왕성']\n",
        "solarsys.remove('태양')\n",
        "print(solarsys)"
      ],
      "execution_count": null,
      "outputs": [
        {
          "output_type": "stream",
          "text": [
            "['수성', '금성', '지구', '화성', '목성', '토성', '천왕성', '해왕성']\n"
          ],
          "name": "stdout"
        }
      ]
    },
    {
      "cell_type": "code",
      "metadata": {
        "colab": {
          "base_uri": "https://localhost:8080/"
        },
        "id": "dtVCi-pyGolg",
        "outputId": "e40eb15e-e065-4b7a-82d3-8b5f0cd4057b"
      },
      "source": [
        "# 113. 리스트에서 특정 구간에 있는 모든 요소 제거하기\n",
        "\n",
        "solarsys = ['태양', '수성', '금성', '지구', '화성', '목성', '토성', '천왕성', '해왕성']\n",
        "del solarsys[1:3]\n",
        "print(solarsys)"
      ],
      "execution_count": null,
      "outputs": [
        {
          "output_type": "stream",
          "text": [
            "['태양', '지구', '화성', '목성', '토성', '천왕성', '해왕성']\n"
          ],
          "name": "stdout"
        }
      ]
    },
    {
      "cell_type": "code",
      "metadata": {
        "colab": {
          "base_uri": "https://localhost:8080/"
        },
        "id": "TiBRmmndG7HS",
        "outputId": "23a49dee-0288-41b6-adcc-04ebf55abee0"
      },
      "source": [
        "# 114. 리스트에 있는 요소 개수 구하기 (len)\n",
        "\n",
        "listdata = [2, 2, 1, 3, 8, 5, 7, 6, 3, 6, 2, 3, 9, 4, 4]\n",
        "listsize = len(listdata)\n",
        "print(listsize)"
      ],
      "execution_count": null,
      "outputs": [
        {
          "output_type": "stream",
          "text": [
            "15\n"
          ],
          "name": "stdout"
        }
      ]
    },
    {
      "cell_type": "code",
      "metadata": {
        "colab": {
          "base_uri": "https://localhost:8080/"
        },
        "id": "TdvlGZiQHO9L",
        "outputId": "2410299e-9a23-4db9-bcdc-4da54287bc0c"
      },
      "source": [
        "# 115. 리스트에서 특정 요소 개수 구하기 (count)\n",
        "\n",
        "listdata = [2, 2, 1, 3, 8, 5, 7, 6, 3, 6, 2, 3, 9, 4, 4]\n",
        "c1 = listdata.count(2)\n",
        "c2 = listdata.count(7)\n",
        "print(c1)\n",
        "print(c2)"
      ],
      "execution_count": null,
      "outputs": [
        {
          "output_type": "stream",
          "text": [
            "3\n",
            "1\n"
          ],
          "name": "stdout"
        }
      ]
    },
    {
      "cell_type": "code",
      "metadata": {
        "colab": {
          "base_uri": "https://localhost:8080/"
        },
        "id": "z0v-7GijHiAR",
        "outputId": "e84d5209-e7be-4a46-ffc8-d8df1e82a4e7"
      },
      "source": [
        "# 116. 리스트 제거하기 (del)\n",
        "\n",
        "listdata = [2, 2, 1, 3, 8, 5, 7, 6, 3, 6, 2, 3, 9, 4, 4]\n",
        "# del listdata\n",
        "print(listdata)"
      ],
      "execution_count": null,
      "outputs": [
        {
          "output_type": "stream",
          "text": [
            "[2, 2, 1, 3, 8, 5, 7, 6, 3, 6, 2, 3, 9, 4, 4]\n"
          ],
          "name": "stdout"
        }
      ]
    },
    {
      "cell_type": "code",
      "metadata": {
        "colab": {
          "base_uri": "https://localhost:8080/"
        },
        "id": "q1KP8a7FINiU",
        "outputId": "c3d0ba73-0706-456c-c91a-8e2f265e7813"
      },
      "source": [
        "# 117. 리스트 요소 정렬하기 1 (sort)\n",
        "\n",
        "namelist = ['Marry', 'Sams', 'Aimy', 'Tom', 'Michale', 'Bob', 'Kelly']\n",
        "namelist.sort()\n",
        "print(namelist)\n"
      ],
      "execution_count": null,
      "outputs": [
        {
          "output_type": "stream",
          "text": [
            "['Aimy', 'Bob', 'Kelly', 'Marry', 'Michale', 'Sams', 'Tom']\n"
          ],
          "name": "stdout"
        }
      ]
    },
    {
      "cell_type": "code",
      "metadata": {
        "colab": {
          "base_uri": "https://localhost:8080/"
        },
        "id": "HGSC5SndIvTb",
        "outputId": "2acca909-501a-4d0c-e327-da740afe08c0"
      },
      "source": [
        "## 117-1. 리스트 요소를 내림차순으로 정렬하려면 다음과 같이 작성하면 됨\n",
        "\n",
        "namelist.sort(reverse = True)\n",
        "print(namelist)"
      ],
      "execution_count": null,
      "outputs": [
        {
          "output_type": "stream",
          "text": [
            "['Tom', 'Sams', 'Michale', 'Marry', 'Kelly', 'Bob', 'Aimy']\n"
          ],
          "name": "stdout"
        }
      ]
    },
    {
      "cell_type": "code",
      "metadata": {
        "colab": {
          "base_uri": "https://localhost:8080/"
        },
        "id": "d8MXcKvuJJJH",
        "outputId": "2b894c9a-6c5b-4c42-ba79-8ef5870a2317"
      },
      "source": [
        "# 118. 리스트 요소 정렬하기 2 (sorted)\n",
        "\n",
        "namelist = ['Marry', 'Sams', 'Aimy', 'Tom', 'Michale', 'Bob', 'Kelly']\n",
        "ret1 = sorted(namelist)\n",
        "ret2 = sorted(namelist, reverse = True)\n",
        "print(namelist)\n",
        "print(ret1)\n",
        "print(ret2)"
      ],
      "execution_count": null,
      "outputs": [
        {
          "output_type": "stream",
          "text": [
            "['Marry', 'Sams', 'Aimy', 'Tom', 'Michale', 'Bob', 'Kelly']\n",
            "['Aimy', 'Bob', 'Kelly', 'Marry', 'Michale', 'Sams', 'Tom']\n",
            "['Tom', 'Sams', 'Michale', 'Marry', 'Kelly', 'Bob', 'Aimy']\n"
          ],
          "name": "stdout"
        }
      ]
    },
    {
      "cell_type": "code",
      "metadata": {
        "colab": {
          "base_uri": "https://localhost:8080/"
        },
        "id": "jeBZ-glNJYAc",
        "outputId": "325f19a4-e6b5-4272-a426-407f79ec73d1"
      },
      "source": [
        "# 119. 리스트 요소 무작위로 섞기 (shuffle)\n",
        "\n",
        "from random import shuffle\n",
        "\n",
        "listdata = list(range(1,11))\n",
        "for i in range(3):\n",
        "  shuffle(listdata)\n",
        "  print(listdata)"
      ],
      "execution_count": null,
      "outputs": [
        {
          "output_type": "stream",
          "text": [
            "[2, 8, 1, 10, 5, 9, 6, 7, 3, 4]\n",
            "[10, 8, 2, 7, 9, 6, 3, 1, 4, 5]\n",
            "[9, 3, 7, 1, 6, 8, 5, 4, 2, 10]\n"
          ],
          "name": "stdout"
        }
      ]
    },
    {
      "cell_type": "code",
      "metadata": {
        "colab": {
          "base_uri": "https://localhost:8080/"
        },
        "id": "LX7NI9n7Jv9T",
        "outputId": "2e0a5291-539f-4cf8-882b-7a2278125316"
      },
      "source": [
        "# 120. 리스트의 모든 요소를 인덱스와 쌍으로 추출하기(enumerate)\n",
        "\n",
        "solarsys = ['태양', '수성', '금성', '지구', '화성', '목성', '토성', '천왕성', '해왕성']\n",
        "\n",
        "## enumerate와 list\n",
        "ret = list(enumerate(solarsys))\n",
        "print(ret)\n",
        "\n",
        "\n",
        "## enumerate와 for문\n",
        "for i, body in enumerate(solarsys):\n",
        "  print('태양계의 %d번째 천체: %s' %(i, body))\n",
        "\n",
        "## 여기서 for 문을 쓰는 것과 list로 쓰는 것의 차이가 나옴\n",
        "## solarsys의 enumerate 객체와 for문을 활용한 예에서 알 수 있듯이, for문의 in 다음에 enumerate 객체같은 반복 가능한 자료가 올 수 있다. \n",
        "## 앞의 예에서 보듯이 반복 가능한 자료는 list()를 이용해 리스트 자료로 변환될 수 있다."
      ],
      "execution_count": null,
      "outputs": [
        {
          "output_type": "stream",
          "text": [
            "[(0, '태양'), (1, '수성'), (2, '금성'), (3, '지구'), (4, '화성'), (5, '목성'), (6, '토성'), (7, '천왕성'), (8, '해왕성')]\n",
            "태양계의 0번째 천체: 태양\n",
            "태양계의 1번째 천체: 수성\n",
            "태양계의 2번째 천체: 금성\n",
            "태양계의 3번째 천체: 지구\n",
            "태양계의 4번째 천체: 화성\n",
            "태양계의 5번째 천체: 목성\n",
            "태양계의 6번째 천체: 토성\n",
            "태양계의 7번째 천체: 천왕성\n",
            "태양계의 8번째 천체: 해왕성\n"
          ],
          "name": "stdout"
        }
      ]
    },
    {
      "cell_type": "code",
      "metadata": {
        "colab": {
          "base_uri": "https://localhost:8080/"
        },
        "id": "NFddK9wnKZSM",
        "outputId": "6e2ea9eb-e90f-49d0-d1c0-7002aedef13a"
      },
      "source": [
        "# 121. 리스트의 모든 요소의 합 구하기 (sum)\n",
        "\n",
        "listdata = [2, 2, 1, 3, 8, 5, 7, 6, 3, 6, 2, 3, 9, 4, 4]\n",
        "ret = sum(listdata)\n",
        "print(ret)"
      ],
      "execution_count": null,
      "outputs": [
        {
          "output_type": "stream",
          "text": [
            "65\n"
          ],
          "name": "stdout"
        }
      ]
    },
    {
      "cell_type": "code",
      "metadata": {
        "colab": {
          "base_uri": "https://localhost:8080/"
        },
        "id": "QVi8bvsYTGoo",
        "outputId": "2d595dd6-b055-41cf-f7df-431192a480bd"
      },
      "source": [
        "# 122. 리스트 요소가 모두 참인지 확인하기 (all, any)\n",
        "\n",
        "listdata1 = [0, 1, 2, 3, 4]\n",
        "listdata2 = [True, True, True]\n",
        "listdata3 = ['', [], (), {}, None, False]\n",
        "print(all(listdata1))\n",
        "print(any(listdata1))\n",
        "print(any(listdata2))\n",
        "print(any(listdata2))\n",
        "print(all(listdata3))\n",
        "print(any(listdata3))\n",
        "\n",
        "# all()은 리스트 안의 모든 요소가 참이어야 True, 아니면 False\n",
        "# any()는 리스트 안의 모든 요소가 거짓이어야 False, 아니면 True\n",
        "\n",
        "## 파이썬에서 참과 거짓은 True와 False로 표현하지만 다음의 값들은 모두 거짓을 의미함\n",
        "# 숫자 0\n",
        "# 빈 문자열 '', \"\"\n",
        "# 빈 리스트 []\n",
        "# 빈 튜플 ()\n",
        "# 빈 사전 {}\n",
        "# None\n",
        "\n",
        "## 이외, 0이 아닌 숫자나 한 문자 이상의 문자열, 요소를 가진 리스트, 튜플, 사전 등은 모두 참이다. "
      ],
      "execution_count": null,
      "outputs": [
        {
          "output_type": "stream",
          "text": [
            "False\n",
            "True\n",
            "True\n",
            "True\n",
            "False\n",
            "False\n"
          ],
          "name": "stdout"
        }
      ]
    },
    {
      "cell_type": "markdown",
      "metadata": {
        "id": "HlMxksMBTj_0"
      },
      "source": [
        "## 딕셔너리 {}"
      ]
    },
    {
      "cell_type": "code",
      "metadata": {
        "colab": {
          "base_uri": "https://localhost:8080/"
        },
        "id": "yNZIZjvFU1Yq",
        "outputId": "b80df96b-0b69-460f-9dda-162307dba052"
      },
      "source": [
        "# 123. 사전에 요소 추가하기\n",
        "\n",
        "## 사전은 요소끼리 순서가 없음\n",
        "## 사전의 요소 {키:값}\n",
        "## 그래서 사전은 인덱스가 아닌 키값으로 해당 요소의 값에 접근할 수 있음\n",
        "\n",
        "solar1 = ['태양', '수성', '금성', '지구', '화성', '목성', '토성', '천왕성', '해왕성']\n",
        "solar2 = ['Sun', 'Mercury', 'Venus', 'Earth', 'Mars', 'Jupiter', 'Satrun', 'Uranus', 'Neptune']\n",
        "solardict = {}\n",
        "for i, k in enumerate(solar1):\n",
        "  val = solar2[i]\n",
        "  solardict[k] = val\n",
        "\n",
        "## 사전에 새로운 요소 k2:val2 를 추가하는 방법은 다음과 같음 => dict[k2] = val2\n",
        "\n",
        "print(solardict)"
      ],
      "execution_count": null,
      "outputs": [
        {
          "output_type": "stream",
          "text": [
            "{'태양': 'Sun', '수성': 'Mercury', '금성': 'Venus', '지구': 'Earth', '화성': 'Mars', '목성': 'Jupiter', '토성': 'Satrun', '천왕성': 'Uranus', '해왕성': 'Neptune'}\n"
          ],
          "name": "stdout"
        }
      ]
    },
    {
      "cell_type": "code",
      "metadata": {
        "colab": {
          "base_uri": "https://localhost:8080/"
        },
        "id": "RzQY2QnlVWDV",
        "outputId": "c960023b-689d-48a8-9fda-4b4be097bfc5"
      },
      "source": [
        "# 124. 사전의 특정 요소값 변경하기\n",
        "\n",
        "names = {'Mary':10999, 'Sams':2111, 'Aimy':9778, 'Tom':20245, \n",
        "         'Michale':27115, 'Bob':5887, 'Kelly':7855}\n",
        "names['Aimy'] = 10000\n",
        "print(names)"
      ],
      "execution_count": null,
      "outputs": [
        {
          "output_type": "stream",
          "text": [
            "{'Mary': 10999, 'Sams': 2111, 'Aimy': 10000, 'Tom': 20245, 'Michale': 27115, 'Bob': 5887, 'Kelly': 7855}\n"
          ],
          "name": "stdout"
        }
      ]
    },
    {
      "cell_type": "code",
      "metadata": {
        "colab": {
          "base_uri": "https://localhost:8080/"
        },
        "id": "VDQ9BTCPWx9A",
        "outputId": "ce517c7a-e823-48e9-de46-4dc1a994935f"
      },
      "source": [
        "# 125. 사전의 특정 요소 제거하기 (del)\n",
        "\n",
        "names = {'Mary':10999, 'Sams':2111, 'Aimy':9778, 'Tom':20245, \n",
        "         'Michale':27115, 'Bob':5887, 'Kelly':7855}\n",
        "del names['Sams']\n",
        "print(names)"
      ],
      "execution_count": null,
      "outputs": [
        {
          "output_type": "stream",
          "text": [
            "{'Mary': 10999, 'Aimy': 9778, 'Tom': 20245, 'Michale': 27115, 'Bob': 5887, 'Kelly': 7855}\n"
          ],
          "name": "stdout"
        }
      ]
    },
    {
      "cell_type": "code",
      "metadata": {
        "colab": {
          "base_uri": "https://localhost:8080/"
        },
        "id": "lpvDMKGsXIdK",
        "outputId": "b5865967-faed-4d18-8c29-71318b088033"
      },
      "source": [
        "# 126. 사전의 모든 요소 제거하기 (clear)\n",
        "\n",
        "names = {'Mary':10999, 'Sams':2111, 'Aimy':9778, 'Tom':20245, \n",
        "         'Michale':27115, 'Bob':5887, 'Kelly':7855}\n",
        "names.clear()\n",
        "print(names)"
      ],
      "execution_count": null,
      "outputs": [
        {
          "output_type": "stream",
          "text": [
            "{}\n"
          ],
          "name": "stdout"
        }
      ]
    },
    {
      "cell_type": "code",
      "metadata": {
        "colab": {
          "base_uri": "https://localhost:8080/"
        },
        "id": "X04XGFXtXW3j",
        "outputId": "11e20043-3581-46fd-fdb2-e167dacd8fb9"
      },
      "source": [
        "# 127. 사전에서 키만 추출하기 (keys)\n",
        "\n",
        "names = {'Mary':10999, 'Sams':2111, 'Aimy':9778, 'Tom':20245, \n",
        "         'Michale':27115, 'Bob':5887, 'Kelly':7855}\n",
        "ks = names.keys()\n",
        "print(ks)\n",
        "\n",
        "for k in ks:\n",
        "  print('Key: %s \\tValue:%d' %(k, names[k]))"
      ],
      "execution_count": null,
      "outputs": [
        {
          "output_type": "stream",
          "text": [
            "dict_keys(['Mary', 'Sams', 'Aimy', 'Tom', 'Michale', 'Bob', 'Kelly'])\n",
            "Key: Mary \tValue:10999\n",
            "Key: Sams \tValue:2111\n",
            "Key: Aimy \tValue:9778\n",
            "Key: Tom \tValue:20245\n",
            "Key: Michale \tValue:27115\n",
            "Key: Bob \tValue:5887\n",
            "Key: Kelly \tValue:7855\n"
          ],
          "name": "stdout"
        }
      ]
    },
    {
      "cell_type": "code",
      "metadata": {
        "colab": {
          "base_uri": "https://localhost:8080/"
        },
        "id": "4ytw2HvAXqo-",
        "outputId": "58fff9a1-0cd9-4cd7-8e90-6cd4fdee9941"
      },
      "source": [
        "# 128. 사전에서 값만 추출하기 (values)\n",
        "\n",
        "names = {'Mary':10999, 'Sams':2111, 'Aimy':9778, 'Tom':20245, \n",
        "         'Michale':27115, 'Bob':5887, 'Kelly':7855}\n",
        "vals = names.values()\n",
        "print(vals)\n",
        "\n",
        "vals_list = list(vals)  # 사전 뷰 객체(Dictionary View Object)는 사전의 키나 값 등을 동적으로 보여주는 기능을 함. dict_values 객체는 list() 함수의 인자로 입력되어 리스트로 변환된다.\n",
        "ret = sum(vals_list)\n",
        "print('출생아 수 총계: %d' %ret)"
      ],
      "execution_count": null,
      "outputs": [
        {
          "output_type": "stream",
          "text": [
            "dict_values([10999, 2111, 9778, 20245, 27115, 5887, 7855])\n",
            "출생아 수 총계: 83990\n"
          ],
          "name": "stdout"
        }
      ]
    },
    {
      "cell_type": "code",
      "metadata": {
        "id": "RelVKTG1aPKc"
      },
      "source": [
        ""
      ],
      "execution_count": null,
      "outputs": []
    },
    {
      "cell_type": "code",
      "metadata": {
        "colab": {
          "base_uri": "https://localhost:8080/"
        },
        "id": "_AwnpJGeYr4q",
        "outputId": "1b0791a4-ac33-4e93-c15c-009858611148"
      },
      "source": [
        "# 129. 사전 요소를 모두 추출하기 (items)\n",
        "\n",
        "names = {'Mary':10999, 'Sams':2111, 'Aimy':9778, 'Tom':20245, \n",
        "         'Michale':27115, 'Bob':5887, 'Kelly':7855}\n",
        "items = names.items()\n",
        "print(items)\n",
        "\n",
        "for item in items:\n",
        "  print(item)"
      ],
      "execution_count": null,
      "outputs": [
        {
          "output_type": "stream",
          "text": [
            "dict_items([('Mary', 10999), ('Sams', 2111), ('Aimy', 9778), ('Tom', 20245), ('Michale', 27115), ('Bob', 5887), ('Kelly', 7855)])\n",
            "('Mary', 10999)\n",
            "('Sams', 2111)\n",
            "('Aimy', 9778)\n",
            "('Tom', 20245)\n",
            "('Michale', 27115)\n",
            "('Bob', 5887)\n",
            "('Kelly', 7855)\n"
          ],
          "name": "stdout"
        }
      ]
    },
    {
      "cell_type": "code",
      "metadata": {
        "colab": {
          "base_uri": "https://localhost:8080/"
        },
        "id": "VE6PXtbYZWLd",
        "outputId": "fe7aba98-db5c-4736-ab00-5b5178962572"
      },
      "source": [
        "# 130. 사전에 특정 키가 존재하는지 확인하기 (in)\n",
        "\n",
        "names = {'Mary':10999, 'Sams':2111, 'Aimy':9778, 'Tom':20245, \n",
        "         'Michale':27115, 'Bob':5887, 'Kelly':7855}\n",
        "k = input('이름을 입력하세요:')\n",
        "if k in names:\n",
        "  print('이름이 <%s>인 출생아 수는 <%d>명입니다.' %(k, names[k]))\n",
        "else:\n",
        "  print('자료에 <%s>인 이름이 존재하지 않습니다.' %k)\n",
        "\n",
        "\n",
        "## 사전 dict에 k가 키로 있는지 없는지 확인하는 방법은 다음과 같다. \n",
        "## k in dict\n",
        "\n"
      ],
      "execution_count": null,
      "outputs": [
        {
          "output_type": "stream",
          "text": [
            "이름을 입력하세요:남동욱\n",
            "자료에 <남동욱>인 이름이 존재하지 않습니다.\n"
          ],
          "name": "stdout"
        }
      ]
    },
    {
      "cell_type": "code",
      "metadata": {
        "colab": {
          "base_uri": "https://localhost:8080/"
        },
        "id": "nCm9_NyiaORL",
        "outputId": "0cb48fce-b50b-4a01-ce85-237f8e79e993"
      },
      "source": [
        "## 130-1. 사전에 특정 값이 존재하는지 확인하는 방법은 앞서 배운 values()를 이용하는 것이다.\n",
        "\n",
        "names = {'Mary':10999, 'Sams':2111, 'Aimy':9778, 'Tom':20245, \n",
        "         'Michale':27115, 'Bob':5887, 'Kelly':7855}\n",
        "if 2111 in names.values():\n",
        "  print('주어진 값이 사전에 존재합니다.')\n",
        "else:\n",
        "  print('주어진 값이 사전에 존재하지 안습니다.')"
      ],
      "execution_count": null,
      "outputs": [
        {
          "output_type": "stream",
          "text": [
            "주어진 값이 사전에 존재합니다.\n"
          ],
          "name": "stdout"
        }
      ]
    },
    {
      "cell_type": "code",
      "metadata": {
        "colab": {
          "base_uri": "https://localhost:8080/"
        },
        "id": "TQnIyiNAbaAB",
        "outputId": "6ae40c74-03b9-4ea8-eae8-2cc0a4296df3"
      },
      "source": [
        "# 131. 사전 정렬하기(sorted)\n",
        "\n",
        "names = {'Mary':10999, 'Sams':2111, 'Aimy':9778, 'Tom':20245, \n",
        "         'Michale':27115, 'Bob':5887, 'Kelly':7855}\n",
        "ret1 = sorted(names)\n",
        "print(ret1)\n",
        "\n",
        "\n",
        "# sorted()는 key 인자를 이용하여 정렬할 기준이 되는 값을 지정해줄 수 있다. sorted()의 key 인자로 지정되는 값은 반드시 함수이어야 하며, 이 함수의 처리 결과를 기준으로 정렬해준다.\n",
        "def f1(x):\n",
        "  return x[0]\n",
        "\n",
        "def f2(x):\n",
        "  return x[1]\n",
        "\n",
        "ret2 = sorted(names.items(), key = f1)\n",
        "print(ret2)\n",
        "\n",
        "ret3 = sorted(names.items(), key = f2)\n",
        "print(ret3)\n",
        "\n",
        "ret4 = sorted(names.items(), key = f2, reverse = True)\n",
        "print(ret4)"
      ],
      "execution_count": null,
      "outputs": [
        {
          "output_type": "stream",
          "text": [
            "['Aimy', 'Bob', 'Kelly', 'Mary', 'Michale', 'Sams', 'Tom']\n",
            "[('Aimy', 9778), ('Bob', 5887), ('Kelly', 7855), ('Mary', 10999), ('Michale', 27115), ('Sams', 2111), ('Tom', 20245)]\n",
            "[('Sams', 2111), ('Bob', 5887), ('Kelly', 7855), ('Aimy', 9778), ('Mary', 10999), ('Tom', 20245), ('Michale', 27115)]\n",
            "[('Michale', 27115), ('Tom', 20245), ('Mary', 10999), ('Aimy', 9778), ('Kelly', 7855), ('Bob', 5887), ('Sams', 2111)]\n"
          ],
          "name": "stdout"
        }
      ]
    },
    {
      "cell_type": "code",
      "metadata": {
        "colab": {
          "base_uri": "https://localhost:8080/"
        },
        "id": "E-4vXp-Zhu1k",
        "outputId": "a03140a0-3fc1-4517-e8c9-dd5996a94843"
      },
      "source": [
        "# 132. 문자 코드값 구하기(ord)\n",
        "\n",
        "ch = input('문자를 1개 입력하세요:')\n",
        "if len(ch) !=0:\n",
        "  ch = ch[0]\n",
        "  chv = ord(ch)\n",
        "  print('문자: %s \\t코드값: %d[%s]' %(ch, chv, hex(chv)))"
      ],
      "execution_count": null,
      "outputs": [
        {
          "output_type": "stream",
          "text": [
            "문자를 1개 입력하세요:a\n",
            "문자: a \t코드값: 97[0x61]\n"
          ],
          "name": "stdout"
        }
      ]
    },
    {
      "cell_type": "code",
      "metadata": {
        "colab": {
          "base_uri": "https://localhost:8080/"
        },
        "id": "YYb8sLmJlEea",
        "outputId": "5802cbec-1ba3-4f2e-cae4-1e2eacd5e226"
      },
      "source": [
        "# 133. 코드값에 대응하는 문자 얻기 (chr)\n",
        "\n",
        "val = input('문자 코드값을 입력하세요:')\n",
        "val = int(val)\n",
        "try:\n",
        "  ch = chr(val)\n",
        "  print('코드값: %d [%s], 문자: %s' %(val, hex(val), ch))\n",
        "except ValueError:\n",
        "  print('입력한 <%d>에 대한 문자가 존재하지 않습니다!' %val)"
      ],
      "execution_count": null,
      "outputs": [
        {
          "output_type": "stream",
          "text": [
            "문자 코드값을 입력하세요:114\n",
            "코드값: 114 [0x72], 문자: r\n"
          ],
          "name": "stdout"
        }
      ]
    },
    {
      "cell_type": "code",
      "metadata": {
        "colab": {
          "base_uri": "https://localhost:8080/"
        },
        "id": "JJsmB7bul5gM",
        "outputId": "8fa0971f-917e-4a57-9a8b-bd1bf3e0ebbc"
      },
      "source": [
        "# 134. 문자열로 된 식을 실행하기 (eval)\n",
        "\n",
        "expr1 = '2+3'\n",
        "expr2 = 'round(3.7)'\n",
        "ret1 = eval(expr1)\n",
        "ret2 = eval(expr2)\n",
        "print('<%s>를 eval()로 실행한 결과:' %expr1, end=''); print(ret1)\n",
        "print('<%s>를 eval()로 실행한 결과:' %expr2, end=''); print(ret2)"
      ],
      "execution_count": null,
      "outputs": [
        {
          "output_type": "stream",
          "text": [
            "<2+3>를 eval()로 실행한 결과:5\n",
            "<round(3.7)>를 eval()로 실행한 결과:4\n"
          ],
          "name": "stdout"
        }
      ]
    },
    {
      "cell_type": "code",
      "metadata": {
        "colab": {
          "base_uri": "https://localhost:8080/"
        },
        "id": "vkwa8QlsmxhZ",
        "outputId": "97e837fe-6f47-4e9c-bf7e-a35eb48d46c3"
      },
      "source": [
        "# 135. 이름없는 한줄짜리 함수 만들기 (lambda)\n",
        "\n",
        "## lambda 함수는 파이썬에서 일반적인 함수 정의 방법과는 다르게 함수이름 없이 한줄로 간단하게 정의되는 함수이다.\n",
        "## lambda 함수를 정의하는 방법은 다음과 같음\n",
        "## lambda 인자, 인자, ... : 실행 코드\n",
        "\n",
        "add = lambda x,y:x+y\n",
        "ret = add(1,3)\n",
        "print(ret)\n",
        "\n",
        "## lambda 함수는 리스트의 요소가 될 수 있음\n",
        "funcs = [lambda x:x+'.pptx', lambda x:x+'.docx']\n",
        "ret1 = funcs[0]('intro')\n",
        "ret2 = funcs[1]('Report')\n",
        "print(ret1)\n",
        "print(ret2)\n",
        "\n",
        "## 오름차순으로 정렬에 lambda 활용하기\n",
        "names = {'Mary':10999, 'Sams':2111, 'Aimy':9778, 'Tom':20245, \n",
        "         'Michale':27115, 'Bob':5887, 'Kelly':7855}\n",
        "ret3 = sorted(names.items(), key = lambda x:x[0])\n",
        "print(ret3)"
      ],
      "execution_count": null,
      "outputs": [
        {
          "output_type": "stream",
          "text": [
            "4\n",
            "intro.pptx\n",
            "Report.docx\n",
            "[('Aimy', 9778), ('Bob', 5887), ('Kelly', 7855), ('Mary', 10999), ('Michale', 27115), ('Sams', 2111), ('Tom', 20245)]\n"
          ],
          "name": "stdout"
        }
      ]
    },
    {
      "cell_type": "code",
      "metadata": {
        "colab": {
          "base_uri": "https://localhost:8080/"
        },
        "id": "HHmmONQFo8Et",
        "outputId": "b26991ec-75dd-4c11-faf3-db262732461d"
      },
      "source": [
        "# 136. 인자를 바꾸어 함수를 반복 호출하여 결과값 얻기(map)\n",
        "\n",
        "f = lambda x:x*x\n",
        "args = [1, 2, 3, 4, 5]\n",
        "ret = map(f, args)\n",
        "print(list(ret))"
      ],
      "execution_count": null,
      "outputs": [
        {
          "output_type": "stream",
          "text": [
            "[1, 4, 9, 16, 25]\n"
          ],
          "name": "stdout"
        }
      ]
    },
    {
      "cell_type": "code",
      "metadata": {
        "colab": {
          "base_uri": "https://localhost:8080/"
        },
        "id": "s1fvPqmlqeNv",
        "outputId": "15748068-3c48-4df0-a8d6-92fec42a830f"
      },
      "source": [
        "## 136-1. \n",
        "## map()은 두 개 이상의 반복되는 인자에 대해서도 적용이 가능하다. \n",
        "## 예를 들어, X = {1, 2, 3, 4, 5}, Y = {10, 9, 8, 7, 6}에 대해 f(X, Y) = X2 + Y 의 결과를 구하는 코드는 다음과 같이 구현할 수 있다.\n",
        "\n",
        "f = lambda x, y:x*x+y\n",
        "X = [1, 2, 3, 4, 5]\n",
        "Y = [10, 9, 8, 7, 6]\n",
        "ret = map(f, X, Y)\n",
        "print(list(ret))"
      ],
      "execution_count": null,
      "outputs": [
        {
          "output_type": "stream",
          "text": [
            "[11, 13, 17, 23, 31]\n"
          ],
          "name": "stdout"
        }
      ]
    },
    {
      "cell_type": "markdown",
      "metadata": {
        "id": "xje7HGgKrX6u"
      },
      "source": [
        "# Part4. Python 프로그래밍 응용 다지기"
      ]
    },
    {
      "cell_type": "code",
      "metadata": {
        "colab": {
          "base_uri": "https://localhost:8080/"
        },
        "id": "vHZ24uvVrsQn",
        "outputId": "a290dcb6-d1d3-475b-a4eb-44ba4acc0b3f"
      },
      "source": [
        "# 137. 텍스트 파일을 읽고 출력하기 (read)\n",
        "\n",
        "f = open('stockcode.txt', 'r', encoding='euc-kr')  # 웹에서 가지고 온 문서를 utf-8 인코딩으로 열릴 수 있도록 encoding='euc-kr'로 인코딩\n",
        "data = f.read()\n",
        "print(data)\n",
        "f.close()"
      ],
      "execution_count": null,
      "outputs": [
        {
          "output_type": "stream",
          "text": [
            "000020 동화약품\n",
            "000040 S&T모터스\n",
            "000050 경방\n",
            "000060 메리츠화재\n",
            "000070 삼양사\n",
            "000071 삼양사우\n",
            "000100 유한양행\n",
            "000101 유한양행우\n",
            "000120 대한통운\n",
            "000140 하이트홀딩스\n",
            "000141 하이트홀딩스우\n",
            "000150 두산\n",
            "000151 두산우\n",
            "000152 두산2우B\n",
            "000180 성창기업지주\n",
            "000210 대림산업\n",
            "000211 대림산업우\n",
            "000220 유유제약\n",
            "000221 유유제약1우\n",
            "000222 유유제약2우B\n",
            "000230 일동제약\n",
            "000240 한국타이어\n",
            "000270 기아차\n",
            "000300 대유신소재\n",
            "000320 디피아이홀딩스\n",
            "000321 디피아이홀딩스우\n",
            "000322 디피아이홀딩스2B\n",
            "000360 삼환기업\n",
            "000361 삼환기업우\n",
            "000370 한화손해보험\n",
            "000390 삼화페인트\n",
            "000400 롯데손해보험\n",
            "000420 로케트전기\n",
            "000421 로케트전우\n",
            "000430 대원강업\n",
            "000470 그린손해보험\n",
            "000480 조선내화\n",
            "000490 대동공업\n",
            "000500 가온전선\n",
            "000520 삼일제약\n",
            "000540 흥국쌍용화재\n",
            "000541 흥국쌍용화재우\n",
            "000542 흥국쌍용화재2우B\n",
            "000590 조선선재\n",
            "000610 제일화재\n",
            "000640 동아제약\n",
            "000650 천일고속\n",
            "000660 하이닉스\n",
            "000670 영풍\n",
            "000680 LS네트웍스\n",
            "000681 LS네트웍스우\n",
            "000700 한진해운\n",
            "000720 현대건설\n",
            "000721 현대건설우\n",
            "000760 이화산업\n",
            "000790 C&상선\n",
            "000800 경남기업\n",
            "000810 삼성화재\n",
            "000811 삼성화재우\n",
            "000830 삼성물산\n",
            "000831 삼성물산우\n",
            "000850 화천기공\n",
            "000860 건설화학\n",
            "000880 한화\n",
            "000881 한화우\n",
            "000890 보해양조\n",
            "000891 보해양조우\n",
            "000910 유니온\n",
            "000950 전방\n",
            "000970 한국주철관\n",
            "000990 동부하이텍\n",
            "000991 동부하이텍1우\n",
            "000992 동부하이텍2우B\n",
            "001020 페이퍼코리아\n",
            "001040 CJ\n",
            "001041 CJ우\n",
            "001042 CJ2우B\n",
            "001043 CJ3우B\n",
            "001060 중외제약\n",
            "001061 중외제약우\n",
            "001062 중외제약2우B\n",
            "001070 대한방직\n",
            "001080 만호제강\n",
            "001120 LG상사\n",
            "001130 대한제분\n",
            "001140 국보\n",
            "001190 마이크로닉스\n",
            "001200 유진투자증권\n",
            "001210 금호전기\n",
            "001230 동국제강\n",
            "001250 쌍용\n",
            "001260 남광토건\n",
            "001270 부국증권\n",
            "001271 부국증권우\n",
            "001290 골든브릿지증권\n",
            "001300 제일모직\n",
            "001310 풍림산업\n",
            "001340 백광산업\n",
            "001360 삼성제약\n",
            "001370 FnC코오롱\n",
            "001371 FnC코오롱우\n",
            "001380 SG글로벌\n",
            "001381 SG글로벌우\n",
            "001390 KG케미칼\n",
            "001420 태원물산\n",
            "001430 세아베스틸\n",
            "001440 대한전선\n",
            "001450 현대해상\n",
            "001460 BYC\n",
            "001461 BYC우\n",
            "001470 삼부토건\n",
            "001500 HMC투자증권\n",
            "001510 SK증권\n",
            "001511 SK증권우\n",
            "001520 동양메이저\n",
            "001521 동양메이저우\n",
            "001522 동양메이저2우B\n",
            "001523 동양메이저3우B\n",
            "001530 동일방직\n",
            "001550 조비\n",
            "001560 제일연마\n",
            "001570 금양\n",
            "001600 서광건설\n",
            "001620 동국실업\n",
            "001630 종근당\n",
            "001680 대상\n",
            "001681 대상우\n",
            "001682 대상2우B\n",
            "001683 대상3우B\n",
            "001720 신영증권\n",
            "001721 신영증권우\n",
            "001740 SK네트웍스\n",
            "001741 SK네트웍스우\n",
            "001750 한양증권\n",
            "001751 한양증권우\n",
            "001770 신화실업\n",
            "001780 동양강철\n",
            "001790 대한제당\n",
            "001791 대한제당우\n",
            "001800 오리온\n",
            "001820 삼화콘덴서\n",
            "001880 삼호\n",
            "001940 KISCO홀딩스\n",
            "001950 남한제지\n",
            "001951 남한제지우\n",
            "001970 신성건설\n",
            "001971 신성건설우\n",
            "002000 한국유리\n",
            "002001 한국유리우\n",
            "002020 코오롱\n",
            "002021 코오롱우\n",
            "002022 코오롱2우B\n",
            "002030 아세아시멘트\n",
            "002070 남영L&F\n",
            "002100 경농\n",
            "002140 고려산업\n",
            "002170 삼양통상\n",
            "002200 수출포장\n",
            "002210 동성제약\n",
            "002220 한일철강\n",
            "002240 고려제강\n",
            "002250 근화제약\n",
            "002270 롯데삼강\n",
            "002300 한국제지\n",
            "002310 아세아제지\n",
            "002320 한진\n",
            "002350 넥센타이어\n",
            "002351 넥센타이어1우B\n",
            "002360 SH에너지화학\n",
            "002361 SH에너지화학우\n",
            "002380 KCC\n",
            "002390 한독약품\n",
            "002410 범양건영\n",
            "002420 세기상사\n",
            "002450 삼익악기\n",
            "002460 화성산업\n",
            "002530 벽산건설\n",
            "002531 벽산건설우\n",
            "002540 고제\n",
            "002550 LIG손해보험\n",
            "002600 조흥\n",
            "002620 제일약품\n",
            "002630 오리엔트바이오\n",
            "002700 신일산업\n",
            "002710 동양석판\n",
            "002720 국제약품\n",
            "002760 보락\n",
            "002780 진흥기업\n",
            "002781 진흥기업우B\n",
            "002782 진흥기업2우B\n",
            "002790 태평양\n",
            "002791 태평양우\n",
            "002792 태평양2우B\n",
            "002810 삼영무역\n",
            "002820 선창산업\n",
            "002840 미원상사\n",
            "002870 신풍제지\n",
            "002880 대유디엠씨\n",
            "002900 동양물산\n",
            "002920 유성기업\n",
            "002960 한국쉘석유\n",
            "002990 금호산업\n",
            "002991 금호산업우\n",
            "003000 부광약품\n",
            "003010 혜인\n",
            "003030 세아제강\n",
            "003060 한국슈넬제약\n",
            "003070 코오롱건설\n",
            "003071 코오롱건우\n",
            "003080 성보화학\n",
            "003090 대웅\n",
            "003120 일성신약\n",
            "003160 디아이\n",
            "003190 알앤엘바이오\n",
            "003200 일신방직\n",
            "003220 대원제약\n",
            "003230 삼양식품\n",
            "003240 태광산업\n",
            "003280 흥아해운\n",
            "003300 한일시멘트\n",
            "003350 한국화장품\n",
            "003410 쌍용양회\n",
            "003411 쌍용양회우\n",
            "003412 쌍용양회2우B\n",
            "003413 쌍용양회3우B\n",
            "003414 쌍용양회4우B\n",
            "003415 쌍용양회5우B\n",
            "003450 현대증권\n",
            "003460 유화증권\n",
            "003461 유화증권우\n",
            "003470 동양종금증권\n",
            "003471 동양종금증권1우\n",
            "003480 한진중공업홀딩스\n",
            "003490 대한항공\n",
            "003491 대한항공우\n",
            "003520 영진약품\n",
            "003530 한화증권\n",
            "003531 한화증권우\n",
            "003540 대신증권\n",
            "003541 대신증권우\n",
            "003542 대신증권2우B\n",
            "003550 LG\n",
            "003551 LG우\n",
            "003560 IHQ\n",
            "003570 S&T중공업\n",
            "003580 동원\n",
            "003600 SK\n",
            "003601 SK우\n",
            "003610 방림\n",
            "003620 쌍용차\n",
            "003640 유니온스틸\n",
            "003650 미창석유\n",
            "003680 한성기업\n",
            "003690 코리안리\n",
            "003720 삼영화학\n",
            "003780 진양산업\n",
            "003830 대한화섬\n",
            "003850 보령제약\n",
            "003920 남양유업\n",
            "003921 남양유업우\n",
            "003940 삼양제넥스\n",
            "003941 삼양제넥우\n",
            "003960 사조대림\n",
            "003961 사조대림우\n",
            "003990 BHK\n",
            "004000 삼성정밀화학\n",
            "004010 롯데미도파\n",
            "004020 현대제철\n",
            "004021 현대제철\n",
            "004060 에스지위카스\n",
            "004080 신흥\n",
            "004090 한국석유\n",
            "004100 태양금속\n",
            "004101 태양금속우\n",
            "004130 대덕GDS\n",
            "004131 대덕GDS우\n",
            "004132 대덕GDS2우B\n",
            "004140 동방\n",
            "004142 동방전환상환2우B\n",
            "004143 동방전환상환3우B\n",
            "004150 한솔제지\n",
            "004170 신세계\n",
            "004200 고려개발\n",
            "004230 세신\n",
            "004250 내쇼날푸라스\n",
            "004251 내쇼날푸우\n",
            "004270 남성\n",
            "004310 현대약품\n",
            "004360 세방\n",
            "004361 세방우\n",
            "004362 세방2우B\n",
            "004370 농심\n",
            "004380 삼익THK\n",
            "004410 서울식품\n",
            "004411 서울식품우\n",
            "004430 송원산업\n",
            "004450 삼화왕관\n",
            "004490 세방전지\n",
            "004540 대한펄프\n",
            "004541 대한펄프우\n",
            "004550 대우차판매\n",
            "004551 대우차판매1우\n",
            "004560 BNG스틸\n",
            "004561 BNG스틸우\n",
            "004620 캠브리지\n",
            "004690 삼천리\n",
            "004700 조광피혁\n",
            "004710 한솔LCD\n",
            "004720 우리들생명과학\n",
            "004740 보루네오\n",
            "004770 써니전자\n",
            "004800 효성\n",
            "004820 조인에너지\n",
            "004830 덕성\n",
            "004831 덕성우\n",
            "004840 동일벨트\n",
            "004870 아인스\n",
            "004890 동일산업\n",
            "004910 조광페인트\n",
            "004920 삼영홀딩스\n",
            "004940 외환은행\n",
            "004960 한신공영\n",
            "004961 한신공영우\n",
            "004970 신라교역\n",
            "004980 성신양회\n",
            "004981 성신양회우\n",
            "004982 성신양회2우B\n",
            "004983 성신양회3우B\n",
            "004990 롯데제과\n",
            "005010 휴스틸\n",
            "005030 부산주공\n",
            "005070 새한미디어\n",
            "005090 삼광유리\n",
            "005110 한창\n",
            "005180 빙그레\n",
            "005190 동성화학\n",
            "005250 녹십자홀딩스\n",
            "005251 녹십자홀딩스1우\n",
            "005252 녹십자홀딩스2우\n",
            "005270 대구은행\n",
            "005280 부산은행\n",
            "005300 롯데칠성\n",
            "005301 롯데칠성우\n",
            "005320 국동\n",
            "005350 선우ST\n",
            "005360 모나미\n",
            "005380 현대차\n",
            "005381 현대차우\n",
            "005382 현대차2우B\n",
            "005383 현대차3우B\n",
            "005390 신성통상\n",
            "005420 코스모화학\n",
            "005430 한국공항\n",
            "005440 현대H&S\n",
            "005450 신한\n",
            "005490 POSCO\n",
            "005500 삼진제약\n",
            "005560 JS전선\n",
            "005610 삼립식품\n",
            "005620 대성산업\n",
            "005680 삼영전자\n",
            "005690 로이\n",
            "005720 넥센\n",
            "005721 넥센우\n",
            "005740 크라운제과\n",
            "005741 크라운제우\n",
            "005750 대림B&Co\n",
            "005800 신영와코루\n",
            "005810 풍산홀딩스\n",
            "005820 원림\n",
            "005830 동부화재\n",
            "005850 에스엘\n",
            "005870 휴니드\n",
            "005880 대한해운\n",
            "005900 동양건설\n",
            "005930 삼성전자\n",
            "005931 삼성전자우\n",
            "005940 우리투자증권\n",
            "005941 우리투자증권우\n",
            "005950 이수화학\n",
            "005960 동부건설\n",
            "005961 동부건설우\n",
            "005980 성지건설\n",
            "006040 동원산업\n",
            "006060 화승인더\n",
            "006070 기린\n",
            "006090 오양수산\n",
            "006110 삼아알미늄\n",
            "006120 SK케미칼\n",
            "006121 SK케미칼우\n",
            "006200 KEC홀딩스\n",
            "006210 휴리프\n",
            "006220 제주은행\n",
            "006260 LS\n",
            "006280 녹십자\n",
            "006340 대원전선\n",
            "006341 대원전선우\n",
            "006350 전북은행\n",
            "006360 GS건설\n",
            "006370 대구백화점\n",
            "006371 대구백화우\n",
            "006380 카프로\n",
            "006390 현대시멘트\n",
            "006400 삼성SDI\n",
            "006401 삼성SDI우\n",
            "006440 한일건설\n",
            "006490 로엔케이\n",
            "006570 대림통상\n",
            "006650 대한유화\n",
            "006660 삼성공조\n",
            "006740 영풍제지\n",
            "006800 대우증권\n",
            "006801 대우증권우\n",
            "006840 애경유화\n",
            "006890 태경화학\n",
            "006980 우성사료\n",
            "007050 유리이에스\n",
            "007110 일신석재\n",
            "007120 유니모테크\n",
            "007160 사조산업\n",
            "007190 이엔페이퍼\n",
            "007191 이엔페이퍼우\n",
            "007200 진흥저축은행\n",
            "007210 벽산\n",
            "007280 한국특수형강\n",
            "007310 오뚜기\n",
            "007340 동아타이어\n",
            "007460 케이아이씨\n",
            "007480 대한은박지\n",
            "007490 태창기업\n",
            "007540 샘표식품\n",
            "007570 일양약품\n",
            "007571 일양약품우\n",
            "007590 동방아그로\n",
            "007591 동방아그우\n",
            "007610 선도전기\n",
            "007630 지에스인스트루\n",
            "007660 이수페타시스\n",
            "007690 국도화학\n",
            "007700 F&F\n",
            "007800 솔로몬저축은행\n",
            "007810 코리아써키트\n",
            "007811 코리아써우\n",
            "007860 한일이화\n",
            "007980 태평양물산\n",
            "008000 웅진케미칼\n",
            "008020 경남에너지\n",
            "008040 동아에스에프\n",
            "008060 대덕전자\n",
            "008080 삼양옵틱스\n",
            "008110 대동전자\n",
            "008250 이건산업\n",
            "008260 NI스틸\n",
            "008320 한국기술산업\n",
            "008350 남선알미늄\n",
            "008351 남선알미우\n",
            "008400 C&중공업\n",
            "008401 C&중공업우\n",
            "008420 문배철강\n",
            "008490 서흥캅셀\n",
            "008500 일정실업\n",
            "008540 일경\n",
            "008560 메리츠증권\n",
            "008600 미래와사람\n",
            "008700 아남전자\n",
            "008701 아남전자우\n",
            "008720 삼양중기\n",
            "008730 율촌화학\n",
            "008770 호텔신라\n",
            "008771 호텔신라우\n",
            "008870 금비\n",
            "008900 티이씨앤코\n",
            "008930 한미약품\n",
            "008970 동양철관\n",
            "008971 동양철관우\n",
            "009070 KCTC\n",
            "009140 경인전자\n",
            "009150 삼성전기\n",
            "009151 삼성전기우\n",
            "009160 SIMPAC\n",
            "009180 한솔CSN\n",
            "009190 대양금속\n",
            "009200 무림페이퍼\n",
            "009240 한샘\n",
            "009270 신원\n",
            "009271 신원우\n",
            "009280 다함이텍\n",
            "009290 광동제약\n",
            "009310 참앤씨\n",
            "009320 대우부품\n",
            "009380 아세아페이퍼텍\n",
            "009381 아세아페우B\n",
            "009410 태영건설\n",
            "009411 태영건설우\n",
            "009420 한올제약\n",
            "009440 KC코트렐\n",
            "009450 경동나비엔\n",
            "009460 한창제지\n",
            "009470 삼화전기\n",
            "009540 현대중공업\n",
            "009580 동해펄프\n",
            "009680 모토닉\n",
            "009690 케이엠에이치\n",
            "009720 전기초자\n",
            "009770 삼정펄프\n",
            "009810 고려포리머\n",
            "009811 고려포리머우\n",
            "009830 한화석화\n",
            "009831 한화석화1우\n",
            "009970 영원무역\n",
            "010040 한국내화\n",
            "010050 금호종금\n",
            "010060 동양제철화학\n",
            "010100 한국프랜지\n",
            "010120 LS산전\n",
            "010130 고려아연\n",
            "010140 삼성중공업\n",
            "010141 삼성중공우\n",
            "010420 한솔PNS\n",
            "010460 한국개발금융\n",
            "010520 현대하이스코\n",
            "010580 지코\n",
            "010600 영창실업\n",
            "010620 현대미포조선\n",
            "010640 진양폴리\n",
            "010660 화천기계\n",
            "010690 화신\n",
            "010770 평화홀딩스\n",
            "010780 아이에스동서\n",
            "010820 퍼스텍\n",
            "010950 S-Oil\n",
            "010951 S-Oil우\n",
            "010960 삼호개발\n",
            "011000 VGX인터\n",
            "011050 케드콤\n",
            "011070 LG이노텍\n",
            "011090 에넥스\n",
            "011150 삼호F&G\n",
            "011151 삼호F&G1우\n",
            "011160 두산건설\n",
            "011170 호남석유\n",
            "011200 현대상선\n",
            "011230 삼화전자\n",
            "011280 태림포장\n",
            "011300 성안\n",
            "011330 유니켐\n",
            "011390 부산산업\n",
            "011400 케이씨오에너지\n",
            "011420 IB스포츠\n",
            "011500 한농화성\n",
            "011690 유양디앤유\n",
            "011700 한신기계\n",
            "011720 현대피앤씨\n",
            "011760 현대상사\n",
            "011780 금호석유\n",
            "011781 금호석유우\n",
            "011790 SKC\n",
            "011800 배명금속\n",
            "011810 STX\n",
            "011930 신성홀딩스\n",
            "012030 동부정밀\n",
            "012090 성원건설\n",
            "012091 성원건설우\n",
            "012170 한신DNP\n",
            "012200 계양전기\n",
            "012201 계양전기우\n",
            "012280 영화금속\n",
            "012320 경동가스\n",
            "012330 현대모비스\n",
            "012331 현대모비스우\n",
            "012400 옵티머스\n",
            "012401 옵티머스우\n",
            "012410 청호전자통신\n",
            "012420 메리츠종금\n",
            "012450 삼성테크윈\n",
            "012510 더존비즈온\n",
            "012580 톰보이\n",
            "012600 청호컴넷\n",
            "012610 경인양행\n",
            "012630 현대산업\n",
            "012690 모나리자\n",
            "012750 에스원\n",
            "012800 대창공업\n",
            "012801 대창공업우\n",
            "013000 세우글로벌\n",
            "013001 세우글로벌우\n",
            "013200 C&우방\n",
            "013240 셀런\n",
            "013360 일성건설\n",
            "013361 일성건설우B\n",
            "013362 일성건설2우B\n",
            "013520 화승알앤에이\n",
            "013570 동양기전\n",
            "013580 계룡건설\n",
            "013700 삼환까뮤\n",
            "014130 한익스프레스\n",
            "014160 대영포장\n",
            "014280 금강공업\n",
            "014281 금강공업우\n",
            "014300 선진\n",
            "014350 신일건업\n",
            "014440 영보화학\n",
            "014530 극동유화\n",
            "014580 백광소재\n",
            "014590 티엘씨레저\n",
            "014680 한솔케미칼\n",
            "014790 한라건설\n",
            "014820 동원시스템즈\n",
            "014821 동원시스템즈우\n",
            "014830 유니드\n",
            "014910 성문전자\n",
            "014911 성문전자우\n",
            "014990 인디에프\n",
            "015020 이스타코\n",
            "015110 중앙건설\n",
            "015230 대창단조\n",
            "015260 에이엔피\n",
            "015350 부산가스\n",
            "015360 예스코\n",
            "015540 웰스브릿지\n",
            "015541 웰스브릿지우\n",
            "015590 대경기계\n",
            "015760 한국전력\n",
            "015860 일진홀딩스\n",
            "015890 태경산업\n",
            "015940 LG데이콤\n",
            "016090 대현\n",
            "016160 오라에너지\n",
            "016162 오라에너지2우B\n",
            "016360 삼성증권\n",
            "016380 동부제철\n",
            "016381 동부제철우\n",
            "016420 NH투자증권\n",
            "016450 한세예스24홀딩스\n",
            "016510 현대DSF\n",
            "016560 서울저축은행\n",
            "016570 태평양제약\n",
            "016571 태평양제우\n",
            "016580 환인제약\n",
            "016590 신대양제지\n",
            "016610 동부증권\n",
            "016710 대구가스\n",
            "016800 퍼시스\n",
            "016880 웅진홀딩스\n",
            "017040 광명전기\n",
            "017170 프라임엔터\n",
            "017180 명문제약\n",
            "017300 KDS\n",
            "017370 우신시스템\n",
            "017390 서울가스\n",
            "017550 수산중공업\n",
            "017551 수산중공우\n",
            "017670 SK텔레콤\n",
            "017800 현대엘리베이\n",
            "017810 풀무원홀딩스\n",
            "017900 광전자\n",
            "017940 E1\n",
            "017960 한국카본\n",
            "018410 현대금속\n",
            "018411 현대금속우\n",
            "018412 현대금속2우B\n",
            "018470 조일알미늄\n",
            "018500 동원금속\n",
            "018670 SK가스\n",
            "018880 한라공조\n",
            "019170 신풍제약\n",
            "019171 신풍제약우\n",
            "019180 티에이치엔\n",
            "019300 동일제지\n",
            "019490 하이트론\n",
            "019680 대교\n",
            "019681 대교우B\n",
            "020000 한섬\n",
            "020120 인큐브테크\n",
            "020560 아시아나항공\n",
            "020760 일진디스플\n",
            "021050 서원\n",
            "021240 웅진코웨이\n",
            "021820 세원정공\n",
            "021960 우리파이낸셜\n",
            "023150 MH에탄올\n",
            "023450 동남합성\n",
            "023530 롯데쇼핑\n",
            "023590 다우기술\n",
            "023800 인지컨트롤스\n",
            "023810 인팩\n",
            "023960 에쓰씨엔지니어링\n",
            "024070 WISCOM\n",
            "024090 디씨엠\n",
            "024100 제일저축은행\n",
            "024110 기업은행\n",
            "024720 한국콜마\n",
            "024870 유성티에스아이\n",
            "024890 대원화성\n",
            "024900 덕양산업\n",
            "025000 KPX케미칼\n",
            "025530 SJM\n",
            "025540 한국단자\n",
            "025560 미래산업\n",
            "025610 한국저축은행\n",
            "025620 신우\n",
            "025750 한솔홈데코\n",
            "025820 이구산업\n",
            "025850 KPX화인케미칼\n",
            "025860 남해화학\n",
            "025890 한국주강\n",
            "026870 대한가스\n",
            "026890 디피씨\n",
            "026940 부국철강\n",
            "027390 한화타임월드\n",
            "027740 마니커\n",
            "027840 고덴시\n",
            "027970 세하\n",
            "028050 삼성엔지니어링\n",
            "028670 STX팬오션\n",
            "029460 케이씨텍\n",
            "029530 신도리코\n",
            "029780 삼성카드\n",
            "030000 제일기획\n",
            "030200 KT\n",
            "030210 KTB투자증권\n",
            "030610 교보증권\n",
            "030720 동원수산\n",
            "031820 콤텍시스템\n",
            "032350 롯데관광개발\n",
            "032390 KTF\n",
            "032640 LG텔레콤\n",
            "033180 필룩스\n",
            "033240 자화전자\n",
            "033250 체시스\n",
            "033270 유나이티드제약\n",
            "033530 세종공업\n",
            "033780 KT&G\n",
            "034020 두산중공업\n",
            "034120 SBS\n",
            "034220 LG디스플레이\n",
            "034300 신세계건설\n",
            "034310 한신정\n",
            "034590 인천도시가스\n",
            "035000 GⅡR\n",
            "035150 백산\n",
            "035250 강원랜드\n",
            "035420 NHN\n",
            "035510 신세계\n",
            "036460 한국가스공사\n",
            "036530 S&T홀딩스\n",
            "036570 엔씨소프트\n",
            "036580 대상팜스코\n",
            "036581 대상팜스코우B\n",
            "037270 휘닉스컴\n",
            "037620 미래에셋증권\n",
            "037710 광주신세계\n",
            "041650 상신브레이크\n",
            "042100 현대오토넷\n",
            "042660 대우조선해양\n",
            "042670 두산인프라코어\n",
            "042700 한미반도체\n",
            "044380 주연테크\n",
            "044450 KSS해운\n",
            "044820 코스맥스\n",
            "045710 온미디어\n",
            "045820 LG파워콤\n",
            "047040 대우건설\n",
            "047050 대우인터내셔널\n",
            "049770 동원F&B\n",
            "049800 우진세렉스\n",
            "051310 성진지오텍\n",
            "051600 한전KPS\n",
            "051630 진양화학\n",
            "051900 LG생활건강\n",
            "051901 LG생활건강우\n",
            "051910 LG화학\n",
            "051911 LG화학우\n",
            "053000 우리금융\n",
            "055550 신한지주\n",
            "058430 포스코강판\n",
            "058650 세아홀딩스\n",
            "058730 동아에스텍\n",
            "063160 종근당바이오\n",
            "064420 케이피케미칼\n",
            "064960 S&T대우\n",
            "066570 LG전자\n",
            "066571 LG전자우\n",
            "067250 STX조선\n",
            "067830 세이브존I&C\n",
            "068290 삼성출판사\n",
            "068870 LG생명과학\n",
            "068871 LG생명과학우\n",
            "069260 휴켐스\n",
            "069460 대호에이엘\n",
            "069470 제로원인터랙티브\n",
            "069620 대웅제약\n",
            "069730 DSR제강\n",
            "069960 현대백화점\n",
            "071050 한국금융지주\n",
            "071051 한국금융지주우\n",
            "071052 한국금융지주2우B\n",
            "071090 하이스틸\n",
            "071950 코아스웰\n",
            "071951 코아스웰1우B\n",
            "072130 유엔젤\n",
            "072710 농심홀딩스\n",
            "073240 금호타이어\n",
            "074610 이엔쓰리\n",
            "075180 새론오토모티브\n",
            "076170 GBS\n",
            "076850 맥쿼리센트럴\n",
            "077500 유니퀘스트\n",
            "077970 STX엔진\n",
            "078000 텔코웨어\n",
            "078420 동북아1호\n",
            "078930 GS\n",
            "078931 GS우\n",
            "079160 CJ\n",
            "079430 리바트\n",
            "079660 사조해표\n",
            "080030 동북아2호\n",
            "080180 아시아1호\n",
            "080410 동북아6호\n",
            "080960 동북아3호\n",
            "080970 동북아4호\n",
            "080980 동북아5호\n",
            "081000 일진다이아\n",
            "081190 아시아2호\n",
            "081200 아시아3호\n",
            "081210 아시아4호\n",
            "081930 아시아8호\n",
            "081940 아시아9호\n",
            "082110 동북아8호\n",
            "082240 아시아5호\n",
            "082250 아시아6호\n",
            "082260 아시아7호\n",
            "083120 동북아9호\n",
            "083350 동북아10호\n",
            "083360 동북아11호\n",
            "083370 동북아12호\n",
            "083380 동북아13호\n",
            "083390 동북아14호\n",
            "083420 KPX그린케미칼\n",
            "083570 아시아10호\n",
            "083580 아시아11호\n",
            "083590 아시아12호\n",
            "083600 아시아13호\n",
            "083610 아시아14호\n",
            "083620 아시아15호\n",
            "084010 대한제강\n",
            "084160 골든경매일호\n",
            "084240 동북아15호\n",
            "084670 동양고속\n",
            "084680 C&우방랜드\n",
            "084690 대상홀딩스\n",
            "084691 대상홀딩스우\n",
            "084692 대상홀딩스2우B\n",
            "084870 베이직하우스\n",
            "085310 엔케이\n",
            "086280 글로비스\n",
            "086720 코크렙7호\n",
            "086790 하나금융지주\n",
            "088010 동북아21호\n",
            "088790 진도에프앤\n",
            "088980 맥쿼리인프라\n",
            "089470 현대EP\n",
            "090080 평화산업\n",
            "090350 노루페인트\n",
            "090351 노루페인트우\n",
            "090370 아비스타\n",
            "090430 아모레퍼시픽\n",
            "090431 아모레퍼시픽우\n",
            "090540 코크렙8호\n",
            "090970 코리아01호\n",
            "090980 코리아02호\n",
            "090990 코리아03호\n",
            "091000 코리아04호\n",
            "091090 세원셀론텍\n",
            "092200 디아이씨\n",
            "092220 KEC\n",
            "092230 KPX홀딩스\n",
            "092440 기신정기\n",
            "092630 바다로3호\n",
            "092970 거북선1호\n",
            "093050 LG패션\n",
            "093230 쉘라인\n",
            "093370 후성\n",
            "093400 코리아05호\n",
            "093410 코리아06호\n",
            "093730 동북아31호\n",
            "093820 한국유전15-1\n",
            "094280 효성ITX\n",
            "094520 맵스베트남1\n",
            "094800 맵스리얼티1\n",
            "094950 지비베트남1\n",
            "095720 웅진씽크빅\n",
            "096300 베트남개발1\n",
            "096760 중외홀딩스\n",
            "096770 SK에너지\n",
            "096771 SK에너지우\n",
            "097230 한진중공업\n",
            "097950 CJ제일제당\n",
            "097951 CJ제일제당\n",
            "097952 CJ제일제당\n",
            "097953 CJ제일제당\n",
            "098150 한국아태특별\n",
            "099210 코리아07호\n",
            "099340 하나니켈1호\n",
            "099350 하나니켈2호\n",
            "100220 비유와상징\n",
            "100250 진양홀딩스\n",
            "100840 S&TC\n",
            "101060 SBS홀딩스\n",
            "101140 아티스\n",
            "101380 거북선2호\n",
            "101790 케이알제2호\n",
            "101990 파브코\n",
            "102000 거북선3호\n",
            "102260 동성홀딩스\n",
            "102280 트라이\n",
            "103140 풍산\n",
            "103150 하이트맥주\n",
            "103151 하이트맥주우\n",
            "103160 풀무원\n",
            "103590 일진전기\n",
            "104110 신성ENG\n",
            "104120 신성FA\n",
            "104700 한국철강\n",
            "105560 KB금융\n",
            "107590 미원에스씨\n"
          ],
          "name": "stdout"
        }
      ]
    },
    {
      "cell_type": "code",
      "metadata": {
        "colab": {
          "base_uri": "https://localhost:8080/"
        },
        "id": "CLm7eo_CsXZS",
        "outputId": "31516ac0-8e9f-4cf7-b5f3-9cf10d95c0bd"
      },
      "source": [
        "# 138. 텍스트 파일을 한줄씩 읽고 출력하기 1 (readline)\n",
        "\n",
        "f = open('stockcode.txt', 'r', encoding='euc-kr')\n",
        "line_num = 0\n",
        "line = f.readline()\n",
        "while line:\n",
        "  print('%d %s' %(line_num, line),end = '')  \n",
        "  # 읽어들인 한 줄에는 줄바꿈 기호인 '\\n'이 포함되어 있으므로 print()의 두 번째 인자에 end = ''를 입력하여 다음 줄을 출력할 때 비어있는 줄이 생기지 않도록 함\n",
        "  line = f.readline()\n",
        "  line_num += 1\n",
        "f.close()"
      ],
      "execution_count": null,
      "outputs": [
        {
          "output_type": "stream",
          "text": [
            "0 000020 동화약품\n",
            "1 000040 S&T모터스\n",
            "2 000050 경방\n",
            "3 000060 메리츠화재\n",
            "4 000070 삼양사\n",
            "5 000071 삼양사우\n",
            "6 000100 유한양행\n",
            "7 000101 유한양행우\n",
            "8 000120 대한통운\n",
            "9 000140 하이트홀딩스\n",
            "10 000141 하이트홀딩스우\n",
            "11 000150 두산\n",
            "12 000151 두산우\n",
            "13 000152 두산2우B\n",
            "14 000180 성창기업지주\n",
            "15 000210 대림산업\n",
            "16 000211 대림산업우\n",
            "17 000220 유유제약\n",
            "18 000221 유유제약1우\n",
            "19 000222 유유제약2우B\n",
            "20 000230 일동제약\n",
            "21 000240 한국타이어\n",
            "22 000270 기아차\n",
            "23 000300 대유신소재\n",
            "24 000320 디피아이홀딩스\n",
            "25 000321 디피아이홀딩스우\n",
            "26 000322 디피아이홀딩스2B\n",
            "27 000360 삼환기업\n",
            "28 000361 삼환기업우\n",
            "29 000370 한화손해보험\n",
            "30 000390 삼화페인트\n",
            "31 000400 롯데손해보험\n",
            "32 000420 로케트전기\n",
            "33 000421 로케트전우\n",
            "34 000430 대원강업\n",
            "35 000470 그린손해보험\n",
            "36 000480 조선내화\n",
            "37 000490 대동공업\n",
            "38 000500 가온전선\n",
            "39 000520 삼일제약\n",
            "40 000540 흥국쌍용화재\n",
            "41 000541 흥국쌍용화재우\n",
            "42 000542 흥국쌍용화재2우B\n",
            "43 000590 조선선재\n",
            "44 000610 제일화재\n",
            "45 000640 동아제약\n",
            "46 000650 천일고속\n",
            "47 000660 하이닉스\n",
            "48 000670 영풍\n",
            "49 000680 LS네트웍스\n",
            "50 000681 LS네트웍스우\n",
            "51 000700 한진해운\n",
            "52 000720 현대건설\n",
            "53 000721 현대건설우\n",
            "54 000760 이화산업\n",
            "55 000790 C&상선\n",
            "56 000800 경남기업\n",
            "57 000810 삼성화재\n",
            "58 000811 삼성화재우\n",
            "59 000830 삼성물산\n",
            "60 000831 삼성물산우\n",
            "61 000850 화천기공\n",
            "62 000860 건설화학\n",
            "63 000880 한화\n",
            "64 000881 한화우\n",
            "65 000890 보해양조\n",
            "66 000891 보해양조우\n",
            "67 000910 유니온\n",
            "68 000950 전방\n",
            "69 000970 한국주철관\n",
            "70 000990 동부하이텍\n",
            "71 000991 동부하이텍1우\n",
            "72 000992 동부하이텍2우B\n",
            "73 001020 페이퍼코리아\n",
            "74 001040 CJ\n",
            "75 001041 CJ우\n",
            "76 001042 CJ2우B\n",
            "77 001043 CJ3우B\n",
            "78 001060 중외제약\n",
            "79 001061 중외제약우\n",
            "80 001062 중외제약2우B\n",
            "81 001070 대한방직\n",
            "82 001080 만호제강\n",
            "83 001120 LG상사\n",
            "84 001130 대한제분\n",
            "85 001140 국보\n",
            "86 001190 마이크로닉스\n",
            "87 001200 유진투자증권\n",
            "88 001210 금호전기\n",
            "89 001230 동국제강\n",
            "90 001250 쌍용\n",
            "91 001260 남광토건\n",
            "92 001270 부국증권\n",
            "93 001271 부국증권우\n",
            "94 001290 골든브릿지증권\n",
            "95 001300 제일모직\n",
            "96 001310 풍림산업\n",
            "97 001340 백광산업\n",
            "98 001360 삼성제약\n",
            "99 001370 FnC코오롱\n",
            "100 001371 FnC코오롱우\n",
            "101 001380 SG글로벌\n",
            "102 001381 SG글로벌우\n",
            "103 001390 KG케미칼\n",
            "104 001420 태원물산\n",
            "105 001430 세아베스틸\n",
            "106 001440 대한전선\n",
            "107 001450 현대해상\n",
            "108 001460 BYC\n",
            "109 001461 BYC우\n",
            "110 001470 삼부토건\n",
            "111 001500 HMC투자증권\n",
            "112 001510 SK증권\n",
            "113 001511 SK증권우\n",
            "114 001520 동양메이저\n",
            "115 001521 동양메이저우\n",
            "116 001522 동양메이저2우B\n",
            "117 001523 동양메이저3우B\n",
            "118 001530 동일방직\n",
            "119 001550 조비\n",
            "120 001560 제일연마\n",
            "121 001570 금양\n",
            "122 001600 서광건설\n",
            "123 001620 동국실업\n",
            "124 001630 종근당\n",
            "125 001680 대상\n",
            "126 001681 대상우\n",
            "127 001682 대상2우B\n",
            "128 001683 대상3우B\n",
            "129 001720 신영증권\n",
            "130 001721 신영증권우\n",
            "131 001740 SK네트웍스\n",
            "132 001741 SK네트웍스우\n",
            "133 001750 한양증권\n",
            "134 001751 한양증권우\n",
            "135 001770 신화실업\n",
            "136 001780 동양강철\n",
            "137 001790 대한제당\n",
            "138 001791 대한제당우\n",
            "139 001800 오리온\n",
            "140 001820 삼화콘덴서\n",
            "141 001880 삼호\n",
            "142 001940 KISCO홀딩스\n",
            "143 001950 남한제지\n",
            "144 001951 남한제지우\n",
            "145 001970 신성건설\n",
            "146 001971 신성건설우\n",
            "147 002000 한국유리\n",
            "148 002001 한국유리우\n",
            "149 002020 코오롱\n",
            "150 002021 코오롱우\n",
            "151 002022 코오롱2우B\n",
            "152 002030 아세아시멘트\n",
            "153 002070 남영L&F\n",
            "154 002100 경농\n",
            "155 002140 고려산업\n",
            "156 002170 삼양통상\n",
            "157 002200 수출포장\n",
            "158 002210 동성제약\n",
            "159 002220 한일철강\n",
            "160 002240 고려제강\n",
            "161 002250 근화제약\n",
            "162 002270 롯데삼강\n",
            "163 002300 한국제지\n",
            "164 002310 아세아제지\n",
            "165 002320 한진\n",
            "166 002350 넥센타이어\n",
            "167 002351 넥센타이어1우B\n",
            "168 002360 SH에너지화학\n",
            "169 002361 SH에너지화학우\n",
            "170 002380 KCC\n",
            "171 002390 한독약품\n",
            "172 002410 범양건영\n",
            "173 002420 세기상사\n",
            "174 002450 삼익악기\n",
            "175 002460 화성산업\n",
            "176 002530 벽산건설\n",
            "177 002531 벽산건설우\n",
            "178 002540 고제\n",
            "179 002550 LIG손해보험\n",
            "180 002600 조흥\n",
            "181 002620 제일약품\n",
            "182 002630 오리엔트바이오\n",
            "183 002700 신일산업\n",
            "184 002710 동양석판\n",
            "185 002720 국제약품\n",
            "186 002760 보락\n",
            "187 002780 진흥기업\n",
            "188 002781 진흥기업우B\n",
            "189 002782 진흥기업2우B\n",
            "190 002790 태평양\n",
            "191 002791 태평양우\n",
            "192 002792 태평양2우B\n",
            "193 002810 삼영무역\n",
            "194 002820 선창산업\n",
            "195 002840 미원상사\n",
            "196 002870 신풍제지\n",
            "197 002880 대유디엠씨\n",
            "198 002900 동양물산\n",
            "199 002920 유성기업\n",
            "200 002960 한국쉘석유\n",
            "201 002990 금호산업\n",
            "202 002991 금호산업우\n",
            "203 003000 부광약품\n",
            "204 003010 혜인\n",
            "205 003030 세아제강\n",
            "206 003060 한국슈넬제약\n",
            "207 003070 코오롱건설\n",
            "208 003071 코오롱건우\n",
            "209 003080 성보화학\n",
            "210 003090 대웅\n",
            "211 003120 일성신약\n",
            "212 003160 디아이\n",
            "213 003190 알앤엘바이오\n",
            "214 003200 일신방직\n",
            "215 003220 대원제약\n",
            "216 003230 삼양식품\n",
            "217 003240 태광산업\n",
            "218 003280 흥아해운\n",
            "219 003300 한일시멘트\n",
            "220 003350 한국화장품\n",
            "221 003410 쌍용양회\n",
            "222 003411 쌍용양회우\n",
            "223 003412 쌍용양회2우B\n",
            "224 003413 쌍용양회3우B\n",
            "225 003414 쌍용양회4우B\n",
            "226 003415 쌍용양회5우B\n",
            "227 003450 현대증권\n",
            "228 003460 유화증권\n",
            "229 003461 유화증권우\n",
            "230 003470 동양종금증권\n",
            "231 003471 동양종금증권1우\n",
            "232 003480 한진중공업홀딩스\n",
            "233 003490 대한항공\n",
            "234 003491 대한항공우\n",
            "235 003520 영진약품\n",
            "236 003530 한화증권\n",
            "237 003531 한화증권우\n",
            "238 003540 대신증권\n",
            "239 003541 대신증권우\n",
            "240 003542 대신증권2우B\n",
            "241 003550 LG\n",
            "242 003551 LG우\n",
            "243 003560 IHQ\n",
            "244 003570 S&T중공업\n",
            "245 003580 동원\n",
            "246 003600 SK\n",
            "247 003601 SK우\n",
            "248 003610 방림\n",
            "249 003620 쌍용차\n",
            "250 003640 유니온스틸\n",
            "251 003650 미창석유\n",
            "252 003680 한성기업\n",
            "253 003690 코리안리\n",
            "254 003720 삼영화학\n",
            "255 003780 진양산업\n",
            "256 003830 대한화섬\n",
            "257 003850 보령제약\n",
            "258 003920 남양유업\n",
            "259 003921 남양유업우\n",
            "260 003940 삼양제넥스\n",
            "261 003941 삼양제넥우\n",
            "262 003960 사조대림\n",
            "263 003961 사조대림우\n",
            "264 003990 BHK\n",
            "265 004000 삼성정밀화학\n",
            "266 004010 롯데미도파\n",
            "267 004020 현대제철\n",
            "268 004021 현대제철\n",
            "269 004060 에스지위카스\n",
            "270 004080 신흥\n",
            "271 004090 한국석유\n",
            "272 004100 태양금속\n",
            "273 004101 태양금속우\n",
            "274 004130 대덕GDS\n",
            "275 004131 대덕GDS우\n",
            "276 004132 대덕GDS2우B\n",
            "277 004140 동방\n",
            "278 004142 동방전환상환2우B\n",
            "279 004143 동방전환상환3우B\n",
            "280 004150 한솔제지\n",
            "281 004170 신세계\n",
            "282 004200 고려개발\n",
            "283 004230 세신\n",
            "284 004250 내쇼날푸라스\n",
            "285 004251 내쇼날푸우\n",
            "286 004270 남성\n",
            "287 004310 현대약품\n",
            "288 004360 세방\n",
            "289 004361 세방우\n",
            "290 004362 세방2우B\n",
            "291 004370 농심\n",
            "292 004380 삼익THK\n",
            "293 004410 서울식품\n",
            "294 004411 서울식품우\n",
            "295 004430 송원산업\n",
            "296 004450 삼화왕관\n",
            "297 004490 세방전지\n",
            "298 004540 대한펄프\n",
            "299 004541 대한펄프우\n",
            "300 004550 대우차판매\n",
            "301 004551 대우차판매1우\n",
            "302 004560 BNG스틸\n",
            "303 004561 BNG스틸우\n",
            "304 004620 캠브리지\n",
            "305 004690 삼천리\n",
            "306 004700 조광피혁\n",
            "307 004710 한솔LCD\n",
            "308 004720 우리들생명과학\n",
            "309 004740 보루네오\n",
            "310 004770 써니전자\n",
            "311 004800 효성\n",
            "312 004820 조인에너지\n",
            "313 004830 덕성\n",
            "314 004831 덕성우\n",
            "315 004840 동일벨트\n",
            "316 004870 아인스\n",
            "317 004890 동일산업\n",
            "318 004910 조광페인트\n",
            "319 004920 삼영홀딩스\n",
            "320 004940 외환은행\n",
            "321 004960 한신공영\n",
            "322 004961 한신공영우\n",
            "323 004970 신라교역\n",
            "324 004980 성신양회\n",
            "325 004981 성신양회우\n",
            "326 004982 성신양회2우B\n",
            "327 004983 성신양회3우B\n",
            "328 004990 롯데제과\n",
            "329 005010 휴스틸\n",
            "330 005030 부산주공\n",
            "331 005070 새한미디어\n",
            "332 005090 삼광유리\n",
            "333 005110 한창\n",
            "334 005180 빙그레\n",
            "335 005190 동성화학\n",
            "336 005250 녹십자홀딩스\n",
            "337 005251 녹십자홀딩스1우\n",
            "338 005252 녹십자홀딩스2우\n",
            "339 005270 대구은행\n",
            "340 005280 부산은행\n",
            "341 005300 롯데칠성\n",
            "342 005301 롯데칠성우\n",
            "343 005320 국동\n",
            "344 005350 선우ST\n",
            "345 005360 모나미\n",
            "346 005380 현대차\n",
            "347 005381 현대차우\n",
            "348 005382 현대차2우B\n",
            "349 005383 현대차3우B\n",
            "350 005390 신성통상\n",
            "351 005420 코스모화학\n",
            "352 005430 한국공항\n",
            "353 005440 현대H&S\n",
            "354 005450 신한\n",
            "355 005490 POSCO\n",
            "356 005500 삼진제약\n",
            "357 005560 JS전선\n",
            "358 005610 삼립식품\n",
            "359 005620 대성산업\n",
            "360 005680 삼영전자\n",
            "361 005690 로이\n",
            "362 005720 넥센\n",
            "363 005721 넥센우\n",
            "364 005740 크라운제과\n",
            "365 005741 크라운제우\n",
            "366 005750 대림B&Co\n",
            "367 005800 신영와코루\n",
            "368 005810 풍산홀딩스\n",
            "369 005820 원림\n",
            "370 005830 동부화재\n",
            "371 005850 에스엘\n",
            "372 005870 휴니드\n",
            "373 005880 대한해운\n",
            "374 005900 동양건설\n",
            "375 005930 삼성전자\n",
            "376 005931 삼성전자우\n",
            "377 005940 우리투자증권\n",
            "378 005941 우리투자증권우\n",
            "379 005950 이수화학\n",
            "380 005960 동부건설\n",
            "381 005961 동부건설우\n",
            "382 005980 성지건설\n",
            "383 006040 동원산업\n",
            "384 006060 화승인더\n",
            "385 006070 기린\n",
            "386 006090 오양수산\n",
            "387 006110 삼아알미늄\n",
            "388 006120 SK케미칼\n",
            "389 006121 SK케미칼우\n",
            "390 006200 KEC홀딩스\n",
            "391 006210 휴리프\n",
            "392 006220 제주은행\n",
            "393 006260 LS\n",
            "394 006280 녹십자\n",
            "395 006340 대원전선\n",
            "396 006341 대원전선우\n",
            "397 006350 전북은행\n",
            "398 006360 GS건설\n",
            "399 006370 대구백화점\n",
            "400 006371 대구백화우\n",
            "401 006380 카프로\n",
            "402 006390 현대시멘트\n",
            "403 006400 삼성SDI\n",
            "404 006401 삼성SDI우\n",
            "405 006440 한일건설\n",
            "406 006490 로엔케이\n",
            "407 006570 대림통상\n",
            "408 006650 대한유화\n",
            "409 006660 삼성공조\n",
            "410 006740 영풍제지\n",
            "411 006800 대우증권\n",
            "412 006801 대우증권우\n",
            "413 006840 애경유화\n",
            "414 006890 태경화학\n",
            "415 006980 우성사료\n",
            "416 007050 유리이에스\n",
            "417 007110 일신석재\n",
            "418 007120 유니모테크\n",
            "419 007160 사조산업\n",
            "420 007190 이엔페이퍼\n",
            "421 007191 이엔페이퍼우\n",
            "422 007200 진흥저축은행\n",
            "423 007210 벽산\n",
            "424 007280 한국특수형강\n",
            "425 007310 오뚜기\n",
            "426 007340 동아타이어\n",
            "427 007460 케이아이씨\n",
            "428 007480 대한은박지\n",
            "429 007490 태창기업\n",
            "430 007540 샘표식품\n",
            "431 007570 일양약품\n",
            "432 007571 일양약품우\n",
            "433 007590 동방아그로\n",
            "434 007591 동방아그우\n",
            "435 007610 선도전기\n",
            "436 007630 지에스인스트루\n",
            "437 007660 이수페타시스\n",
            "438 007690 국도화학\n",
            "439 007700 F&F\n",
            "440 007800 솔로몬저축은행\n",
            "441 007810 코리아써키트\n",
            "442 007811 코리아써우\n",
            "443 007860 한일이화\n",
            "444 007980 태평양물산\n",
            "445 008000 웅진케미칼\n",
            "446 008020 경남에너지\n",
            "447 008040 동아에스에프\n",
            "448 008060 대덕전자\n",
            "449 008080 삼양옵틱스\n",
            "450 008110 대동전자\n",
            "451 008250 이건산업\n",
            "452 008260 NI스틸\n",
            "453 008320 한국기술산업\n",
            "454 008350 남선알미늄\n",
            "455 008351 남선알미우\n",
            "456 008400 C&중공업\n",
            "457 008401 C&중공업우\n",
            "458 008420 문배철강\n",
            "459 008490 서흥캅셀\n",
            "460 008500 일정실업\n",
            "461 008540 일경\n",
            "462 008560 메리츠증권\n",
            "463 008600 미래와사람\n",
            "464 008700 아남전자\n",
            "465 008701 아남전자우\n",
            "466 008720 삼양중기\n",
            "467 008730 율촌화학\n",
            "468 008770 호텔신라\n",
            "469 008771 호텔신라우\n",
            "470 008870 금비\n",
            "471 008900 티이씨앤코\n",
            "472 008930 한미약품\n",
            "473 008970 동양철관\n",
            "474 008971 동양철관우\n",
            "475 009070 KCTC\n",
            "476 009140 경인전자\n",
            "477 009150 삼성전기\n",
            "478 009151 삼성전기우\n",
            "479 009160 SIMPAC\n",
            "480 009180 한솔CSN\n",
            "481 009190 대양금속\n",
            "482 009200 무림페이퍼\n",
            "483 009240 한샘\n",
            "484 009270 신원\n",
            "485 009271 신원우\n",
            "486 009280 다함이텍\n",
            "487 009290 광동제약\n",
            "488 009310 참앤씨\n",
            "489 009320 대우부품\n",
            "490 009380 아세아페이퍼텍\n",
            "491 009381 아세아페우B\n",
            "492 009410 태영건설\n",
            "493 009411 태영건설우\n",
            "494 009420 한올제약\n",
            "495 009440 KC코트렐\n",
            "496 009450 경동나비엔\n",
            "497 009460 한창제지\n",
            "498 009470 삼화전기\n",
            "499 009540 현대중공업\n",
            "500 009580 동해펄프\n",
            "501 009680 모토닉\n",
            "502 009690 케이엠에이치\n",
            "503 009720 전기초자\n",
            "504 009770 삼정펄프\n",
            "505 009810 고려포리머\n",
            "506 009811 고려포리머우\n",
            "507 009830 한화석화\n",
            "508 009831 한화석화1우\n",
            "509 009970 영원무역\n",
            "510 010040 한국내화\n",
            "511 010050 금호종금\n",
            "512 010060 동양제철화학\n",
            "513 010100 한국프랜지\n",
            "514 010120 LS산전\n",
            "515 010130 고려아연\n",
            "516 010140 삼성중공업\n",
            "517 010141 삼성중공우\n",
            "518 010420 한솔PNS\n",
            "519 010460 한국개발금융\n",
            "520 010520 현대하이스코\n",
            "521 010580 지코\n",
            "522 010600 영창실업\n",
            "523 010620 현대미포조선\n",
            "524 010640 진양폴리\n",
            "525 010660 화천기계\n",
            "526 010690 화신\n",
            "527 010770 평화홀딩스\n",
            "528 010780 아이에스동서\n",
            "529 010820 퍼스텍\n",
            "530 010950 S-Oil\n",
            "531 010951 S-Oil우\n",
            "532 010960 삼호개발\n",
            "533 011000 VGX인터\n",
            "534 011050 케드콤\n",
            "535 011070 LG이노텍\n",
            "536 011090 에넥스\n",
            "537 011150 삼호F&G\n",
            "538 011151 삼호F&G1우\n",
            "539 011160 두산건설\n",
            "540 011170 호남석유\n",
            "541 011200 현대상선\n",
            "542 011230 삼화전자\n",
            "543 011280 태림포장\n",
            "544 011300 성안\n",
            "545 011330 유니켐\n",
            "546 011390 부산산업\n",
            "547 011400 케이씨오에너지\n",
            "548 011420 IB스포츠\n",
            "549 011500 한농화성\n",
            "550 011690 유양디앤유\n",
            "551 011700 한신기계\n",
            "552 011720 현대피앤씨\n",
            "553 011760 현대상사\n",
            "554 011780 금호석유\n",
            "555 011781 금호석유우\n",
            "556 011790 SKC\n",
            "557 011800 배명금속\n",
            "558 011810 STX\n",
            "559 011930 신성홀딩스\n",
            "560 012030 동부정밀\n",
            "561 012090 성원건설\n",
            "562 012091 성원건설우\n",
            "563 012170 한신DNP\n",
            "564 012200 계양전기\n",
            "565 012201 계양전기우\n",
            "566 012280 영화금속\n",
            "567 012320 경동가스\n",
            "568 012330 현대모비스\n",
            "569 012331 현대모비스우\n",
            "570 012400 옵티머스\n",
            "571 012401 옵티머스우\n",
            "572 012410 청호전자통신\n",
            "573 012420 메리츠종금\n",
            "574 012450 삼성테크윈\n",
            "575 012510 더존비즈온\n",
            "576 012580 톰보이\n",
            "577 012600 청호컴넷\n",
            "578 012610 경인양행\n",
            "579 012630 현대산업\n",
            "580 012690 모나리자\n",
            "581 012750 에스원\n",
            "582 012800 대창공업\n",
            "583 012801 대창공업우\n",
            "584 013000 세우글로벌\n",
            "585 013001 세우글로벌우\n",
            "586 013200 C&우방\n",
            "587 013240 셀런\n",
            "588 013360 일성건설\n",
            "589 013361 일성건설우B\n",
            "590 013362 일성건설2우B\n",
            "591 013520 화승알앤에이\n",
            "592 013570 동양기전\n",
            "593 013580 계룡건설\n",
            "594 013700 삼환까뮤\n",
            "595 014130 한익스프레스\n",
            "596 014160 대영포장\n",
            "597 014280 금강공업\n",
            "598 014281 금강공업우\n",
            "599 014300 선진\n",
            "600 014350 신일건업\n",
            "601 014440 영보화학\n",
            "602 014530 극동유화\n",
            "603 014580 백광소재\n",
            "604 014590 티엘씨레저\n",
            "605 014680 한솔케미칼\n",
            "606 014790 한라건설\n",
            "607 014820 동원시스템즈\n",
            "608 014821 동원시스템즈우\n",
            "609 014830 유니드\n",
            "610 014910 성문전자\n",
            "611 014911 성문전자우\n",
            "612 014990 인디에프\n",
            "613 015020 이스타코\n",
            "614 015110 중앙건설\n",
            "615 015230 대창단조\n",
            "616 015260 에이엔피\n",
            "617 015350 부산가스\n",
            "618 015360 예스코\n",
            "619 015540 웰스브릿지\n",
            "620 015541 웰스브릿지우\n",
            "621 015590 대경기계\n",
            "622 015760 한국전력\n",
            "623 015860 일진홀딩스\n",
            "624 015890 태경산업\n",
            "625 015940 LG데이콤\n",
            "626 016090 대현\n",
            "627 016160 오라에너지\n",
            "628 016162 오라에너지2우B\n",
            "629 016360 삼성증권\n",
            "630 016380 동부제철\n",
            "631 016381 동부제철우\n",
            "632 016420 NH투자증권\n",
            "633 016450 한세예스24홀딩스\n",
            "634 016510 현대DSF\n",
            "635 016560 서울저축은행\n",
            "636 016570 태평양제약\n",
            "637 016571 태평양제우\n",
            "638 016580 환인제약\n",
            "639 016590 신대양제지\n",
            "640 016610 동부증권\n",
            "641 016710 대구가스\n",
            "642 016800 퍼시스\n",
            "643 016880 웅진홀딩스\n",
            "644 017040 광명전기\n",
            "645 017170 프라임엔터\n",
            "646 017180 명문제약\n",
            "647 017300 KDS\n",
            "648 017370 우신시스템\n",
            "649 017390 서울가스\n",
            "650 017550 수산중공업\n",
            "651 017551 수산중공우\n",
            "652 017670 SK텔레콤\n",
            "653 017800 현대엘리베이\n",
            "654 017810 풀무원홀딩스\n",
            "655 017900 광전자\n",
            "656 017940 E1\n",
            "657 017960 한국카본\n",
            "658 018410 현대금속\n",
            "659 018411 현대금속우\n",
            "660 018412 현대금속2우B\n",
            "661 018470 조일알미늄\n",
            "662 018500 동원금속\n",
            "663 018670 SK가스\n",
            "664 018880 한라공조\n",
            "665 019170 신풍제약\n",
            "666 019171 신풍제약우\n",
            "667 019180 티에이치엔\n",
            "668 019300 동일제지\n",
            "669 019490 하이트론\n",
            "670 019680 대교\n",
            "671 019681 대교우B\n",
            "672 020000 한섬\n",
            "673 020120 인큐브테크\n",
            "674 020560 아시아나항공\n",
            "675 020760 일진디스플\n",
            "676 021050 서원\n",
            "677 021240 웅진코웨이\n",
            "678 021820 세원정공\n",
            "679 021960 우리파이낸셜\n",
            "680 023150 MH에탄올\n",
            "681 023450 동남합성\n",
            "682 023530 롯데쇼핑\n",
            "683 023590 다우기술\n",
            "684 023800 인지컨트롤스\n",
            "685 023810 인팩\n",
            "686 023960 에쓰씨엔지니어링\n",
            "687 024070 WISCOM\n",
            "688 024090 디씨엠\n",
            "689 024100 제일저축은행\n",
            "690 024110 기업은행\n",
            "691 024720 한국콜마\n",
            "692 024870 유성티에스아이\n",
            "693 024890 대원화성\n",
            "694 024900 덕양산업\n",
            "695 025000 KPX케미칼\n",
            "696 025530 SJM\n",
            "697 025540 한국단자\n",
            "698 025560 미래산업\n",
            "699 025610 한국저축은행\n",
            "700 025620 신우\n",
            "701 025750 한솔홈데코\n",
            "702 025820 이구산업\n",
            "703 025850 KPX화인케미칼\n",
            "704 025860 남해화학\n",
            "705 025890 한국주강\n",
            "706 026870 대한가스\n",
            "707 026890 디피씨\n",
            "708 026940 부국철강\n",
            "709 027390 한화타임월드\n",
            "710 027740 마니커\n",
            "711 027840 고덴시\n",
            "712 027970 세하\n",
            "713 028050 삼성엔지니어링\n",
            "714 028670 STX팬오션\n",
            "715 029460 케이씨텍\n",
            "716 029530 신도리코\n",
            "717 029780 삼성카드\n",
            "718 030000 제일기획\n",
            "719 030200 KT\n",
            "720 030210 KTB투자증권\n",
            "721 030610 교보증권\n",
            "722 030720 동원수산\n",
            "723 031820 콤텍시스템\n",
            "724 032350 롯데관광개발\n",
            "725 032390 KTF\n",
            "726 032640 LG텔레콤\n",
            "727 033180 필룩스\n",
            "728 033240 자화전자\n",
            "729 033250 체시스\n",
            "730 033270 유나이티드제약\n",
            "731 033530 세종공업\n",
            "732 033780 KT&G\n",
            "733 034020 두산중공업\n",
            "734 034120 SBS\n",
            "735 034220 LG디스플레이\n",
            "736 034300 신세계건설\n",
            "737 034310 한신정\n",
            "738 034590 인천도시가스\n",
            "739 035000 GⅡR\n",
            "740 035150 백산\n",
            "741 035250 강원랜드\n",
            "742 035420 NHN\n",
            "743 035510 신세계\n",
            "744 036460 한국가스공사\n",
            "745 036530 S&T홀딩스\n",
            "746 036570 엔씨소프트\n",
            "747 036580 대상팜스코\n",
            "748 036581 대상팜스코우B\n",
            "749 037270 휘닉스컴\n",
            "750 037620 미래에셋증권\n",
            "751 037710 광주신세계\n",
            "752 041650 상신브레이크\n",
            "753 042100 현대오토넷\n",
            "754 042660 대우조선해양\n",
            "755 042670 두산인프라코어\n",
            "756 042700 한미반도체\n",
            "757 044380 주연테크\n",
            "758 044450 KSS해운\n",
            "759 044820 코스맥스\n",
            "760 045710 온미디어\n",
            "761 045820 LG파워콤\n",
            "762 047040 대우건설\n",
            "763 047050 대우인터내셔널\n",
            "764 049770 동원F&B\n",
            "765 049800 우진세렉스\n",
            "766 051310 성진지오텍\n",
            "767 051600 한전KPS\n",
            "768 051630 진양화학\n",
            "769 051900 LG생활건강\n",
            "770 051901 LG생활건강우\n",
            "771 051910 LG화학\n",
            "772 051911 LG화학우\n",
            "773 053000 우리금융\n",
            "774 055550 신한지주\n",
            "775 058430 포스코강판\n",
            "776 058650 세아홀딩스\n",
            "777 058730 동아에스텍\n",
            "778 063160 종근당바이오\n",
            "779 064420 케이피케미칼\n",
            "780 064960 S&T대우\n",
            "781 066570 LG전자\n",
            "782 066571 LG전자우\n",
            "783 067250 STX조선\n",
            "784 067830 세이브존I&C\n",
            "785 068290 삼성출판사\n",
            "786 068870 LG생명과학\n",
            "787 068871 LG생명과학우\n",
            "788 069260 휴켐스\n",
            "789 069460 대호에이엘\n",
            "790 069470 제로원인터랙티브\n",
            "791 069620 대웅제약\n",
            "792 069730 DSR제강\n",
            "793 069960 현대백화점\n",
            "794 071050 한국금융지주\n",
            "795 071051 한국금융지주우\n",
            "796 071052 한국금융지주2우B\n",
            "797 071090 하이스틸\n",
            "798 071950 코아스웰\n",
            "799 071951 코아스웰1우B\n",
            "800 072130 유엔젤\n",
            "801 072710 농심홀딩스\n",
            "802 073240 금호타이어\n",
            "803 074610 이엔쓰리\n",
            "804 075180 새론오토모티브\n",
            "805 076170 GBS\n",
            "806 076850 맥쿼리센트럴\n",
            "807 077500 유니퀘스트\n",
            "808 077970 STX엔진\n",
            "809 078000 텔코웨어\n",
            "810 078420 동북아1호\n",
            "811 078930 GS\n",
            "812 078931 GS우\n",
            "813 079160 CJ\n",
            "814 079430 리바트\n",
            "815 079660 사조해표\n",
            "816 080030 동북아2호\n",
            "817 080180 아시아1호\n",
            "818 080410 동북아6호\n",
            "819 080960 동북아3호\n",
            "820 080970 동북아4호\n",
            "821 080980 동북아5호\n",
            "822 081000 일진다이아\n",
            "823 081190 아시아2호\n",
            "824 081200 아시아3호\n",
            "825 081210 아시아4호\n",
            "826 081930 아시아8호\n",
            "827 081940 아시아9호\n",
            "828 082110 동북아8호\n",
            "829 082240 아시아5호\n",
            "830 082250 아시아6호\n",
            "831 082260 아시아7호\n",
            "832 083120 동북아9호\n",
            "833 083350 동북아10호\n",
            "834 083360 동북아11호\n",
            "835 083370 동북아12호\n",
            "836 083380 동북아13호\n",
            "837 083390 동북아14호\n",
            "838 083420 KPX그린케미칼\n",
            "839 083570 아시아10호\n",
            "840 083580 아시아11호\n",
            "841 083590 아시아12호\n",
            "842 083600 아시아13호\n",
            "843 083610 아시아14호\n",
            "844 083620 아시아15호\n",
            "845 084010 대한제강\n",
            "846 084160 골든경매일호\n",
            "847 084240 동북아15호\n",
            "848 084670 동양고속\n",
            "849 084680 C&우방랜드\n",
            "850 084690 대상홀딩스\n",
            "851 084691 대상홀딩스우\n",
            "852 084692 대상홀딩스2우B\n",
            "853 084870 베이직하우스\n",
            "854 085310 엔케이\n",
            "855 086280 글로비스\n",
            "856 086720 코크렙7호\n",
            "857 086790 하나금융지주\n",
            "858 088010 동북아21호\n",
            "859 088790 진도에프앤\n",
            "860 088980 맥쿼리인프라\n",
            "861 089470 현대EP\n",
            "862 090080 평화산업\n",
            "863 090350 노루페인트\n",
            "864 090351 노루페인트우\n",
            "865 090370 아비스타\n",
            "866 090430 아모레퍼시픽\n",
            "867 090431 아모레퍼시픽우\n",
            "868 090540 코크렙8호\n",
            "869 090970 코리아01호\n",
            "870 090980 코리아02호\n",
            "871 090990 코리아03호\n",
            "872 091000 코리아04호\n",
            "873 091090 세원셀론텍\n",
            "874 092200 디아이씨\n",
            "875 092220 KEC\n",
            "876 092230 KPX홀딩스\n",
            "877 092440 기신정기\n",
            "878 092630 바다로3호\n",
            "879 092970 거북선1호\n",
            "880 093050 LG패션\n",
            "881 093230 쉘라인\n",
            "882 093370 후성\n",
            "883 093400 코리아05호\n",
            "884 093410 코리아06호\n",
            "885 093730 동북아31호\n",
            "886 093820 한국유전15-1\n",
            "887 094280 효성ITX\n",
            "888 094520 맵스베트남1\n",
            "889 094800 맵스리얼티1\n",
            "890 094950 지비베트남1\n",
            "891 095720 웅진씽크빅\n",
            "892 096300 베트남개발1\n",
            "893 096760 중외홀딩스\n",
            "894 096770 SK에너지\n",
            "895 096771 SK에너지우\n",
            "896 097230 한진중공업\n",
            "897 097950 CJ제일제당\n",
            "898 097951 CJ제일제당\n",
            "899 097952 CJ제일제당\n",
            "900 097953 CJ제일제당\n",
            "901 098150 한국아태특별\n",
            "902 099210 코리아07호\n",
            "903 099340 하나니켈1호\n",
            "904 099350 하나니켈2호\n",
            "905 100220 비유와상징\n",
            "906 100250 진양홀딩스\n",
            "907 100840 S&TC\n",
            "908 101060 SBS홀딩스\n",
            "909 101140 아티스\n",
            "910 101380 거북선2호\n",
            "911 101790 케이알제2호\n",
            "912 101990 파브코\n",
            "913 102000 거북선3호\n",
            "914 102260 동성홀딩스\n",
            "915 102280 트라이\n",
            "916 103140 풍산\n",
            "917 103150 하이트맥주\n",
            "918 103151 하이트맥주우\n",
            "919 103160 풀무원\n",
            "920 103590 일진전기\n",
            "921 104110 신성ENG\n",
            "922 104120 신성FA\n",
            "923 104700 한국철강\n",
            "924 105560 KB금융\n",
            "925 107590 미원에스씨"
          ],
          "name": "stdout"
        }
      ]
    },
    {
      "cell_type": "code",
      "metadata": {
        "id": "tLeNGTTEvGl5",
        "colab": {
          "base_uri": "https://localhost:8080/"
        },
        "outputId": "1be93443-628c-4855-e98d-510fa2d6d2c9"
      },
      "source": [
        "# 139. 텍스트 파일을 한줄씩 읽고 출력하기 2 (readlines)\n",
        "\n",
        "f = open('stockcode.txt', 'r', encoding = 'euc-kr')\n",
        "lines = f.readlines()\n",
        "for line_num, line in enumerate(lines):\n",
        "  print('%d %s' %(line_num+1, line), end = '')\n",
        "  f.close()"
      ],
      "execution_count": null,
      "outputs": [
        {
          "output_type": "stream",
          "text": [
            "1 000020 동화약품\n",
            "2 000040 S&T모터스\n",
            "3 000050 경방\n",
            "4 000060 메리츠화재\n",
            "5 000070 삼양사\n",
            "6 000071 삼양사우\n",
            "7 000100 유한양행\n",
            "8 000101 유한양행우\n",
            "9 000120 대한통운\n",
            "10 000140 하이트홀딩스\n",
            "11 000141 하이트홀딩스우\n",
            "12 000150 두산\n",
            "13 000151 두산우\n",
            "14 000152 두산2우B\n",
            "15 000180 성창기업지주\n",
            "16 000210 대림산업\n",
            "17 000211 대림산업우\n",
            "18 000220 유유제약\n",
            "19 000221 유유제약1우\n",
            "20 000222 유유제약2우B\n",
            "21 000230 일동제약\n",
            "22 000240 한국타이어\n",
            "23 000270 기아차\n",
            "24 000300 대유신소재\n",
            "25 000320 디피아이홀딩스\n",
            "26 000321 디피아이홀딩스우\n",
            "27 000322 디피아이홀딩스2B\n",
            "28 000360 삼환기업\n",
            "29 000361 삼환기업우\n",
            "30 000370 한화손해보험\n",
            "31 000390 삼화페인트\n",
            "32 000400 롯데손해보험\n",
            "33 000420 로케트전기\n",
            "34 000421 로케트전우\n",
            "35 000430 대원강업\n",
            "36 000470 그린손해보험\n",
            "37 000480 조선내화\n",
            "38 000490 대동공업\n",
            "39 000500 가온전선\n",
            "40 000520 삼일제약\n",
            "41 000540 흥국쌍용화재\n",
            "42 000541 흥국쌍용화재우\n",
            "43 000542 흥국쌍용화재2우B\n",
            "44 000590 조선선재\n",
            "45 000610 제일화재\n",
            "46 000640 동아제약\n",
            "47 000650 천일고속\n",
            "48 000660 하이닉스\n",
            "49 000670 영풍\n",
            "50 000680 LS네트웍스\n",
            "51 000681 LS네트웍스우\n",
            "52 000700 한진해운\n",
            "53 000720 현대건설\n",
            "54 000721 현대건설우\n",
            "55 000760 이화산업\n",
            "56 000790 C&상선\n",
            "57 000800 경남기업\n",
            "58 000810 삼성화재\n",
            "59 000811 삼성화재우\n",
            "60 000830 삼성물산\n",
            "61 000831 삼성물산우\n",
            "62 000850 화천기공\n",
            "63 000860 건설화학\n",
            "64 000880 한화\n",
            "65 000881 한화우\n",
            "66 000890 보해양조\n",
            "67 000891 보해양조우\n",
            "68 000910 유니온\n",
            "69 000950 전방\n",
            "70 000970 한국주철관\n",
            "71 000990 동부하이텍\n",
            "72 000991 동부하이텍1우\n",
            "73 000992 동부하이텍2우B\n",
            "74 001020 페이퍼코리아\n",
            "75 001040 CJ\n",
            "76 001041 CJ우\n",
            "77 001042 CJ2우B\n",
            "78 001043 CJ3우B\n",
            "79 001060 중외제약\n",
            "80 001061 중외제약우\n",
            "81 001062 중외제약2우B\n",
            "82 001070 대한방직\n",
            "83 001080 만호제강\n",
            "84 001120 LG상사\n",
            "85 001130 대한제분\n",
            "86 001140 국보\n",
            "87 001190 마이크로닉스\n",
            "88 001200 유진투자증권\n",
            "89 001210 금호전기\n",
            "90 001230 동국제강\n",
            "91 001250 쌍용\n",
            "92 001260 남광토건\n",
            "93 001270 부국증권\n",
            "94 001271 부국증권우\n",
            "95 001290 골든브릿지증권\n",
            "96 001300 제일모직\n",
            "97 001310 풍림산업\n",
            "98 001340 백광산업\n",
            "99 001360 삼성제약\n",
            "100 001370 FnC코오롱\n",
            "101 001371 FnC코오롱우\n",
            "102 001380 SG글로벌\n",
            "103 001381 SG글로벌우\n",
            "104 001390 KG케미칼\n",
            "105 001420 태원물산\n",
            "106 001430 세아베스틸\n",
            "107 001440 대한전선\n",
            "108 001450 현대해상\n",
            "109 001460 BYC\n",
            "110 001461 BYC우\n",
            "111 001470 삼부토건\n",
            "112 001500 HMC투자증권\n",
            "113 001510 SK증권\n",
            "114 001511 SK증권우\n",
            "115 001520 동양메이저\n",
            "116 001521 동양메이저우\n",
            "117 001522 동양메이저2우B\n",
            "118 001523 동양메이저3우B\n",
            "119 001530 동일방직\n",
            "120 001550 조비\n",
            "121 001560 제일연마\n",
            "122 001570 금양\n",
            "123 001600 서광건설\n",
            "124 001620 동국실업\n",
            "125 001630 종근당\n",
            "126 001680 대상\n",
            "127 001681 대상우\n",
            "128 001682 대상2우B\n",
            "129 001683 대상3우B\n",
            "130 001720 신영증권\n",
            "131 001721 신영증권우\n",
            "132 001740 SK네트웍스\n",
            "133 001741 SK네트웍스우\n",
            "134 001750 한양증권\n",
            "135 001751 한양증권우\n",
            "136 001770 신화실업\n",
            "137 001780 동양강철\n",
            "138 001790 대한제당\n",
            "139 001791 대한제당우\n",
            "140 001800 오리온\n",
            "141 001820 삼화콘덴서\n",
            "142 001880 삼호\n",
            "143 001940 KISCO홀딩스\n",
            "144 001950 남한제지\n",
            "145 001951 남한제지우\n",
            "146 001970 신성건설\n",
            "147 001971 신성건설우\n",
            "148 002000 한국유리\n",
            "149 002001 한국유리우\n",
            "150 002020 코오롱\n",
            "151 002021 코오롱우\n",
            "152 002022 코오롱2우B\n",
            "153 002030 아세아시멘트\n",
            "154 002070 남영L&F\n",
            "155 002100 경농\n",
            "156 002140 고려산업\n",
            "157 002170 삼양통상\n",
            "158 002200 수출포장\n",
            "159 002210 동성제약\n",
            "160 002220 한일철강\n",
            "161 002240 고려제강\n",
            "162 002250 근화제약\n",
            "163 002270 롯데삼강\n",
            "164 002300 한국제지\n",
            "165 002310 아세아제지\n",
            "166 002320 한진\n",
            "167 002350 넥센타이어\n",
            "168 002351 넥센타이어1우B\n",
            "169 002360 SH에너지화학\n",
            "170 002361 SH에너지화학우\n",
            "171 002380 KCC\n",
            "172 002390 한독약품\n",
            "173 002410 범양건영\n",
            "174 002420 세기상사\n",
            "175 002450 삼익악기\n",
            "176 002460 화성산업\n",
            "177 002530 벽산건설\n",
            "178 002531 벽산건설우\n",
            "179 002540 고제\n",
            "180 002550 LIG손해보험\n",
            "181 002600 조흥\n",
            "182 002620 제일약품\n",
            "183 002630 오리엔트바이오\n",
            "184 002700 신일산업\n",
            "185 002710 동양석판\n",
            "186 002720 국제약품\n",
            "187 002760 보락\n",
            "188 002780 진흥기업\n",
            "189 002781 진흥기업우B\n",
            "190 002782 진흥기업2우B\n",
            "191 002790 태평양\n",
            "192 002791 태평양우\n",
            "193 002792 태평양2우B\n",
            "194 002810 삼영무역\n",
            "195 002820 선창산업\n",
            "196 002840 미원상사\n",
            "197 002870 신풍제지\n",
            "198 002880 대유디엠씨\n",
            "199 002900 동양물산\n",
            "200 002920 유성기업\n",
            "201 002960 한국쉘석유\n",
            "202 002990 금호산업\n",
            "203 002991 금호산업우\n",
            "204 003000 부광약품\n",
            "205 003010 혜인\n",
            "206 003030 세아제강\n",
            "207 003060 한국슈넬제약\n",
            "208 003070 코오롱건설\n",
            "209 003071 코오롱건우\n",
            "210 003080 성보화학\n",
            "211 003090 대웅\n",
            "212 003120 일성신약\n",
            "213 003160 디아이\n",
            "214 003190 알앤엘바이오\n",
            "215 003200 일신방직\n",
            "216 003220 대원제약\n",
            "217 003230 삼양식품\n",
            "218 003240 태광산업\n",
            "219 003280 흥아해운\n",
            "220 003300 한일시멘트\n",
            "221 003350 한국화장품\n",
            "222 003410 쌍용양회\n",
            "223 003411 쌍용양회우\n",
            "224 003412 쌍용양회2우B\n",
            "225 003413 쌍용양회3우B\n",
            "226 003414 쌍용양회4우B\n",
            "227 003415 쌍용양회5우B\n",
            "228 003450 현대증권\n",
            "229 003460 유화증권\n",
            "230 003461 유화증권우\n",
            "231 003470 동양종금증권\n",
            "232 003471 동양종금증권1우\n",
            "233 003480 한진중공업홀딩스\n",
            "234 003490 대한항공\n",
            "235 003491 대한항공우\n",
            "236 003520 영진약품\n",
            "237 003530 한화증권\n",
            "238 003531 한화증권우\n",
            "239 003540 대신증권\n",
            "240 003541 대신증권우\n",
            "241 003542 대신증권2우B\n",
            "242 003550 LG\n",
            "243 003551 LG우\n",
            "244 003560 IHQ\n",
            "245 003570 S&T중공업\n",
            "246 003580 동원\n",
            "247 003600 SK\n",
            "248 003601 SK우\n",
            "249 003610 방림\n",
            "250 003620 쌍용차\n",
            "251 003640 유니온스틸\n",
            "252 003650 미창석유\n",
            "253 003680 한성기업\n",
            "254 003690 코리안리\n",
            "255 003720 삼영화학\n",
            "256 003780 진양산업\n",
            "257 003830 대한화섬\n",
            "258 003850 보령제약\n",
            "259 003920 남양유업\n",
            "260 003921 남양유업우\n",
            "261 003940 삼양제넥스\n",
            "262 003941 삼양제넥우\n",
            "263 003960 사조대림\n",
            "264 003961 사조대림우\n",
            "265 003990 BHK\n",
            "266 004000 삼성정밀화학\n",
            "267 004010 롯데미도파\n",
            "268 004020 현대제철\n",
            "269 004021 현대제철\n",
            "270 004060 에스지위카스\n",
            "271 004080 신흥\n",
            "272 004090 한국석유\n",
            "273 004100 태양금속\n",
            "274 004101 태양금속우\n",
            "275 004130 대덕GDS\n",
            "276 004131 대덕GDS우\n",
            "277 004132 대덕GDS2우B\n",
            "278 004140 동방\n",
            "279 004142 동방전환상환2우B\n",
            "280 004143 동방전환상환3우B\n",
            "281 004150 한솔제지\n",
            "282 004170 신세계\n",
            "283 004200 고려개발\n",
            "284 004230 세신\n",
            "285 004250 내쇼날푸라스\n",
            "286 004251 내쇼날푸우\n",
            "287 004270 남성\n",
            "288 004310 현대약품\n",
            "289 004360 세방\n",
            "290 004361 세방우\n",
            "291 004362 세방2우B\n",
            "292 004370 농심\n",
            "293 004380 삼익THK\n",
            "294 004410 서울식품\n",
            "295 004411 서울식품우\n",
            "296 004430 송원산업\n",
            "297 004450 삼화왕관\n",
            "298 004490 세방전지\n",
            "299 004540 대한펄프\n",
            "300 004541 대한펄프우\n",
            "301 004550 대우차판매\n",
            "302 004551 대우차판매1우\n",
            "303 004560 BNG스틸\n",
            "304 004561 BNG스틸우\n",
            "305 004620 캠브리지\n",
            "306 004690 삼천리\n",
            "307 004700 조광피혁\n",
            "308 004710 한솔LCD\n",
            "309 004720 우리들생명과학\n",
            "310 004740 보루네오\n",
            "311 004770 써니전자\n",
            "312 004800 효성\n",
            "313 004820 조인에너지\n",
            "314 004830 덕성\n",
            "315 004831 덕성우\n",
            "316 004840 동일벨트\n",
            "317 004870 아인스\n",
            "318 004890 동일산업\n",
            "319 004910 조광페인트\n",
            "320 004920 삼영홀딩스\n",
            "321 004940 외환은행\n",
            "322 004960 한신공영\n",
            "323 004961 한신공영우\n",
            "324 004970 신라교역\n",
            "325 004980 성신양회\n",
            "326 004981 성신양회우\n",
            "327 004982 성신양회2우B\n",
            "328 004983 성신양회3우B\n",
            "329 004990 롯데제과\n",
            "330 005010 휴스틸\n",
            "331 005030 부산주공\n",
            "332 005070 새한미디어\n",
            "333 005090 삼광유리\n",
            "334 005110 한창\n",
            "335 005180 빙그레\n",
            "336 005190 동성화학\n",
            "337 005250 녹십자홀딩스\n",
            "338 005251 녹십자홀딩스1우\n",
            "339 005252 녹십자홀딩스2우\n",
            "340 005270 대구은행\n",
            "341 005280 부산은행\n",
            "342 005300 롯데칠성\n",
            "343 005301 롯데칠성우\n",
            "344 005320 국동\n",
            "345 005350 선우ST\n",
            "346 005360 모나미\n",
            "347 005380 현대차\n",
            "348 005381 현대차우\n",
            "349 005382 현대차2우B\n",
            "350 005383 현대차3우B\n",
            "351 005390 신성통상\n",
            "352 005420 코스모화학\n",
            "353 005430 한국공항\n",
            "354 005440 현대H&S\n",
            "355 005450 신한\n",
            "356 005490 POSCO\n",
            "357 005500 삼진제약\n",
            "358 005560 JS전선\n",
            "359 005610 삼립식품\n",
            "360 005620 대성산업\n",
            "361 005680 삼영전자\n",
            "362 005690 로이\n",
            "363 005720 넥센\n",
            "364 005721 넥센우\n",
            "365 005740 크라운제과\n",
            "366 005741 크라운제우\n",
            "367 005750 대림B&Co\n",
            "368 005800 신영와코루\n",
            "369 005810 풍산홀딩스\n",
            "370 005820 원림\n",
            "371 005830 동부화재\n",
            "372 005850 에스엘\n",
            "373 005870 휴니드\n",
            "374 005880 대한해운\n",
            "375 005900 동양건설\n",
            "376 005930 삼성전자\n",
            "377 005931 삼성전자우\n",
            "378 005940 우리투자증권\n",
            "379 005941 우리투자증권우\n",
            "380 005950 이수화학\n",
            "381 005960 동부건설\n",
            "382 005961 동부건설우\n",
            "383 005980 성지건설\n",
            "384 006040 동원산업\n",
            "385 006060 화승인더\n",
            "386 006070 기린\n",
            "387 006090 오양수산\n",
            "388 006110 삼아알미늄\n",
            "389 006120 SK케미칼\n",
            "390 006121 SK케미칼우\n",
            "391 006200 KEC홀딩스\n",
            "392 006210 휴리프\n",
            "393 006220 제주은행\n",
            "394 006260 LS\n",
            "395 006280 녹십자\n",
            "396 006340 대원전선\n",
            "397 006341 대원전선우\n",
            "398 006350 전북은행\n",
            "399 006360 GS건설\n",
            "400 006370 대구백화점\n",
            "401 006371 대구백화우\n",
            "402 006380 카프로\n",
            "403 006390 현대시멘트\n",
            "404 006400 삼성SDI\n",
            "405 006401 삼성SDI우\n",
            "406 006440 한일건설\n",
            "407 006490 로엔케이\n",
            "408 006570 대림통상\n",
            "409 006650 대한유화\n",
            "410 006660 삼성공조\n",
            "411 006740 영풍제지\n",
            "412 006800 대우증권\n",
            "413 006801 대우증권우\n",
            "414 006840 애경유화\n",
            "415 006890 태경화학\n",
            "416 006980 우성사료\n",
            "417 007050 유리이에스\n",
            "418 007110 일신석재\n",
            "419 007120 유니모테크\n",
            "420 007160 사조산업\n",
            "421 007190 이엔페이퍼\n",
            "422 007191 이엔페이퍼우\n",
            "423 007200 진흥저축은행\n",
            "424 007210 벽산\n",
            "425 007280 한국특수형강\n",
            "426 007310 오뚜기\n",
            "427 007340 동아타이어\n",
            "428 007460 케이아이씨\n",
            "429 007480 대한은박지\n",
            "430 007490 태창기업\n",
            "431 007540 샘표식품\n",
            "432 007570 일양약품\n",
            "433 007571 일양약품우\n",
            "434 007590 동방아그로\n",
            "435 007591 동방아그우\n",
            "436 007610 선도전기\n",
            "437 007630 지에스인스트루\n",
            "438 007660 이수페타시스\n",
            "439 007690 국도화학\n",
            "440 007700 F&F\n",
            "441 007800 솔로몬저축은행\n",
            "442 007810 코리아써키트\n",
            "443 007811 코리아써우\n",
            "444 007860 한일이화\n",
            "445 007980 태평양물산\n",
            "446 008000 웅진케미칼\n",
            "447 008020 경남에너지\n",
            "448 008040 동아에스에프\n",
            "449 008060 대덕전자\n",
            "450 008080 삼양옵틱스\n",
            "451 008110 대동전자\n",
            "452 008250 이건산업\n",
            "453 008260 NI스틸\n",
            "454 008320 한국기술산업\n",
            "455 008350 남선알미늄\n",
            "456 008351 남선알미우\n",
            "457 008400 C&중공업\n",
            "458 008401 C&중공업우\n",
            "459 008420 문배철강\n",
            "460 008490 서흥캅셀\n",
            "461 008500 일정실업\n",
            "462 008540 일경\n",
            "463 008560 메리츠증권\n",
            "464 008600 미래와사람\n",
            "465 008700 아남전자\n",
            "466 008701 아남전자우\n",
            "467 008720 삼양중기\n",
            "468 008730 율촌화학\n",
            "469 008770 호텔신라\n",
            "470 008771 호텔신라우\n",
            "471 008870 금비\n",
            "472 008900 티이씨앤코\n",
            "473 008930 한미약품\n",
            "474 008970 동양철관\n",
            "475 008971 동양철관우\n",
            "476 009070 KCTC\n",
            "477 009140 경인전자\n",
            "478 009150 삼성전기\n",
            "479 009151 삼성전기우\n",
            "480 009160 SIMPAC\n",
            "481 009180 한솔CSN\n",
            "482 009190 대양금속\n",
            "483 009200 무림페이퍼\n",
            "484 009240 한샘\n",
            "485 009270 신원\n",
            "486 009271 신원우\n",
            "487 009280 다함이텍\n",
            "488 009290 광동제약\n",
            "489 009310 참앤씨\n",
            "490 009320 대우부품\n",
            "491 009380 아세아페이퍼텍\n",
            "492 009381 아세아페우B\n",
            "493 009410 태영건설\n",
            "494 009411 태영건설우\n",
            "495 009420 한올제약\n",
            "496 009440 KC코트렐\n",
            "497 009450 경동나비엔\n",
            "498 009460 한창제지\n",
            "499 009470 삼화전기\n",
            "500 009540 현대중공업\n",
            "501 009580 동해펄프\n",
            "502 009680 모토닉\n",
            "503 009690 케이엠에이치\n",
            "504 009720 전기초자\n",
            "505 009770 삼정펄프\n",
            "506 009810 고려포리머\n",
            "507 009811 고려포리머우\n",
            "508 009830 한화석화\n",
            "509 009831 한화석화1우\n",
            "510 009970 영원무역\n",
            "511 010040 한국내화\n",
            "512 010050 금호종금\n",
            "513 010060 동양제철화학\n",
            "514 010100 한국프랜지\n",
            "515 010120 LS산전\n",
            "516 010130 고려아연\n",
            "517 010140 삼성중공업\n",
            "518 010141 삼성중공우\n",
            "519 010420 한솔PNS\n",
            "520 010460 한국개발금융\n",
            "521 010520 현대하이스코\n",
            "522 010580 지코\n",
            "523 010600 영창실업\n",
            "524 010620 현대미포조선\n",
            "525 010640 진양폴리\n",
            "526 010660 화천기계\n",
            "527 010690 화신\n",
            "528 010770 평화홀딩스\n",
            "529 010780 아이에스동서\n",
            "530 010820 퍼스텍\n",
            "531 010950 S-Oil\n",
            "532 010951 S-Oil우\n",
            "533 010960 삼호개발\n",
            "534 011000 VGX인터\n",
            "535 011050 케드콤\n",
            "536 011070 LG이노텍\n",
            "537 011090 에넥스\n",
            "538 011150 삼호F&G\n",
            "539 011151 삼호F&G1우\n",
            "540 011160 두산건설\n",
            "541 011170 호남석유\n",
            "542 011200 현대상선\n",
            "543 011230 삼화전자\n",
            "544 011280 태림포장\n",
            "545 011300 성안\n",
            "546 011330 유니켐\n",
            "547 011390 부산산업\n",
            "548 011400 케이씨오에너지\n",
            "549 011420 IB스포츠\n",
            "550 011500 한농화성\n",
            "551 011690 유양디앤유\n",
            "552 011700 한신기계\n",
            "553 011720 현대피앤씨\n",
            "554 011760 현대상사\n",
            "555 011780 금호석유\n",
            "556 011781 금호석유우\n",
            "557 011790 SKC\n",
            "558 011800 배명금속\n",
            "559 011810 STX\n",
            "560 011930 신성홀딩스\n",
            "561 012030 동부정밀\n",
            "562 012090 성원건설\n",
            "563 012091 성원건설우\n",
            "564 012170 한신DNP\n",
            "565 012200 계양전기\n",
            "566 012201 계양전기우\n",
            "567 012280 영화금속\n",
            "568 012320 경동가스\n",
            "569 012330 현대모비스\n",
            "570 012331 현대모비스우\n",
            "571 012400 옵티머스\n",
            "572 012401 옵티머스우\n",
            "573 012410 청호전자통신\n",
            "574 012420 메리츠종금\n",
            "575 012450 삼성테크윈\n",
            "576 012510 더존비즈온\n",
            "577 012580 톰보이\n",
            "578 012600 청호컴넷\n",
            "579 012610 경인양행\n",
            "580 012630 현대산업\n",
            "581 012690 모나리자\n",
            "582 012750 에스원\n",
            "583 012800 대창공업\n",
            "584 012801 대창공업우\n",
            "585 013000 세우글로벌\n",
            "586 013001 세우글로벌우\n",
            "587 013200 C&우방\n",
            "588 013240 셀런\n",
            "589 013360 일성건설\n",
            "590 013361 일성건설우B\n",
            "591 013362 일성건설2우B\n",
            "592 013520 화승알앤에이\n",
            "593 013570 동양기전\n",
            "594 013580 계룡건설\n",
            "595 013700 삼환까뮤\n",
            "596 014130 한익스프레스\n",
            "597 014160 대영포장\n",
            "598 014280 금강공업\n",
            "599 014281 금강공업우\n",
            "600 014300 선진\n",
            "601 014350 신일건업\n",
            "602 014440 영보화학\n",
            "603 014530 극동유화\n",
            "604 014580 백광소재\n",
            "605 014590 티엘씨레저\n",
            "606 014680 한솔케미칼\n",
            "607 014790 한라건설\n",
            "608 014820 동원시스템즈\n",
            "609 014821 동원시스템즈우\n",
            "610 014830 유니드\n",
            "611 014910 성문전자\n",
            "612 014911 성문전자우\n",
            "613 014990 인디에프\n",
            "614 015020 이스타코\n",
            "615 015110 중앙건설\n",
            "616 015230 대창단조\n",
            "617 015260 에이엔피\n",
            "618 015350 부산가스\n",
            "619 015360 예스코\n",
            "620 015540 웰스브릿지\n",
            "621 015541 웰스브릿지우\n",
            "622 015590 대경기계\n",
            "623 015760 한국전력\n",
            "624 015860 일진홀딩스\n",
            "625 015890 태경산업\n",
            "626 015940 LG데이콤\n",
            "627 016090 대현\n",
            "628 016160 오라에너지\n",
            "629 016162 오라에너지2우B\n",
            "630 016360 삼성증권\n",
            "631 016380 동부제철\n",
            "632 016381 동부제철우\n",
            "633 016420 NH투자증권\n",
            "634 016450 한세예스24홀딩스\n",
            "635 016510 현대DSF\n",
            "636 016560 서울저축은행\n",
            "637 016570 태평양제약\n",
            "638 016571 태평양제우\n",
            "639 016580 환인제약\n",
            "640 016590 신대양제지\n",
            "641 016610 동부증권\n",
            "642 016710 대구가스\n",
            "643 016800 퍼시스\n",
            "644 016880 웅진홀딩스\n",
            "645 017040 광명전기\n",
            "646 017170 프라임엔터\n",
            "647 017180 명문제약\n",
            "648 017300 KDS\n",
            "649 017370 우신시스템\n",
            "650 017390 서울가스\n",
            "651 017550 수산중공업\n",
            "652 017551 수산중공우\n",
            "653 017670 SK텔레콤\n",
            "654 017800 현대엘리베이\n",
            "655 017810 풀무원홀딩스\n",
            "656 017900 광전자\n",
            "657 017940 E1\n",
            "658 017960 한국카본\n",
            "659 018410 현대금속\n",
            "660 018411 현대금속우\n",
            "661 018412 현대금속2우B\n",
            "662 018470 조일알미늄\n",
            "663 018500 동원금속\n",
            "664 018670 SK가스\n",
            "665 018880 한라공조\n",
            "666 019170 신풍제약\n",
            "667 019171 신풍제약우\n",
            "668 019180 티에이치엔\n",
            "669 019300 동일제지\n",
            "670 019490 하이트론\n",
            "671 019680 대교\n",
            "672 019681 대교우B\n",
            "673 020000 한섬\n",
            "674 020120 인큐브테크\n",
            "675 020560 아시아나항공\n",
            "676 020760 일진디스플\n",
            "677 021050 서원\n",
            "678 021240 웅진코웨이\n",
            "679 021820 세원정공\n",
            "680 021960 우리파이낸셜\n",
            "681 023150 MH에탄올\n",
            "682 023450 동남합성\n",
            "683 023530 롯데쇼핑\n",
            "684 023590 다우기술\n",
            "685 023800 인지컨트롤스\n",
            "686 023810 인팩\n",
            "687 023960 에쓰씨엔지니어링\n",
            "688 024070 WISCOM\n",
            "689 024090 디씨엠\n",
            "690 024100 제일저축은행\n",
            "691 024110 기업은행\n",
            "692 024720 한국콜마\n",
            "693 024870 유성티에스아이\n",
            "694 024890 대원화성\n",
            "695 024900 덕양산업\n",
            "696 025000 KPX케미칼\n",
            "697 025530 SJM\n",
            "698 025540 한국단자\n",
            "699 025560 미래산업\n",
            "700 025610 한국저축은행\n",
            "701 025620 신우\n",
            "702 025750 한솔홈데코\n",
            "703 025820 이구산업\n",
            "704 025850 KPX화인케미칼\n",
            "705 025860 남해화학\n",
            "706 025890 한국주강\n",
            "707 026870 대한가스\n",
            "708 026890 디피씨\n",
            "709 026940 부국철강\n",
            "710 027390 한화타임월드\n",
            "711 027740 마니커\n",
            "712 027840 고덴시\n",
            "713 027970 세하\n",
            "714 028050 삼성엔지니어링\n",
            "715 028670 STX팬오션\n",
            "716 029460 케이씨텍\n",
            "717 029530 신도리코\n",
            "718 029780 삼성카드\n",
            "719 030000 제일기획\n",
            "720 030200 KT\n",
            "721 030210 KTB투자증권\n",
            "722 030610 교보증권\n",
            "723 030720 동원수산\n",
            "724 031820 콤텍시스템\n",
            "725 032350 롯데관광개발\n",
            "726 032390 KTF\n",
            "727 032640 LG텔레콤\n",
            "728 033180 필룩스\n",
            "729 033240 자화전자\n",
            "730 033250 체시스\n",
            "731 033270 유나이티드제약\n",
            "732 033530 세종공업\n",
            "733 033780 KT&G\n",
            "734 034020 두산중공업\n",
            "735 034120 SBS\n",
            "736 034220 LG디스플레이\n",
            "737 034300 신세계건설\n",
            "738 034310 한신정\n",
            "739 034590 인천도시가스\n",
            "740 035000 GⅡR\n",
            "741 035150 백산\n",
            "742 035250 강원랜드\n",
            "743 035420 NHN\n",
            "744 035510 신세계\n",
            "745 036460 한국가스공사\n",
            "746 036530 S&T홀딩스\n",
            "747 036570 엔씨소프트\n",
            "748 036580 대상팜스코\n",
            "749 036581 대상팜스코우B\n",
            "750 037270 휘닉스컴\n",
            "751 037620 미래에셋증권\n",
            "752 037710 광주신세계\n",
            "753 041650 상신브레이크\n",
            "754 042100 현대오토넷\n",
            "755 042660 대우조선해양\n",
            "756 042670 두산인프라코어\n",
            "757 042700 한미반도체\n",
            "758 044380 주연테크\n",
            "759 044450 KSS해운\n",
            "760 044820 코스맥스\n",
            "761 045710 온미디어\n",
            "762 045820 LG파워콤\n",
            "763 047040 대우건설\n",
            "764 047050 대우인터내셔널\n",
            "765 049770 동원F&B\n",
            "766 049800 우진세렉스\n",
            "767 051310 성진지오텍\n",
            "768 051600 한전KPS\n",
            "769 051630 진양화학\n",
            "770 051900 LG생활건강\n",
            "771 051901 LG생활건강우\n",
            "772 051910 LG화학\n",
            "773 051911 LG화학우\n",
            "774 053000 우리금융\n",
            "775 055550 신한지주\n",
            "776 058430 포스코강판\n",
            "777 058650 세아홀딩스\n",
            "778 058730 동아에스텍\n",
            "779 063160 종근당바이오\n",
            "780 064420 케이피케미칼\n",
            "781 064960 S&T대우\n",
            "782 066570 LG전자\n",
            "783 066571 LG전자우\n",
            "784 067250 STX조선\n",
            "785 067830 세이브존I&C\n",
            "786 068290 삼성출판사\n",
            "787 068870 LG생명과학\n",
            "788 068871 LG생명과학우\n",
            "789 069260 휴켐스\n",
            "790 069460 대호에이엘\n",
            "791 069470 제로원인터랙티브\n",
            "792 069620 대웅제약\n",
            "793 069730 DSR제강\n",
            "794 069960 현대백화점\n",
            "795 071050 한국금융지주\n",
            "796 071051 한국금융지주우\n",
            "797 071052 한국금융지주2우B\n",
            "798 071090 하이스틸\n",
            "799 071950 코아스웰\n",
            "800 071951 코아스웰1우B\n",
            "801 072130 유엔젤\n",
            "802 072710 농심홀딩스\n",
            "803 073240 금호타이어\n",
            "804 074610 이엔쓰리\n",
            "805 075180 새론오토모티브\n",
            "806 076170 GBS\n",
            "807 076850 맥쿼리센트럴\n",
            "808 077500 유니퀘스트\n",
            "809 077970 STX엔진\n",
            "810 078000 텔코웨어\n",
            "811 078420 동북아1호\n",
            "812 078930 GS\n",
            "813 078931 GS우\n",
            "814 079160 CJ\n",
            "815 079430 리바트\n",
            "816 079660 사조해표\n",
            "817 080030 동북아2호\n",
            "818 080180 아시아1호\n",
            "819 080410 동북아6호\n",
            "820 080960 동북아3호\n",
            "821 080970 동북아4호\n",
            "822 080980 동북아5호\n",
            "823 081000 일진다이아\n",
            "824 081190 아시아2호\n",
            "825 081200 아시아3호\n",
            "826 081210 아시아4호\n",
            "827 081930 아시아8호\n",
            "828 081940 아시아9호\n",
            "829 082110 동북아8호\n",
            "830 082240 아시아5호\n",
            "831 082250 아시아6호\n",
            "832 082260 아시아7호\n",
            "833 083120 동북아9호\n",
            "834 083350 동북아10호\n",
            "835 083360 동북아11호\n",
            "836 083370 동북아12호\n",
            "837 083380 동북아13호\n",
            "838 083390 동북아14호\n",
            "839 083420 KPX그린케미칼\n",
            "840 083570 아시아10호\n",
            "841 083580 아시아11호\n",
            "842 083590 아시아12호\n",
            "843 083600 아시아13호\n",
            "844 083610 아시아14호\n",
            "845 083620 아시아15호\n",
            "846 084010 대한제강\n",
            "847 084160 골든경매일호\n",
            "848 084240 동북아15호\n",
            "849 084670 동양고속\n",
            "850 084680 C&우방랜드\n",
            "851 084690 대상홀딩스\n",
            "852 084691 대상홀딩스우\n",
            "853 084692 대상홀딩스2우B\n",
            "854 084870 베이직하우스\n",
            "855 085310 엔케이\n",
            "856 086280 글로비스\n",
            "857 086720 코크렙7호\n",
            "858 086790 하나금융지주\n",
            "859 088010 동북아21호\n",
            "860 088790 진도에프앤\n",
            "861 088980 맥쿼리인프라\n",
            "862 089470 현대EP\n",
            "863 090080 평화산업\n",
            "864 090350 노루페인트\n",
            "865 090351 노루페인트우\n",
            "866 090370 아비스타\n",
            "867 090430 아모레퍼시픽\n",
            "868 090431 아모레퍼시픽우\n",
            "869 090540 코크렙8호\n",
            "870 090970 코리아01호\n",
            "871 090980 코리아02호\n",
            "872 090990 코리아03호\n",
            "873 091000 코리아04호\n",
            "874 091090 세원셀론텍\n",
            "875 092200 디아이씨\n",
            "876 092220 KEC\n",
            "877 092230 KPX홀딩스\n",
            "878 092440 기신정기\n",
            "879 092630 바다로3호\n",
            "880 092970 거북선1호\n",
            "881 093050 LG패션\n",
            "882 093230 쉘라인\n",
            "883 093370 후성\n",
            "884 093400 코리아05호\n",
            "885 093410 코리아06호\n",
            "886 093730 동북아31호\n",
            "887 093820 한국유전15-1\n",
            "888 094280 효성ITX\n",
            "889 094520 맵스베트남1\n",
            "890 094800 맵스리얼티1\n",
            "891 094950 지비베트남1\n",
            "892 095720 웅진씽크빅\n",
            "893 096300 베트남개발1\n",
            "894 096760 중외홀딩스\n",
            "895 096770 SK에너지\n",
            "896 096771 SK에너지우\n",
            "897 097230 한진중공업\n",
            "898 097950 CJ제일제당\n",
            "899 097951 CJ제일제당\n",
            "900 097952 CJ제일제당\n",
            "901 097953 CJ제일제당\n",
            "902 098150 한국아태특별\n",
            "903 099210 코리아07호\n",
            "904 099340 하나니켈1호\n",
            "905 099350 하나니켈2호\n",
            "906 100220 비유와상징\n",
            "907 100250 진양홀딩스\n",
            "908 100840 S&TC\n",
            "909 101060 SBS홀딩스\n",
            "910 101140 아티스\n",
            "911 101380 거북선2호\n",
            "912 101790 케이알제2호\n",
            "913 101990 파브코\n",
            "914 102000 거북선3호\n",
            "915 102260 동성홀딩스\n",
            "916 102280 트라이\n",
            "917 103140 풍산\n",
            "918 103150 하이트맥주\n",
            "919 103151 하이트맥주우\n",
            "920 103160 풀무원\n",
            "921 103590 일진전기\n",
            "922 104110 신성ENG\n",
            "923 104120 신성FA\n",
            "924 104700 한국철강\n",
            "925 105560 KB금융\n",
            "926 107590 미원에스씨"
          ],
          "name": "stdout"
        }
      ]
    },
    {
      "cell_type": "code",
      "metadata": {
        "colab": {
          "base_uri": "https://localhost:8080/"
        },
        "id": "qIfveQMTJBTx",
        "outputId": "691d106d-cb52-4f75-bd05-55b9a8a5bb31"
      },
      "source": [
        "# 140. 화면에서 사용자 입력을 받고 파일로 쓰기 (wirte)\n",
        "\n",
        "text = input('파일에 저장할 내용을 입력하세요:')\n",
        "f = open('mydata.txt', 'w')  # write 모드일 때는 encoding 필요없는 듯\n",
        "f.write(text)\n",
        "f.close()"
      ],
      "execution_count": null,
      "outputs": [
        {
          "output_type": "stream",
          "text": [
            "파일에 저장할 내용을 입력하세요:if you will look back, i will kill you\n"
          ],
          "name": "stdout"
        }
      ]
    },
    {
      "cell_type": "code",
      "metadata": {
        "colab": {
          "base_uri": "https://localhost:8080/"
        },
        "id": "gSOL7jyZKf3F",
        "outputId": "c0dcc312-1ed9-4055-854e-d0b774a37589"
      },
      "source": [
        "# 141. 텍스트 파일에 한줄씩 쓰기 (writelines)\n",
        "\n",
        "count = 1\n",
        "data = []\n",
        "print('파일에 내용을 저장하려면 내용을 입력하지 말고 [Enter]를 누르세요')\n",
        "while True:\n",
        "  text = input('[%d] 파일에 저장할 내용을 입력하세요:' %count)\n",
        "  if text =='':\n",
        "      break\n",
        "  data.append(text+'\\n')\n",
        "  count+=1\n",
        "\n",
        "f = open('mydata.txt', 'w')\n",
        "f.writelines(data)\n",
        "f.close()\n"
      ],
      "execution_count": null,
      "outputs": [
        {
          "output_type": "stream",
          "text": [
            "파일에 내용을 저장하려면 내용을 입력하지 말고 [Enter]를 누르세요\n",
            "[1] 파일에 저장할 내용을 입력하세요:안녕\n",
            "[2] 파일에 저장할 내용을 입력하세요:나는 남동욱이야\n",
            "[3] 파일에 저장할 내용을 입력하세요:나는 지금 프로그래머스 코딩 테스트를 준비하고 이써\n",
            "[4] 파일에 저장할 내용을 입력하세요:카카오 스타일 가고싶당\n",
            "[5] 파일에 저장할 내용을 입력하세요:열심히 최선을 다하고 결과는 주님께 맡기자\n",
            "[6] 파일에 저장할 내용을 입력하세요:화이팅!\n",
            "[7] 파일에 저장할 내용을 입력하세요:\n"
          ],
          "name": "stdout"
        }
      ]
    },
    {
      "cell_type": "code",
      "metadata": {
        "id": "9pwLMhihLfHR"
      },
      "source": [
        "# 142. 텍스트 파일 복사하기 (read, write)\n",
        "\n",
        "f = open('stockcode.txt', 'r', encoding = 'euc-kr')\n",
        "h = open('stockcode_copy.txt', 'w')\n",
        "\n",
        "data = f.read()\n",
        "h.write(data)\n",
        "\n",
        "f.close()\n",
        "h.close()\n"
      ],
      "execution_count": null,
      "outputs": []
    },
    {
      "cell_type": "code",
      "metadata": {
        "id": "hTPlvLZlOx_E"
      },
      "source": [
        "# 143. 바이너리 파일 복사하기 (read, write)\n",
        "\n",
        "bufsize = 1024  # bufsize = 1024 는 1KB 단위로 파일을 읽기 위해서 정의한 값\n",
        "f = open('img_sample.jpg', 'rb')\n",
        "h = open('img_sample_copy.jpg', 'wb')\n",
        "\n",
        "data = f.read(bufsize)\n",
        "while data:\n",
        "  h.write(data)\n",
        "  data = f.read(bufsize)\n",
        "\n",
        "# while 문을 위와 같이 짜면 빈 문자열 ''이 나올 때까지 while 문 루프가 돈다는 것\n",
        "\n",
        "f.close()\n",
        "h.close()\n"
      ],
      "execution_count": null,
      "outputs": []
    },
    {
      "cell_type": "code",
      "metadata": {
        "colab": {
          "base_uri": "https://localhost:8080/"
        },
        "id": "aKiL5pS7Pf8v",
        "outputId": "5ebe1cb9-b2bc-497e-c5c1-f7a22cdbf84b"
      },
      "source": [
        "# 144. 파일을 열고 자동으로 닫기 (with ~ as)\n",
        "\n",
        "## 프로그래밍을 할 때 가끔 파일을 열고 난 후 파일을 닫지 않고 코드를 작성하는 경우가 있는데 with open () as를 활용하면 파일에 대한 처리를 끝내면 자동으로 파일을 닫아 줌\n",
        "\n",
        "with open('stockcode.txt', 'r', encoding = 'euc-kr') as f:\n",
        "  for line_num, line in enumerate(f.readlines()):\n",
        "    print('%d %s' %(line_num+1, line), end = '')"
      ],
      "execution_count": null,
      "outputs": [
        {
          "output_type": "stream",
          "text": [
            "1 000020 동화약품\n",
            "2 000040 S&T모터스\n",
            "3 000050 경방\n",
            "4 000060 메리츠화재\n",
            "5 000070 삼양사\n",
            "6 000071 삼양사우\n",
            "7 000100 유한양행\n",
            "8 000101 유한양행우\n",
            "9 000120 대한통운\n",
            "10 000140 하이트홀딩스\n",
            "11 000141 하이트홀딩스우\n",
            "12 000150 두산\n",
            "13 000151 두산우\n",
            "14 000152 두산2우B\n",
            "15 000180 성창기업지주\n",
            "16 000210 대림산업\n",
            "17 000211 대림산업우\n",
            "18 000220 유유제약\n",
            "19 000221 유유제약1우\n",
            "20 000222 유유제약2우B\n",
            "21 000230 일동제약\n",
            "22 000240 한국타이어\n",
            "23 000270 기아차\n",
            "24 000300 대유신소재\n",
            "25 000320 디피아이홀딩스\n",
            "26 000321 디피아이홀딩스우\n",
            "27 000322 디피아이홀딩스2B\n",
            "28 000360 삼환기업\n",
            "29 000361 삼환기업우\n",
            "30 000370 한화손해보험\n",
            "31 000390 삼화페인트\n",
            "32 000400 롯데손해보험\n",
            "33 000420 로케트전기\n",
            "34 000421 로케트전우\n",
            "35 000430 대원강업\n",
            "36 000470 그린손해보험\n",
            "37 000480 조선내화\n",
            "38 000490 대동공업\n",
            "39 000500 가온전선\n",
            "40 000520 삼일제약\n",
            "41 000540 흥국쌍용화재\n",
            "42 000541 흥국쌍용화재우\n",
            "43 000542 흥국쌍용화재2우B\n",
            "44 000590 조선선재\n",
            "45 000610 제일화재\n",
            "46 000640 동아제약\n",
            "47 000650 천일고속\n",
            "48 000660 하이닉스\n",
            "49 000670 영풍\n",
            "50 000680 LS네트웍스\n",
            "51 000681 LS네트웍스우\n",
            "52 000700 한진해운\n",
            "53 000720 현대건설\n",
            "54 000721 현대건설우\n",
            "55 000760 이화산업\n",
            "56 000790 C&상선\n",
            "57 000800 경남기업\n",
            "58 000810 삼성화재\n",
            "59 000811 삼성화재우\n",
            "60 000830 삼성물산\n",
            "61 000831 삼성물산우\n",
            "62 000850 화천기공\n",
            "63 000860 건설화학\n",
            "64 000880 한화\n",
            "65 000881 한화우\n",
            "66 000890 보해양조\n",
            "67 000891 보해양조우\n",
            "68 000910 유니온\n",
            "69 000950 전방\n",
            "70 000970 한국주철관\n",
            "71 000990 동부하이텍\n",
            "72 000991 동부하이텍1우\n",
            "73 000992 동부하이텍2우B\n",
            "74 001020 페이퍼코리아\n",
            "75 001040 CJ\n",
            "76 001041 CJ우\n",
            "77 001042 CJ2우B\n",
            "78 001043 CJ3우B\n",
            "79 001060 중외제약\n",
            "80 001061 중외제약우\n",
            "81 001062 중외제약2우B\n",
            "82 001070 대한방직\n",
            "83 001080 만호제강\n",
            "84 001120 LG상사\n",
            "85 001130 대한제분\n",
            "86 001140 국보\n",
            "87 001190 마이크로닉스\n",
            "88 001200 유진투자증권\n",
            "89 001210 금호전기\n",
            "90 001230 동국제강\n",
            "91 001250 쌍용\n",
            "92 001260 남광토건\n",
            "93 001270 부국증권\n",
            "94 001271 부국증권우\n",
            "95 001290 골든브릿지증권\n",
            "96 001300 제일모직\n",
            "97 001310 풍림산업\n",
            "98 001340 백광산업\n",
            "99 001360 삼성제약\n",
            "100 001370 FnC코오롱\n",
            "101 001371 FnC코오롱우\n",
            "102 001380 SG글로벌\n",
            "103 001381 SG글로벌우\n",
            "104 001390 KG케미칼\n",
            "105 001420 태원물산\n",
            "106 001430 세아베스틸\n",
            "107 001440 대한전선\n",
            "108 001450 현대해상\n",
            "109 001460 BYC\n",
            "110 001461 BYC우\n",
            "111 001470 삼부토건\n",
            "112 001500 HMC투자증권\n",
            "113 001510 SK증권\n",
            "114 001511 SK증권우\n",
            "115 001520 동양메이저\n",
            "116 001521 동양메이저우\n",
            "117 001522 동양메이저2우B\n",
            "118 001523 동양메이저3우B\n",
            "119 001530 동일방직\n",
            "120 001550 조비\n",
            "121 001560 제일연마\n",
            "122 001570 금양\n",
            "123 001600 서광건설\n",
            "124 001620 동국실업\n",
            "125 001630 종근당\n",
            "126 001680 대상\n",
            "127 001681 대상우\n",
            "128 001682 대상2우B\n",
            "129 001683 대상3우B\n",
            "130 001720 신영증권\n",
            "131 001721 신영증권우\n",
            "132 001740 SK네트웍스\n",
            "133 001741 SK네트웍스우\n",
            "134 001750 한양증권\n",
            "135 001751 한양증권우\n",
            "136 001770 신화실업\n",
            "137 001780 동양강철\n",
            "138 001790 대한제당\n",
            "139 001791 대한제당우\n",
            "140 001800 오리온\n",
            "141 001820 삼화콘덴서\n",
            "142 001880 삼호\n",
            "143 001940 KISCO홀딩스\n",
            "144 001950 남한제지\n",
            "145 001951 남한제지우\n",
            "146 001970 신성건설\n",
            "147 001971 신성건설우\n",
            "148 002000 한국유리\n",
            "149 002001 한국유리우\n",
            "150 002020 코오롱\n",
            "151 002021 코오롱우\n",
            "152 002022 코오롱2우B\n",
            "153 002030 아세아시멘트\n",
            "154 002070 남영L&F\n",
            "155 002100 경농\n",
            "156 002140 고려산업\n",
            "157 002170 삼양통상\n",
            "158 002200 수출포장\n",
            "159 002210 동성제약\n",
            "160 002220 한일철강\n",
            "161 002240 고려제강\n",
            "162 002250 근화제약\n",
            "163 002270 롯데삼강\n",
            "164 002300 한국제지\n",
            "165 002310 아세아제지\n",
            "166 002320 한진\n",
            "167 002350 넥센타이어\n",
            "168 002351 넥센타이어1우B\n",
            "169 002360 SH에너지화학\n",
            "170 002361 SH에너지화학우\n",
            "171 002380 KCC\n",
            "172 002390 한독약품\n",
            "173 002410 범양건영\n",
            "174 002420 세기상사\n",
            "175 002450 삼익악기\n",
            "176 002460 화성산업\n",
            "177 002530 벽산건설\n",
            "178 002531 벽산건설우\n",
            "179 002540 고제\n",
            "180 002550 LIG손해보험\n",
            "181 002600 조흥\n",
            "182 002620 제일약품\n",
            "183 002630 오리엔트바이오\n",
            "184 002700 신일산업\n",
            "185 002710 동양석판\n",
            "186 002720 국제약품\n",
            "187 002760 보락\n",
            "188 002780 진흥기업\n",
            "189 002781 진흥기업우B\n",
            "190 002782 진흥기업2우B\n",
            "191 002790 태평양\n",
            "192 002791 태평양우\n",
            "193 002792 태평양2우B\n",
            "194 002810 삼영무역\n",
            "195 002820 선창산업\n",
            "196 002840 미원상사\n",
            "197 002870 신풍제지\n",
            "198 002880 대유디엠씨\n",
            "199 002900 동양물산\n",
            "200 002920 유성기업\n",
            "201 002960 한국쉘석유\n",
            "202 002990 금호산업\n",
            "203 002991 금호산업우\n",
            "204 003000 부광약품\n",
            "205 003010 혜인\n",
            "206 003030 세아제강\n",
            "207 003060 한국슈넬제약\n",
            "208 003070 코오롱건설\n",
            "209 003071 코오롱건우\n",
            "210 003080 성보화학\n",
            "211 003090 대웅\n",
            "212 003120 일성신약\n",
            "213 003160 디아이\n",
            "214 003190 알앤엘바이오\n",
            "215 003200 일신방직\n",
            "216 003220 대원제약\n",
            "217 003230 삼양식품\n",
            "218 003240 태광산업\n",
            "219 003280 흥아해운\n",
            "220 003300 한일시멘트\n",
            "221 003350 한국화장품\n",
            "222 003410 쌍용양회\n",
            "223 003411 쌍용양회우\n",
            "224 003412 쌍용양회2우B\n",
            "225 003413 쌍용양회3우B\n",
            "226 003414 쌍용양회4우B\n",
            "227 003415 쌍용양회5우B\n",
            "228 003450 현대증권\n",
            "229 003460 유화증권\n",
            "230 003461 유화증권우\n",
            "231 003470 동양종금증권\n",
            "232 003471 동양종금증권1우\n",
            "233 003480 한진중공업홀딩스\n",
            "234 003490 대한항공\n",
            "235 003491 대한항공우\n",
            "236 003520 영진약품\n",
            "237 003530 한화증권\n",
            "238 003531 한화증권우\n",
            "239 003540 대신증권\n",
            "240 003541 대신증권우\n",
            "241 003542 대신증권2우B\n",
            "242 003550 LG\n",
            "243 003551 LG우\n",
            "244 003560 IHQ\n",
            "245 003570 S&T중공업\n",
            "246 003580 동원\n",
            "247 003600 SK\n",
            "248 003601 SK우\n",
            "249 003610 방림\n",
            "250 003620 쌍용차\n",
            "251 003640 유니온스틸\n",
            "252 003650 미창석유\n",
            "253 003680 한성기업\n",
            "254 003690 코리안리\n",
            "255 003720 삼영화학\n",
            "256 003780 진양산업\n",
            "257 003830 대한화섬\n",
            "258 003850 보령제약\n",
            "259 003920 남양유업\n",
            "260 003921 남양유업우\n",
            "261 003940 삼양제넥스\n",
            "262 003941 삼양제넥우\n",
            "263 003960 사조대림\n",
            "264 003961 사조대림우\n",
            "265 003990 BHK\n",
            "266 004000 삼성정밀화학\n",
            "267 004010 롯데미도파\n",
            "268 004020 현대제철\n",
            "269 004021 현대제철\n",
            "270 004060 에스지위카스\n",
            "271 004080 신흥\n",
            "272 004090 한국석유\n",
            "273 004100 태양금속\n",
            "274 004101 태양금속우\n",
            "275 004130 대덕GDS\n",
            "276 004131 대덕GDS우\n",
            "277 004132 대덕GDS2우B\n",
            "278 004140 동방\n",
            "279 004142 동방전환상환2우B\n",
            "280 004143 동방전환상환3우B\n",
            "281 004150 한솔제지\n",
            "282 004170 신세계\n",
            "283 004200 고려개발\n",
            "284 004230 세신\n",
            "285 004250 내쇼날푸라스\n",
            "286 004251 내쇼날푸우\n",
            "287 004270 남성\n",
            "288 004310 현대약품\n",
            "289 004360 세방\n",
            "290 004361 세방우\n",
            "291 004362 세방2우B\n",
            "292 004370 농심\n",
            "293 004380 삼익THK\n",
            "294 004410 서울식품\n",
            "295 004411 서울식품우\n",
            "296 004430 송원산업\n",
            "297 004450 삼화왕관\n",
            "298 004490 세방전지\n",
            "299 004540 대한펄프\n",
            "300 004541 대한펄프우\n",
            "301 004550 대우차판매\n",
            "302 004551 대우차판매1우\n",
            "303 004560 BNG스틸\n",
            "304 004561 BNG스틸우\n",
            "305 004620 캠브리지\n",
            "306 004690 삼천리\n",
            "307 004700 조광피혁\n",
            "308 004710 한솔LCD\n",
            "309 004720 우리들생명과학\n",
            "310 004740 보루네오\n",
            "311 004770 써니전자\n",
            "312 004800 효성\n",
            "313 004820 조인에너지\n",
            "314 004830 덕성\n",
            "315 004831 덕성우\n",
            "316 004840 동일벨트\n",
            "317 004870 아인스\n",
            "318 004890 동일산업\n",
            "319 004910 조광페인트\n",
            "320 004920 삼영홀딩스\n",
            "321 004940 외환은행\n",
            "322 004960 한신공영\n",
            "323 004961 한신공영우\n",
            "324 004970 신라교역\n",
            "325 004980 성신양회\n",
            "326 004981 성신양회우\n",
            "327 004982 성신양회2우B\n",
            "328 004983 성신양회3우B\n",
            "329 004990 롯데제과\n",
            "330 005010 휴스틸\n",
            "331 005030 부산주공\n",
            "332 005070 새한미디어\n",
            "333 005090 삼광유리\n",
            "334 005110 한창\n",
            "335 005180 빙그레\n",
            "336 005190 동성화학\n",
            "337 005250 녹십자홀딩스\n",
            "338 005251 녹십자홀딩스1우\n",
            "339 005252 녹십자홀딩스2우\n",
            "340 005270 대구은행\n",
            "341 005280 부산은행\n",
            "342 005300 롯데칠성\n",
            "343 005301 롯데칠성우\n",
            "344 005320 국동\n",
            "345 005350 선우ST\n",
            "346 005360 모나미\n",
            "347 005380 현대차\n",
            "348 005381 현대차우\n",
            "349 005382 현대차2우B\n",
            "350 005383 현대차3우B\n",
            "351 005390 신성통상\n",
            "352 005420 코스모화학\n",
            "353 005430 한국공항\n",
            "354 005440 현대H&S\n",
            "355 005450 신한\n",
            "356 005490 POSCO\n",
            "357 005500 삼진제약\n",
            "358 005560 JS전선\n",
            "359 005610 삼립식품\n",
            "360 005620 대성산업\n",
            "361 005680 삼영전자\n",
            "362 005690 로이\n",
            "363 005720 넥센\n",
            "364 005721 넥센우\n",
            "365 005740 크라운제과\n",
            "366 005741 크라운제우\n",
            "367 005750 대림B&Co\n",
            "368 005800 신영와코루\n",
            "369 005810 풍산홀딩스\n",
            "370 005820 원림\n",
            "371 005830 동부화재\n",
            "372 005850 에스엘\n",
            "373 005870 휴니드\n",
            "374 005880 대한해운\n",
            "375 005900 동양건설\n",
            "376 005930 삼성전자\n",
            "377 005931 삼성전자우\n",
            "378 005940 우리투자증권\n",
            "379 005941 우리투자증권우\n",
            "380 005950 이수화학\n",
            "381 005960 동부건설\n",
            "382 005961 동부건설우\n",
            "383 005980 성지건설\n",
            "384 006040 동원산업\n",
            "385 006060 화승인더\n",
            "386 006070 기린\n",
            "387 006090 오양수산\n",
            "388 006110 삼아알미늄\n",
            "389 006120 SK케미칼\n",
            "390 006121 SK케미칼우\n",
            "391 006200 KEC홀딩스\n",
            "392 006210 휴리프\n",
            "393 006220 제주은행\n",
            "394 006260 LS\n",
            "395 006280 녹십자\n",
            "396 006340 대원전선\n",
            "397 006341 대원전선우\n",
            "398 006350 전북은행\n",
            "399 006360 GS건설\n",
            "400 006370 대구백화점\n",
            "401 006371 대구백화우\n",
            "402 006380 카프로\n",
            "403 006390 현대시멘트\n",
            "404 006400 삼성SDI\n",
            "405 006401 삼성SDI우\n",
            "406 006440 한일건설\n",
            "407 006490 로엔케이\n",
            "408 006570 대림통상\n",
            "409 006650 대한유화\n",
            "410 006660 삼성공조\n",
            "411 006740 영풍제지\n",
            "412 006800 대우증권\n",
            "413 006801 대우증권우\n",
            "414 006840 애경유화\n",
            "415 006890 태경화학\n",
            "416 006980 우성사료\n",
            "417 007050 유리이에스\n",
            "418 007110 일신석재\n",
            "419 007120 유니모테크\n",
            "420 007160 사조산업\n",
            "421 007190 이엔페이퍼\n",
            "422 007191 이엔페이퍼우\n",
            "423 007200 진흥저축은행\n",
            "424 007210 벽산\n",
            "425 007280 한국특수형강\n",
            "426 007310 오뚜기\n",
            "427 007340 동아타이어\n",
            "428 007460 케이아이씨\n",
            "429 007480 대한은박지\n",
            "430 007490 태창기업\n",
            "431 007540 샘표식품\n",
            "432 007570 일양약품\n",
            "433 007571 일양약품우\n",
            "434 007590 동방아그로\n",
            "435 007591 동방아그우\n",
            "436 007610 선도전기\n",
            "437 007630 지에스인스트루\n",
            "438 007660 이수페타시스\n",
            "439 007690 국도화학\n",
            "440 007700 F&F\n",
            "441 007800 솔로몬저축은행\n",
            "442 007810 코리아써키트\n",
            "443 007811 코리아써우\n",
            "444 007860 한일이화\n",
            "445 007980 태평양물산\n",
            "446 008000 웅진케미칼\n",
            "447 008020 경남에너지\n",
            "448 008040 동아에스에프\n",
            "449 008060 대덕전자\n",
            "450 008080 삼양옵틱스\n",
            "451 008110 대동전자\n",
            "452 008250 이건산업\n",
            "453 008260 NI스틸\n",
            "454 008320 한국기술산업\n",
            "455 008350 남선알미늄\n",
            "456 008351 남선알미우\n",
            "457 008400 C&중공업\n",
            "458 008401 C&중공업우\n",
            "459 008420 문배철강\n",
            "460 008490 서흥캅셀\n",
            "461 008500 일정실업\n",
            "462 008540 일경\n",
            "463 008560 메리츠증권\n",
            "464 008600 미래와사람\n",
            "465 008700 아남전자\n",
            "466 008701 아남전자우\n",
            "467 008720 삼양중기\n",
            "468 008730 율촌화학\n",
            "469 008770 호텔신라\n",
            "470 008771 호텔신라우\n",
            "471 008870 금비\n",
            "472 008900 티이씨앤코\n",
            "473 008930 한미약품\n",
            "474 008970 동양철관\n",
            "475 008971 동양철관우\n",
            "476 009070 KCTC\n",
            "477 009140 경인전자\n",
            "478 009150 삼성전기\n",
            "479 009151 삼성전기우\n",
            "480 009160 SIMPAC\n",
            "481 009180 한솔CSN\n",
            "482 009190 대양금속\n",
            "483 009200 무림페이퍼\n",
            "484 009240 한샘\n",
            "485 009270 신원\n",
            "486 009271 신원우\n",
            "487 009280 다함이텍\n",
            "488 009290 광동제약\n",
            "489 009310 참앤씨\n",
            "490 009320 대우부품\n",
            "491 009380 아세아페이퍼텍\n",
            "492 009381 아세아페우B\n",
            "493 009410 태영건설\n",
            "494 009411 태영건설우\n",
            "495 009420 한올제약\n",
            "496 009440 KC코트렐\n",
            "497 009450 경동나비엔\n",
            "498 009460 한창제지\n",
            "499 009470 삼화전기\n",
            "500 009540 현대중공업\n",
            "501 009580 동해펄프\n",
            "502 009680 모토닉\n",
            "503 009690 케이엠에이치\n",
            "504 009720 전기초자\n",
            "505 009770 삼정펄프\n",
            "506 009810 고려포리머\n",
            "507 009811 고려포리머우\n",
            "508 009830 한화석화\n",
            "509 009831 한화석화1우\n",
            "510 009970 영원무역\n",
            "511 010040 한국내화\n",
            "512 010050 금호종금\n",
            "513 010060 동양제철화학\n",
            "514 010100 한국프랜지\n",
            "515 010120 LS산전\n",
            "516 010130 고려아연\n",
            "517 010140 삼성중공업\n",
            "518 010141 삼성중공우\n",
            "519 010420 한솔PNS\n",
            "520 010460 한국개발금융\n",
            "521 010520 현대하이스코\n",
            "522 010580 지코\n",
            "523 010600 영창실업\n",
            "524 010620 현대미포조선\n",
            "525 010640 진양폴리\n",
            "526 010660 화천기계\n",
            "527 010690 화신\n",
            "528 010770 평화홀딩스\n",
            "529 010780 아이에스동서\n",
            "530 010820 퍼스텍\n",
            "531 010950 S-Oil\n",
            "532 010951 S-Oil우\n",
            "533 010960 삼호개발\n",
            "534 011000 VGX인터\n",
            "535 011050 케드콤\n",
            "536 011070 LG이노텍\n",
            "537 011090 에넥스\n",
            "538 011150 삼호F&G\n",
            "539 011151 삼호F&G1우\n",
            "540 011160 두산건설\n",
            "541 011170 호남석유\n",
            "542 011200 현대상선\n",
            "543 011230 삼화전자\n",
            "544 011280 태림포장\n",
            "545 011300 성안\n",
            "546 011330 유니켐\n",
            "547 011390 부산산업\n",
            "548 011400 케이씨오에너지\n",
            "549 011420 IB스포츠\n",
            "550 011500 한농화성\n",
            "551 011690 유양디앤유\n",
            "552 011700 한신기계\n",
            "553 011720 현대피앤씨\n",
            "554 011760 현대상사\n",
            "555 011780 금호석유\n",
            "556 011781 금호석유우\n",
            "557 011790 SKC\n",
            "558 011800 배명금속\n",
            "559 011810 STX\n",
            "560 011930 신성홀딩스\n",
            "561 012030 동부정밀\n",
            "562 012090 성원건설\n",
            "563 012091 성원건설우\n",
            "564 012170 한신DNP\n",
            "565 012200 계양전기\n",
            "566 012201 계양전기우\n",
            "567 012280 영화금속\n",
            "568 012320 경동가스\n",
            "569 012330 현대모비스\n",
            "570 012331 현대모비스우\n",
            "571 012400 옵티머스\n",
            "572 012401 옵티머스우\n",
            "573 012410 청호전자통신\n",
            "574 012420 메리츠종금\n",
            "575 012450 삼성테크윈\n",
            "576 012510 더존비즈온\n",
            "577 012580 톰보이\n",
            "578 012600 청호컴넷\n",
            "579 012610 경인양행\n",
            "580 012630 현대산업\n",
            "581 012690 모나리자\n",
            "582 012750 에스원\n",
            "583 012800 대창공업\n",
            "584 012801 대창공업우\n",
            "585 013000 세우글로벌\n",
            "586 013001 세우글로벌우\n",
            "587 013200 C&우방\n",
            "588 013240 셀런\n",
            "589 013360 일성건설\n",
            "590 013361 일성건설우B\n",
            "591 013362 일성건설2우B\n",
            "592 013520 화승알앤에이\n",
            "593 013570 동양기전\n",
            "594 013580 계룡건설\n",
            "595 013700 삼환까뮤\n",
            "596 014130 한익스프레스\n",
            "597 014160 대영포장\n",
            "598 014280 금강공업\n",
            "599 014281 금강공업우\n",
            "600 014300 선진\n",
            "601 014350 신일건업\n",
            "602 014440 영보화학\n",
            "603 014530 극동유화\n",
            "604 014580 백광소재\n",
            "605 014590 티엘씨레저\n",
            "606 014680 한솔케미칼\n",
            "607 014790 한라건설\n",
            "608 014820 동원시스템즈\n",
            "609 014821 동원시스템즈우\n",
            "610 014830 유니드\n",
            "611 014910 성문전자\n",
            "612 014911 성문전자우\n",
            "613 014990 인디에프\n",
            "614 015020 이스타코\n",
            "615 015110 중앙건설\n",
            "616 015230 대창단조\n",
            "617 015260 에이엔피\n",
            "618 015350 부산가스\n",
            "619 015360 예스코\n",
            "620 015540 웰스브릿지\n",
            "621 015541 웰스브릿지우\n",
            "622 015590 대경기계\n",
            "623 015760 한국전력\n",
            "624 015860 일진홀딩스\n",
            "625 015890 태경산업\n",
            "626 015940 LG데이콤\n",
            "627 016090 대현\n",
            "628 016160 오라에너지\n",
            "629 016162 오라에너지2우B\n",
            "630 016360 삼성증권\n",
            "631 016380 동부제철\n",
            "632 016381 동부제철우\n",
            "633 016420 NH투자증권\n",
            "634 016450 한세예스24홀딩스\n",
            "635 016510 현대DSF\n",
            "636 016560 서울저축은행\n",
            "637 016570 태평양제약\n",
            "638 016571 태평양제우\n",
            "639 016580 환인제약\n",
            "640 016590 신대양제지\n",
            "641 016610 동부증권\n",
            "642 016710 대구가스\n",
            "643 016800 퍼시스\n",
            "644 016880 웅진홀딩스\n",
            "645 017040 광명전기\n",
            "646 017170 프라임엔터\n",
            "647 017180 명문제약\n",
            "648 017300 KDS\n",
            "649 017370 우신시스템\n",
            "650 017390 서울가스\n",
            "651 017550 수산중공업\n",
            "652 017551 수산중공우\n",
            "653 017670 SK텔레콤\n",
            "654 017800 현대엘리베이\n",
            "655 017810 풀무원홀딩스\n",
            "656 017900 광전자\n",
            "657 017940 E1\n",
            "658 017960 한국카본\n",
            "659 018410 현대금속\n",
            "660 018411 현대금속우\n",
            "661 018412 현대금속2우B\n",
            "662 018470 조일알미늄\n",
            "663 018500 동원금속\n",
            "664 018670 SK가스\n",
            "665 018880 한라공조\n",
            "666 019170 신풍제약\n",
            "667 019171 신풍제약우\n",
            "668 019180 티에이치엔\n",
            "669 019300 동일제지\n",
            "670 019490 하이트론\n",
            "671 019680 대교\n",
            "672 019681 대교우B\n",
            "673 020000 한섬\n",
            "674 020120 인큐브테크\n",
            "675 020560 아시아나항공\n",
            "676 020760 일진디스플\n",
            "677 021050 서원\n",
            "678 021240 웅진코웨이\n",
            "679 021820 세원정공\n",
            "680 021960 우리파이낸셜\n",
            "681 023150 MH에탄올\n",
            "682 023450 동남합성\n",
            "683 023530 롯데쇼핑\n",
            "684 023590 다우기술\n",
            "685 023800 인지컨트롤스\n",
            "686 023810 인팩\n",
            "687 023960 에쓰씨엔지니어링\n",
            "688 024070 WISCOM\n",
            "689 024090 디씨엠\n",
            "690 024100 제일저축은행\n",
            "691 024110 기업은행\n",
            "692 024720 한국콜마\n",
            "693 024870 유성티에스아이\n",
            "694 024890 대원화성\n",
            "695 024900 덕양산업\n",
            "696 025000 KPX케미칼\n",
            "697 025530 SJM\n",
            "698 025540 한국단자\n",
            "699 025560 미래산업\n",
            "700 025610 한국저축은행\n",
            "701 025620 신우\n",
            "702 025750 한솔홈데코\n",
            "703 025820 이구산업\n",
            "704 025850 KPX화인케미칼\n",
            "705 025860 남해화학\n",
            "706 025890 한국주강\n",
            "707 026870 대한가스\n",
            "708 026890 디피씨\n",
            "709 026940 부국철강\n",
            "710 027390 한화타임월드\n",
            "711 027740 마니커\n",
            "712 027840 고덴시\n",
            "713 027970 세하\n",
            "714 028050 삼성엔지니어링\n",
            "715 028670 STX팬오션\n",
            "716 029460 케이씨텍\n",
            "717 029530 신도리코\n",
            "718 029780 삼성카드\n",
            "719 030000 제일기획\n",
            "720 030200 KT\n",
            "721 030210 KTB투자증권\n",
            "722 030610 교보증권\n",
            "723 030720 동원수산\n",
            "724 031820 콤텍시스템\n",
            "725 032350 롯데관광개발\n",
            "726 032390 KTF\n",
            "727 032640 LG텔레콤\n",
            "728 033180 필룩스\n",
            "729 033240 자화전자\n",
            "730 033250 체시스\n",
            "731 033270 유나이티드제약\n",
            "732 033530 세종공업\n",
            "733 033780 KT&G\n",
            "734 034020 두산중공업\n",
            "735 034120 SBS\n",
            "736 034220 LG디스플레이\n",
            "737 034300 신세계건설\n",
            "738 034310 한신정\n",
            "739 034590 인천도시가스\n",
            "740 035000 GⅡR\n",
            "741 035150 백산\n",
            "742 035250 강원랜드\n",
            "743 035420 NHN\n",
            "744 035510 신세계\n",
            "745 036460 한국가스공사\n",
            "746 036530 S&T홀딩스\n",
            "747 036570 엔씨소프트\n",
            "748 036580 대상팜스코\n",
            "749 036581 대상팜스코우B\n",
            "750 037270 휘닉스컴\n",
            "751 037620 미래에셋증권\n",
            "752 037710 광주신세계\n",
            "753 041650 상신브레이크\n",
            "754 042100 현대오토넷\n",
            "755 042660 대우조선해양\n",
            "756 042670 두산인프라코어\n",
            "757 042700 한미반도체\n",
            "758 044380 주연테크\n",
            "759 044450 KSS해운\n",
            "760 044820 코스맥스\n",
            "761 045710 온미디어\n",
            "762 045820 LG파워콤\n",
            "763 047040 대우건설\n",
            "764 047050 대우인터내셔널\n",
            "765 049770 동원F&B\n",
            "766 049800 우진세렉스\n",
            "767 051310 성진지오텍\n",
            "768 051600 한전KPS\n",
            "769 051630 진양화학\n",
            "770 051900 LG생활건강\n",
            "771 051901 LG생활건강우\n",
            "772 051910 LG화학\n",
            "773 051911 LG화학우\n",
            "774 053000 우리금융\n",
            "775 055550 신한지주\n",
            "776 058430 포스코강판\n",
            "777 058650 세아홀딩스\n",
            "778 058730 동아에스텍\n",
            "779 063160 종근당바이오\n",
            "780 064420 케이피케미칼\n",
            "781 064960 S&T대우\n",
            "782 066570 LG전자\n",
            "783 066571 LG전자우\n",
            "784 067250 STX조선\n",
            "785 067830 세이브존I&C\n",
            "786 068290 삼성출판사\n",
            "787 068870 LG생명과학\n",
            "788 068871 LG생명과학우\n",
            "789 069260 휴켐스\n",
            "790 069460 대호에이엘\n",
            "791 069470 제로원인터랙티브\n",
            "792 069620 대웅제약\n",
            "793 069730 DSR제강\n",
            "794 069960 현대백화점\n",
            "795 071050 한국금융지주\n",
            "796 071051 한국금융지주우\n",
            "797 071052 한국금융지주2우B\n",
            "798 071090 하이스틸\n",
            "799 071950 코아스웰\n",
            "800 071951 코아스웰1우B\n",
            "801 072130 유엔젤\n",
            "802 072710 농심홀딩스\n",
            "803 073240 금호타이어\n",
            "804 074610 이엔쓰리\n",
            "805 075180 새론오토모티브\n",
            "806 076170 GBS\n",
            "807 076850 맥쿼리센트럴\n",
            "808 077500 유니퀘스트\n",
            "809 077970 STX엔진\n",
            "810 078000 텔코웨어\n",
            "811 078420 동북아1호\n",
            "812 078930 GS\n",
            "813 078931 GS우\n",
            "814 079160 CJ\n",
            "815 079430 리바트\n",
            "816 079660 사조해표\n",
            "817 080030 동북아2호\n",
            "818 080180 아시아1호\n",
            "819 080410 동북아6호\n",
            "820 080960 동북아3호\n",
            "821 080970 동북아4호\n",
            "822 080980 동북아5호\n",
            "823 081000 일진다이아\n",
            "824 081190 아시아2호\n",
            "825 081200 아시아3호\n",
            "826 081210 아시아4호\n",
            "827 081930 아시아8호\n",
            "828 081940 아시아9호\n",
            "829 082110 동북아8호\n",
            "830 082240 아시아5호\n",
            "831 082250 아시아6호\n",
            "832 082260 아시아7호\n",
            "833 083120 동북아9호\n",
            "834 083350 동북아10호\n",
            "835 083360 동북아11호\n",
            "836 083370 동북아12호\n",
            "837 083380 동북아13호\n",
            "838 083390 동북아14호\n",
            "839 083420 KPX그린케미칼\n",
            "840 083570 아시아10호\n",
            "841 083580 아시아11호\n",
            "842 083590 아시아12호\n",
            "843 083600 아시아13호\n",
            "844 083610 아시아14호\n",
            "845 083620 아시아15호\n",
            "846 084010 대한제강\n",
            "847 084160 골든경매일호\n",
            "848 084240 동북아15호\n",
            "849 084670 동양고속\n",
            "850 084680 C&우방랜드\n",
            "851 084690 대상홀딩스\n",
            "852 084691 대상홀딩스우\n",
            "853 084692 대상홀딩스2우B\n",
            "854 084870 베이직하우스\n",
            "855 085310 엔케이\n",
            "856 086280 글로비스\n",
            "857 086720 코크렙7호\n",
            "858 086790 하나금융지주\n",
            "859 088010 동북아21호\n",
            "860 088790 진도에프앤\n",
            "861 088980 맥쿼리인프라\n",
            "862 089470 현대EP\n",
            "863 090080 평화산업\n",
            "864 090350 노루페인트\n",
            "865 090351 노루페인트우\n",
            "866 090370 아비스타\n",
            "867 090430 아모레퍼시픽\n",
            "868 090431 아모레퍼시픽우\n",
            "869 090540 코크렙8호\n",
            "870 090970 코리아01호\n",
            "871 090980 코리아02호\n",
            "872 090990 코리아03호\n",
            "873 091000 코리아04호\n",
            "874 091090 세원셀론텍\n",
            "875 092200 디아이씨\n",
            "876 092220 KEC\n",
            "877 092230 KPX홀딩스\n",
            "878 092440 기신정기\n",
            "879 092630 바다로3호\n",
            "880 092970 거북선1호\n",
            "881 093050 LG패션\n",
            "882 093230 쉘라인\n",
            "883 093370 후성\n",
            "884 093400 코리아05호\n",
            "885 093410 코리아06호\n",
            "886 093730 동북아31호\n",
            "887 093820 한국유전15-1\n",
            "888 094280 효성ITX\n",
            "889 094520 맵스베트남1\n",
            "890 094800 맵스리얼티1\n",
            "891 094950 지비베트남1\n",
            "892 095720 웅진씽크빅\n",
            "893 096300 베트남개발1\n",
            "894 096760 중외홀딩스\n",
            "895 096770 SK에너지\n",
            "896 096771 SK에너지우\n",
            "897 097230 한진중공업\n",
            "898 097950 CJ제일제당\n",
            "899 097951 CJ제일제당\n",
            "900 097952 CJ제일제당\n",
            "901 097953 CJ제일제당\n",
            "902 098150 한국아태특별\n",
            "903 099210 코리아07호\n",
            "904 099340 하나니켈1호\n",
            "905 099350 하나니켈2호\n",
            "906 100220 비유와상징\n",
            "907 100250 진양홀딩스\n",
            "908 100840 S&TC\n",
            "909 101060 SBS홀딩스\n",
            "910 101140 아티스\n",
            "911 101380 거북선2호\n",
            "912 101790 케이알제2호\n",
            "913 101990 파브코\n",
            "914 102000 거북선3호\n",
            "915 102260 동성홀딩스\n",
            "916 102280 트라이\n",
            "917 103140 풍산\n",
            "918 103150 하이트맥주\n",
            "919 103151 하이트맥주우\n",
            "920 103160 풀무원\n",
            "921 103590 일진전기\n",
            "922 104110 신성ENG\n",
            "923 104120 신성FA\n",
            "924 104700 한국철강\n",
            "925 105560 KB금융\n",
            "926 107590 미원에스씨"
          ],
          "name": "stdout"
        }
      ]
    },
    {
      "cell_type": "code",
      "metadata": {
        "id": "v7cblHxsRBeo"
      },
      "source": [
        "# 145. 파일의 특정 부분만 복사하기 (seek, read, write)\n",
        "\n",
        "spos = 105\n",
        "size = 500\n",
        "\n",
        "f = open('stockcode.txt', 'r', encoding = 'euc-kr')\n",
        "h = open('stockcode_part.txt', 'w')\n",
        "\n",
        "f.seek(spos)\n",
        "data = f.read(size)\n",
        "h.write(data)\n",
        "\n",
        "h.close()\n",
        "f.close()\n"
      ],
      "execution_count": null,
      "outputs": []
    },
    {
      "cell_type": "markdown",
      "metadata": {
        "id": "ZjxLY-kIWjpL"
      },
      "source": [
        "### os"
      ]
    },
    {
      "cell_type": "code",
      "metadata": {
        "colab": {
          "base_uri": "https://localhost:8080/"
        },
        "id": "8abqQgI7U03E",
        "outputId": "74d90e40-e79c-44b0-8004-1933a0e76d5b"
      },
      "source": [
        "# 146. 파일 크기 구하기 (os.path.getsize)\n",
        "\n",
        "from os.path import getsize\n",
        "\n",
        "file1 = 'stockcode.txt'\n",
        "file2 = 'img_sample.jpg'\n",
        "file_size1 = getsize(file1)\n",
        "file_size2 = getsize(file2)\n",
        "\n",
        "print('File Name: %s \\tFile Size: %d' %(file1, file_size1))\n",
        "print('File Name: %s \\tFile Size: %d' %(file2, file_size2))\n"
      ],
      "execution_count": null,
      "outputs": [
        {
          "output_type": "stream",
          "text": [
            "File Name: stockcode.txt \tFile Size: 16339\n",
            "File Name: img_sample.jpg \tFile Size: 170005\n"
          ],
          "name": "stdout"
        }
      ]
    },
    {
      "cell_type": "code",
      "metadata": {
        "colab": {
          "base_uri": "https://localhost:8080/"
        },
        "id": "kAdpJVZZWLP4",
        "outputId": "c65a5eb3-df06-4094-cf9f-d5ffed9511f9"
      },
      "source": [
        "# 147. 파일 삭제하기 (os.remove)\n",
        "\n",
        "from os import remove\n",
        "\n",
        "target_file ='stockcode_copy.txt'\n",
        "k = input('[%s] 파일을 삭제하겠습니까? (y/n)' %target_file)\n",
        "if k == 'y':\n",
        "  remove(target_file)\n",
        "  print('[%s]를 삭제했습니다.' %target_file)"
      ],
      "execution_count": null,
      "outputs": [
        {
          "output_type": "stream",
          "text": [
            "[stockcode_copy.txt] 파일을 삭제하겠습니까? (y/n)y\n",
            "[stockcode_copy.txt]를 삭제했습니다.\n"
          ],
          "name": "stdout"
        }
      ]
    },
    {
      "cell_type": "code",
      "metadata": {
        "colab": {
          "base_uri": "https://localhost:8080/"
        },
        "id": "Bq6rqKOvW5vd",
        "outputId": "c27c7491-e856-492b-fb70-6f67ea2202c2"
      },
      "source": [
        "# 148 파일이름 바꾸기 (os.rename)\n",
        "\n",
        "from os import rename\n",
        "\n",
        "target_file = '기업주가.txt'\n",
        "newname = input('[%s]에 대한 새로운 파일 이름을 입력하세요:' %target_file)\n",
        "rename(target_file, newname)\n",
        "print('[%s] -> [%s]로 파일이름이 변경되었습니다.' %(target_file, newname))"
      ],
      "execution_count": null,
      "outputs": [
        {
          "output_type": "stream",
          "text": [
            "[기업주가.txt]에 대한 새로운 파일 이름을 입력하세요:stockcode.txt\n",
            "[기업주가.txt] -> [stockcode.txt]로 파일이름이 변경되었습니다.\n"
          ],
          "name": "stdout"
        }
      ]
    },
    {
      "cell_type": "code",
      "metadata": {
        "colab": {
          "base_uri": "https://localhost:8080/"
        },
        "id": "lBsIRiQ5Xl51",
        "outputId": "8b57ab4a-8378-4e45-d262-bcf14a200be4"
      },
      "source": [
        "# 파일을 다루는 다른 디렉토리로 이동하기\n",
        "\n",
        "from os import rename\n",
        "\n",
        "target_file = 'stockcode.txt'\n",
        "newpath = input('[%s]를 이동할 디렉토리의 절대경로를 입력하세요:' %target_file)\n",
        "\n",
        "if newpath[-1] == '/':\n",
        "  newname = newpath + target_file\n",
        "else:\n",
        "  newname = newpath + '/' + target_file\n",
        "\n",
        "try:\n",
        "  rename(target_file, newname)\n",
        "  print('[%s] -> [%s]로 이동되었습니다.' %(target_file, newname))\n",
        "except FileNotFoundError as e:\n",
        "  print(e)"
      ],
      "execution_count": null,
      "outputs": [
        {
          "output_type": "stream",
          "text": [
            "[stockcode.txt]를 이동할 디렉토리의 절대경로를 입력하세요:/content/drive/MyDrive/코딩공부/python_200\n",
            "[Errno 2] No such file or directory: 'stockcode.txt' -> '/content/drive/MyDrive/코딩공부/python_200/stockcode.txt'\n"
          ],
          "name": "stdout"
        }
      ]
    },
    {
      "cell_type": "code",
      "metadata": {
        "colab": {
          "base_uri": "https://localhost:8080/"
        },
        "id": "Cxo_mfPyX_nj",
        "outputId": "6a457fb4-6016-4d71-ef77-054153bef006"
      },
      "source": [
        "# 디렉토리에 있는 파일목록 얻기 (os.listdir, glob.glob)\n",
        "## os.listdir은 모든 파일과 디렉토리, glob.glob는 파일만\n",
        "## glob()의 인자는 윈도우 명령 프롬프트나 유닉스 쉘 프로그램에서 사용하는 와일드카드(*)를 사용할 수 있다.\n",
        "\n",
        "import os, glob\n",
        "\n",
        "folder = '/content/drive/MyDrive/공부/코딩공부/python_200'\n",
        "file_list = os.listdir(folder)\n",
        "print(file_list)\n",
        "\n",
        "files = '*.txt'\n",
        "file_list = glob.glob(files)\n",
        "print(file_list)"
      ],
      "execution_count": null,
      "outputs": [
        {
          "output_type": "stream",
          "text": [
            "['초보자를 위한 파이썬 200제.ipynb', 'mylib.py', '__pycache__', 'mypackage', 'stockcode.txt', 'mydata.txt', 'img_sample.jpg', 'img_sample_copy.jpg', 'stockcode_part.txt']\n",
            "['stockcode.txt', 'mydata.txt', 'stockcode_part.txt']\n"
          ],
          "name": "stdout"
        }
      ]
    },
    {
      "cell_type": "code",
      "metadata": {
        "colab": {
          "base_uri": "https://localhost:8080/"
        },
        "id": "2vZ-q6_mbdwm",
        "outputId": "4e5f63c3-fd23-4e42-a3e6-71a2b23613f0"
      },
      "source": [
        "# 151. 현재 디렉토리 확인하고 바꾸기(os.getcwd, os.chdir)\n",
        "\n",
        "import os\n",
        "\n",
        "pdir = os.getcwd(); print(pdir)\n",
        "os.chdir('..'); print(os.getcwd())\n",
        "os.chdir(pdir); print(os.getcwd())  # change directory"
      ],
      "execution_count": null,
      "outputs": [
        {
          "output_type": "stream",
          "text": [
            "/content/drive/My Drive/공부/코딩공부/python_200\n",
            "/content/drive/My Drive/공부/코딩공부\n",
            "/content/drive/My Drive/공부/코딩공부/python_200\n"
          ],
          "name": "stdout"
        }
      ]
    },
    {
      "cell_type": "code",
      "metadata": {
        "colab": {
          "base_uri": "https://localhost:8080/"
        },
        "id": "Gp5HsjJAp0Pv",
        "outputId": "1be53b06-1532-420e-df54-9b917e36a562"
      },
      "source": [
        "# 152. 디렉토리 생성하기 (os.mkdir)\n",
        "\n",
        "import os\n",
        "\n",
        "newfolder = input('새로 생성할 디렉토리 이름을 입력하세요:')\n",
        "try:\n",
        "  os.mkdir(newfolder)\n",
        "  print('[%s] 디렉토리를 새로 생성했습니다.' %newfolder)\n",
        "except Exception as e:\n",
        "  print(e)"
      ],
      "execution_count": null,
      "outputs": [
        {
          "output_type": "stream",
          "text": [
            "새로 생성할 디렉토리 이름을 입력하세요:hodu\n",
            "[hodu] 디렉토리를 새로 생성했습니다.\n"
          ],
          "name": "stdout"
        }
      ]
    },
    {
      "cell_type": "code",
      "metadata": {
        "colab": {
          "base_uri": "https://localhost:8080/"
        },
        "id": "lge8MorQqm5g",
        "outputId": "0f23cac8-3852-4f37-dac2-fd073ce8d71a"
      },
      "source": [
        "# 153. 디렉토리 제거하기 (os.rmdir)\n",
        "\n",
        "import os\n",
        "\n",
        "target_folder = 'hodu'\n",
        "k = input('[%s] 디렉토리를 삭제하겠습니까? (y/n)' %target_folder)\n",
        "if k == 'y':\n",
        "  try:\n",
        "    os.rmdir(target_folder)\n",
        "    print('[%s] 디렉토리를 삭제했습니다.' %target_folder)\n",
        "  except Exception as e:\n",
        "    print(e)"
      ],
      "execution_count": null,
      "outputs": [
        {
          "output_type": "stream",
          "text": [
            "[hodu] 디렉토리를 삭제하겠습니까? (y/n)y\n",
            "[Errno 2] No such file or directory: 'hodu'\n"
          ],
          "name": "stdout"
        }
      ]
    },
    {
      "cell_type": "code",
      "metadata": {
        "colab": {
          "base_uri": "https://localhost:8080/"
        },
        "id": "MuCpfHnwrGoq",
        "outputId": "69820dc4-9b5f-4621-e7f6-f141b6fbfb9d"
      },
      "source": [
        "# 하위 디렉토리 및 파일 전체 삭제하기 (shutil.rmtree)\n",
        "\n",
        "import shutil\n",
        "import os\n",
        "\n",
        "target_folder = '../python_200/hodu'\n",
        "print('[%s] 하위 모든 디렉토리 및 파일들을 삭제합니다.' %target_folder)\n",
        "\n",
        "for file in os.listdir(target_folder):\n",
        "  print(file)\n",
        "\n",
        "k = input('[%s]를 삭제하겠습니까? (y/n)' %target_folder)\n",
        "\n",
        "if k == 'y':\n",
        "  try:\n",
        "    shutil.rmtree(target_folder)\n",
        "    print('[%s]의 모든 하위 디렉토리와 파일들을 삭제했습니다.' %target_folder)\n",
        "  except Exception as e:\n",
        "    print(e)\n"
      ],
      "execution_count": null,
      "outputs": [
        {
          "output_type": "stream",
          "text": [
            "[../python_200/hodu] 하위 모든 디렉토리 및 파일들을 삭제합니다.\n",
            "[../python_200/hodu]를 삭제하겠습니까? (y/n)y\n",
            "[../python_200/hodu]의 모든 하위 디렉토리와 파일들을 삭제했습니다.\n"
          ],
          "name": "stdout"
        }
      ]
    },
    {
      "cell_type": "code",
      "metadata": {
        "colab": {
          "base_uri": "https://localhost:8080/"
        },
        "id": "XsYFCdzGseR4",
        "outputId": "dfd3db4b-6e27-4908-abcc-184fe3a11fe3"
      },
      "source": [
        "# 155. 파일이 존재하는지 체크하기 (os.path.exists)\n",
        "\n",
        "import os\n",
        "from os.path import exists\n",
        "\n",
        "dir_name = input('새로 생성할 디렉토리 이름을 입력하세요:')\n",
        "if not exists(dir_name):\n",
        "  os.mkdir(dir_name)\n",
        "  print('[%s] 디렉토리를 생성했습니다.' %dir_name)\n",
        "else:\n",
        "  print('[%s]은(는) 이미 존재합니다.' %dir_name)"
      ],
      "execution_count": null,
      "outputs": [
        {
          "output_type": "stream",
          "text": [
            "새로 생성할 디렉토리 이름을 입력하세요:hodu\n",
            "[hodu]은(는) 이미 존재합니다.\n"
          ],
          "name": "stdout"
        }
      ]
    },
    {
      "cell_type": "code",
      "metadata": {
        "colab": {
          "base_uri": "https://localhost:8080/"
        },
        "id": "9Munm0FOxKHM",
        "outputId": "92eb3dff-a725-44d5-9249-fa7086a883c7"
      },
      "source": [
        "# 156. 파일인지 디렉토리인지 확인하기 (os.path.isfile, os.path.isdir)\n",
        "\n",
        "import os\n",
        "from os.path import exists, isdir, isfile\n",
        "\n",
        "files = os.listdir()\n",
        "for file in files:\n",
        "  if isdir(file):\n",
        "    print('DIR: %s' %file)\n",
        "\n",
        "for file in files:\n",
        "  if isfile(file):\n",
        "    print('FILE: %s' %file)"
      ],
      "execution_count": null,
      "outputs": [
        {
          "output_type": "stream",
          "text": [
            "DIR: __pycache__\n",
            "DIR: mypackage\n",
            "DIR: hodu\n",
            "FILE: 초보자를 위한 파이썬 200제.ipynb\n",
            "FILE: mylib.py\n",
            "FILE: stockcode.txt\n",
            "FILE: mydata.txt\n",
            "FILE: img_sample.jpg\n",
            "FILE: img_sample_copy.jpg\n",
            "FILE: stockcode_part.txt\n"
          ],
          "name": "stdout"
        }
      ]
    },
    {
      "cell_type": "markdown",
      "metadata": {
        "id": "0Ck7pqzPyEFW"
      },
      "source": [
        "### 시간"
      ]
    },
    {
      "cell_type": "code",
      "metadata": {
        "id": "weqLGlrfyb40"
      },
      "source": [
        "# 157. 현재 시간을 년-월-일 시:분:초로 출력하기(localtime, strftime)\n",
        "\n",
        "from time import localtime, strftime\n",
        "\n",
        "logfile = 'test.log'\n",
        "def writelog(logfile, log):\n",
        "  time_stamp = strftime('%Y-%m-%d %X\\t', localtime())\n",
        "  log = time_stamp + log + '\\n'\n",
        "\n",
        "  with open(logfile, 'a') as f:\n",
        "    f.writelines(log)\n",
        "\n",
        "writelog(logfile, '첫 번째 로깅 문장입니다.')"
      ],
      "execution_count": null,
      "outputs": []
    },
    {
      "cell_type": "code",
      "metadata": {
        "id": "sq9wpjuCZJyF",
        "colab": {
          "base_uri": "https://localhost:8080/"
        },
        "outputId": "36ac38e6-c82d-4847-a440-a1ef8ef527af"
      },
      "source": [
        "# 리스트 컴프리헨션\n",
        "# 1부터 19까지의 숫자 중 홀수만을 포함하는 리스트\n",
        "\n",
        "array = [i for i in range(20) if i%2 == 1]\n",
        "print(array)"
      ],
      "execution_count": null,
      "outputs": [
        {
          "output_type": "stream",
          "text": [
            "[1, 3, 5, 7, 9, 11, 13, 15, 17, 19]\n"
          ],
          "name": "stdout"
        }
      ]
    },
    {
      "cell_type": "code",
      "metadata": {
        "id": "_u2b8VdHiUlc"
      },
      "source": [
        ""
      ],
      "execution_count": null,
      "outputs": []
    }
  ]
}